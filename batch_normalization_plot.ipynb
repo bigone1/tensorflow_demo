{
 "cells": [
  {
   "cell_type": "markdown",
   "metadata": {},
   "source": [
    "之前写的例子没有数据的打印，加上plot，更直观的观察BN是否起作用。\n",
    "先把基础例子写出来，然后给手动带参数的，观察参数。\n",
    "加上存储和读取操作。"
   ]
  },
  {
   "cell_type": "code",
   "execution_count": 17,
   "metadata": {
    "collapsed": true
   },
   "outputs": [],
   "source": [
    "import numpy as np\n",
    "import tensorflow as tf\n",
    "import matplotlib.pyplot as plt\n",
    "ACTIVATION = tf.nn.tanh#换个tanh看看\n",
    "N_LAYERS = 7\n",
    "N_HIDDEN_UNITS = 30\n",
    "on_train = True#训练、测试开关"
   ]
  },
  {
   "cell_type": "code",
   "execution_count": 18,
   "metadata": {
    "collapsed": true
   },
   "outputs": [],
   "source": [
    "def fix_seed(seed=1):\n",
    "    np.random.seed(seed)\n",
    "    tf.set_random_seed(seed)\n",
    "def plot_his(inputs, inputs_norm):\n",
    "    # plot histogram for the inputs of every layer\n",
    "    for j, all_inputs in enumerate([inputs, inputs_norm]):\n",
    "        for i, input in enumerate(all_inputs):\n",
    "            plt.subplot(2, len(all_inputs), j*len(all_inputs)+(i+1))\n",
    "            plt.cla()\n",
    "            if i == 0:\n",
    "                the_range = (-7, 10)\n",
    "            else:\n",
    "                the_range = (-1, 1)\n",
    "            plt.hist(input.ravel(), bins=15, range=the_range, color='#FF5733')\n",
    "            plt.yticks(())\n",
    "            if j == 1:\n",
    "                plt.xticks(the_range)\n",
    "            else:\n",
    "                plt.xticks(())\n",
    "            ax = plt.gca()\n",
    "            ax.spines['right'].set_color('none')\n",
    "            ax.spines['top'].set_color('none')\n",
    "        plt.title(\"%s normalizing\" % (\"Without\" if j == 0 else \"With\"))\n",
    "    plt.draw()\n",
    "    plt.pause(0.01)"
   ]
  },
  {
   "cell_type": "code",
   "execution_count": 19,
   "metadata": {
    "scrolled": true
   },
   "outputs": [],
   "source": [
    "\n",
    "def built_net(xs, ys, norm, on_train):\n",
    "    def add_layer(inputs, in_size, out_size, activation_function = None, norm = False, on_train=True):\n",
    "        Weights = tf.Variable(tf.random_normal([in_size,out_size], mean=0, stddev=1.))\n",
    "        biases = tf.Variable(tf.zeros([1, out_size]) + 0.1)\n",
    "        Wx_plus_b = tf.matmul(inputs, Weights) + biases\n",
    "        \n",
    "        if norm:\n",
    "            # Wx_plus_b = (Wx_plus_b - fc_mean) / tf.sqrt(fc_var + 0.001)\n",
    "            # Wx_plus_b = Wx_plus_b * scale + shift\n",
    "            fc_mean, fc_var = tf.nn.moments(Wx_plus_b,axes=[0])#不是axis，CNN是除了最后一个，这里是第一个。\n",
    "            scale = tf.Variable(tf.ones([out_size]))\n",
    "            shift = tf.Variable(tf.zeros([out_size]))\n",
    "            epsilon = 0.001\n",
    "            \n",
    "            #BN引入ema来更新，不用传统方式（update_ops）\n",
    "            ema = tf.train.ExponentialMovingAverage(decay=0.5)\n",
    "            def mean_var_with_update():\n",
    "                ema_apply_op = ema.apply([fc_mean, fc_var])#tf.trainable_variables()是所有变量，这里只更新mean和var。\n",
    "                with tf.control_dependencies([ema_apply_op]):\n",
    "                    return tf.identity(fc_mean), tf.identity(fc_var)\n",
    "#             mean, var = mean_var_with_update()#区分阶段，选择性更新\n",
    "            mean,var = tf.cond(on_train, mean_var_with_update,#如果on_train是True，运行更新，否则，拿average出来。\n",
    "                              lambda:(ema.average(fc_mean),\n",
    "                                     ema.average(fc_var)))\n",
    "            \n",
    "            Wx_plus_b = tf.nn.batch_normalization(Wx_plus_b, fc_mean, fc_var, shift, scale, epsilon)\n",
    "        \n",
    "        if activation_function is None:\n",
    "            outputs = Wx_plus_b\n",
    "        else:\n",
    "            outputs = activation_function(Wx_plus_b)\n",
    "        return outputs\n",
    "    \n",
    "    \n",
    "    fix_seed(1)\n",
    "    if norm:\n",
    "        fc_mean, fc_var = tf.nn.moments(\n",
    "            xs,\n",
    "            axes=[0],\n",
    "        )\n",
    "        scale = tf.Variable(tf.ones([1]))\n",
    "        shift = tf.Variable(tf.zeros([1]))\n",
    "        epsilon = 0.001\n",
    "        # apply moving average for mean and var when train on batch\n",
    "        ema = tf.train.ExponentialMovingAverage(decay=0.5)\n",
    "        def mean_var_with_update():\n",
    "            ema_apply_op = ema.apply([fc_mean, fc_var])\n",
    "            with tf.control_dependencies([ema_apply_op]):\n",
    "                return tf.identity(fc_mean), tf.identity(fc_var)\n",
    "        #mean, var = mean_var_with_update()\n",
    "        mean,var = tf.cond(on_train, mean_var_with_update,#如果on_train是True，运行更新，否则，拿average出来。\n",
    "                  lambda:(ema.average(fc_mean),\n",
    "                         ema.average(fc_var)))\n",
    "        xs = tf.nn.batch_normalization(xs, mean, var, shift, scale, epsilon)\n",
    "    \n",
    "    layers_inputs = [xs]#初始化，这里边最终会存每一层的输入   \n",
    "\n",
    "    for l_n in range(N_LAYERS):\n",
    "        layer_input = layers_inputs[l_n]\n",
    "        in_size = layers_inputs[l_n].get_shape()[1].value\n",
    "\n",
    "        output = add_layer(\n",
    "            layer_input,\n",
    "            in_size,\n",
    "            N_HIDDEN_UNITS,\n",
    "            ACTIVATION,\n",
    "            norm = norm,\n",
    "            on_train = on_train\n",
    "        )\n",
    "        layers_inputs.append(output)\n",
    "    prediction = add_layer(layers_inputs[-1],30,1,activation_function=None)\n",
    "    cost = tf.reduce_mean(tf.reduce_sum(tf.square(ys-prediction),reduction_indices=[1]))\n",
    "    train_op = tf.train.GradientDescentOptimizer(0.001).minimize(cost)\n",
    "    return [train_op, cost, layers_inputs]\n",
    "\n",
    "# built_net()        "
   ]
  },
  {
   "cell_type": "code",
   "execution_count": null,
   "metadata": {
    "collapsed": true
   },
   "outputs": [],
   "source": []
  },
  {
   "cell_type": "code",
   "execution_count": 20,
   "metadata": {},
   "outputs": [
    {
     "data": {
      "image/png": "[encoded data removed]",
      "text/plain": [
       "<matplotlib.figure.Figure at 0x7f8dfa397f98>"
      ]
     },
     "metadata": {},
     "output_type": "display_data"
    }
   ],
   "source": [
    "#数据\n",
    "fix_seed(1)\n",
    "x_data = np.linspace(-7,10,500)[:,np.newaxis]\n",
    "np.random.shuffle(x_data)#洗掉，方便训练\n",
    "noise = np.random.normal(0,8,x_data.shape)\n",
    "y_data = np.square(x_data) - 5 + noise\n",
    "plt.scatter(x_data,y_data)\n",
    "plt.show()"
   ]
  },
  {
   "cell_type": "code",
   "execution_count": 21,
   "metadata": {},
   "outputs": [],
   "source": [
    "xs = tf.placeholder(tf.float32, [None,1])\n",
    "ys = tf.placeholder(tf.float32, [None,1])\n",
    "on_train = tf.placeholder(tf.bool)\n",
    "train_op,cost,layers_inputs = built_net(xs,ys,norm=False,on_train=on_train)\n",
    "train_op_norm,cost_norm,layers_inputs_norm = built_net(xs,ys,norm=True,on_train=on_train)"
   ]
  },
  {
   "cell_type": "code",
   "execution_count": 22,
   "metadata": {},
   "outputs": [
    {
     "data": {
      "image/png": "[encoded data removed]",
      "text/plain": [
       "<matplotlib.figure.Figure at 0x7f8dfadd7b00>"
      ]
     },
     "metadata": {},
     "output_type": "display_data"
    },
    {
     "data": {
      "image/png": "[encoded data removed]",
      "text/plain": [
       "<matplotlib.figure.Figure at 0x7f8dfa8c6ef0>"
      ]
     },
     "metadata": {},
     "output_type": "display_data"
    }
   ],
   "source": [
    "sess = tf.Session()\n",
    "sess.run(tf.global_variables_initializer())\n",
    "cost_his = []\n",
    "cost_his_norm = []\n",
    "record_step = 5\n",
    "plt.ion()\n",
    "plt.figure(figsize=(7,3))\n",
    "#动态过程看不了，直接执行batch_normalization_plot.py \n",
    "for i in range(251):\n",
    "    if i % 50 == 0:\n",
    "        all_inputs, all_inputs_norm = sess.run(\n",
    "            [layers_inputs, layers_inputs_norm], \n",
    "            feed_dict={xs:x_data, ys:y_data,on_train:True})\n",
    "        plot_his(all_inputs, all_inputs_norm)\n",
    "    sess.run([train_op,train_op_norm], feed_dict = {xs:x_data, ys:y_data,on_train:True})\n",
    "    \n",
    "    if i % record_step == 0:#使用False，使用滑动平均。\n",
    "        cost_his.append(sess.run(cost,feed_dict={xs:x_data,ys:y_data,on_train:False}))\n",
    "        cost_his_norm.append(sess.run(cost_norm, feed_dict={xs:x_data, ys:y_data,on_train:False}))\n",
    "plt.ioff()\n",
    "plt.figure()\n",
    "plt.plot(np.arange(len(cost_his))*record_step, np.array(cost_his), label='no BN')\n",
    "plt.plot(np.arange(len(cost_his))*record_step,np.array(cost_his_norm), label='BN')\n",
    "plt.legend()\n",
    "plt.show()\n"
   ]
  },
  {
   "cell_type": "code",
   "execution_count": 23,
   "metadata": {},
   "outputs": [
    {
     "data": {
      "text/plain": [
       "<matplotlib.figure.Figure at 0x7f8e042dc518>"
      ]
     },
     "metadata": {},
     "output_type": "display_data"
    },
    {
     "data": {
      "image/png": "[encoded data removed]",
      "text/plain": [
       "<matplotlib.figure.Figure at 0x7f8e04602ba8>"
      ]
     },
     "metadata": {},
     "output_type": "display_data"
    }
   ],
   "source": [
    "#测试\n",
    "#接前边训练结果\n",
    "# sess = tf.Session()\n",
    "# sess.run(tf.global_variables_initializer())\n",
    "cost_his = []\n",
    "cost_his_norm = []\n",
    "record_step = 5\n",
    "plt.ion()\n",
    "plt.figure(figsize=(7,3))\n",
    "\n",
    "cost_his.append(sess.run(cost,feed_dict={xs:x_data,ys:y_data,on_train:False}))\n",
    "cost_his_norm.append(sess.run(cost_norm, feed_dict={xs:x_data, ys:y_data,on_train:False}))\n",
    "plt.ioff()\n",
    "plt.figure()\n",
    "plt.plot(np.arange(len(cost_his))*record_step, np.array(cost_his), label='no BN')\n",
    "plt.plot(np.arange(len(cost_his))*record_step,np.array(cost_his_norm), label='BN')\n",
    "plt.legend()\n",
    "plt.show()\n"
   ]
  },
  {
   "cell_type": "code",
   "execution_count": null,
   "metadata": {
    "collapsed": true
   },
   "outputs": [],
   "source": [
    "除了plot这个，我还需要看一下gamma和mean之类的变化。用graph存储？\n",
    "还有前边我写的那个直接拟合一个label作为分布的例子怎么搬过来合适？怎么显示？\n",
    "最后，我的fer2013，怎么调试，怎么显示合适？"
   ]
  },
  {
   "cell_type": "code",
   "execution_count": null,
   "metadata": {
    "collapsed": true
   },
   "outputs": [],
   "source": []
  },
  {
   "cell_type": "code",
   "execution_count": null,
   "metadata": {
    "collapsed": true
   },
   "outputs": [],
   "source": []
  }
 ],
 "metadata": {
  "kernelspec": {
   "display_name": "virtual py36",
   "language": "python",
   "name": "py36"
  },
  "language_info": {
   "codemirror_mode": {
    "name": "ipython",
    "version": 3
   },
   "file_extension": ".py",
   "mimetype": "text/x-python",
   "name": "python",
   "nbconvert_exporter": "python",
   "pygments_lexer": "ipython3",
   "version": "3.6.1"
  }
 },
 "nbformat": 4,
 "nbformat_minor": 2
}
