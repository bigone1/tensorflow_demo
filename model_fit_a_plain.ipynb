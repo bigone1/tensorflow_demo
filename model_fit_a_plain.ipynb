{
 "cells": [
  {
   "cell_type": "markdown",
   "metadata": {},
   "source": [
    "用平面拟合三维数据"
   ]
  },
  {
   "cell_type": "code",
   "execution_count": 1,
   "metadata": {
    "collapsed": true
   },
   "outputs": [],
   "source": [
    "import tensorflow as tf\n",
    "import numpy as np"
   ]
  },
  {
   "cell_type": "code",
   "execution_count": 21,
   "metadata": {},
   "outputs": [
    {
     "name": "stdout",
     "output_type": "stream",
     "text": [
      "WARNING:tensorflow:From /home/qw/anaconda3/envs/py36/lib/python3.6/site-packages/tensorflow/python/util/tf_should_use.py:170: initialize_all_variables (from tensorflow.python.ops.variables) is deprecated and will be removed after 2017-03-02.\n",
      "Instructions for updating:\n",
      "Use `tf.global_variables_initializer` instead.\n"
     ]
    }
   ],
   "source": [
    "# 使用 NumPy 生成假数据(phony data), 总共 100 个点.\n",
    "x_data = np.float32(np.random.rand(2, 10)) # 随机输入\n",
    "x_data2 = np.float32((1,2,3,)) # 随机输入\n",
    "x_data3 = np.float32(np.random.rand(3, 3)) # 随机输入\n",
    "\n",
    "x_data = np.float32(np.random.rand(2, 100)) # 随机输入\n",
    "y_lbl = np.dot([0.100, 0.200], x_data) + 0.300\n"
   ]
  },
  {
   "cell_type": "code",
   "execution_count": null,
   "metadata": {
    "collapsed": true
   },
   "outputs": [],
   "source": [
    "# 构造一个线性模型\n",
    "b = tf.Variable(tf.zeros([1]))\n",
    "W = tf.Variable(tf.random_uniform([1, 2], -1.0, 1.0))\n",
    "y = tf.matmul(W, x_data) + b\n",
    "# 最小化方差\n",
    "loss = tf.reduce_mean(tf.square(y - y_lbl))\n",
    "#不是分类问题，不能用这个来衡量准确率，只能是loss\n",
    "#accuracy = tf.reduce_mean(tf.cast(tf.equal(y,y_lbl),tf.float32))\n",
    "optimizer = tf.train.GradientDescentOptimizer(0.5)\n",
    "train = optimizer.minimize(loss)\n",
    "# 初始化变量\n",
    "init = tf.initialize_all_variables()"
   ]
  },
  {
   "cell_type": "code",
   "execution_count": 22,
   "metadata": {},
   "outputs": [
    {
     "name": "stdout",
     "output_type": "stream",
     "text": [
      "0 [[-0.03308684  0.29504803]] [ 0.68165541]\n",
      "loss: 0.132547\n",
      "20 [[ 0.04526692  0.1823826 ]] [ 0.33806878]\n",
      "loss: 0.0003261\n",
      "40 [[ 0.08806407  0.19247149]] [ 0.31017247]\n",
      "loss: 1.95037e-05\n",
      "60 [[ 0.09731435  0.19725953]] [ 0.30281991]\n",
      "loss: 1.38615e-06\n",
      "80 [[ 0.09937223  0.19907147]] [ 0.30080527]\n",
      "loss: 1.12593e-07\n",
      "100 [[ 0.0998468   0.19969714]] [ 0.30023521]\n",
      "loss: 9.90421e-09\n",
      "120 [[ 0.0999609   0.19990337]] [ 0.30006984]\n",
      "loss: 9.07008e-10\n",
      "140 [[ 0.09998959  0.19996957]] [ 0.30002096]\n",
      "loss: 8.45513e-11\n",
      "160 [[ 0.09999712  0.1999905 ]] [ 0.30000636]\n",
      "loss: 7.98217e-12\n",
      "180 [[ 0.0999992   0.19999704]] [ 0.30000195]\n",
      "loss: 7.51381e-13\n",
      "200 [[ 0.09999976  0.19999906]] [ 0.30000061]\n",
      "loss: 7.44205e-14\n"
     ]
    }
   ],
   "source": [
    "\n",
    "# 启动图 (graph)\n",
    "sess = tf.Session()\n",
    "sess.run(init)\n",
    "\n",
    "# 拟合平面\n",
    "for step in range(0, 201):\n",
    "    sess.run(train)\n",
    "    if step % 20 == 0:\n",
    "        print(step, sess.run(W), sess.run(b))\n",
    "        print('loss:',sess.run(loss))\n",
    "# 得到最佳拟合结果 W: [[0.100 0.200]], b: [0.300]\n"
   ]
  },
  {
   "cell_type": "code",
   "execution_count": 24,
   "metadata": {},
   "outputs": [
    {
     "name": "stdout",
     "output_type": "stream",
     "text": [
      "[[ 0.09999976  0.19999906]]\n",
      "[ 0.30000061]\n"
     ]
    }
   ],
   "source": [
    "print(sess.run(W))\n",
    "print(sess.run(b))"
   ]
  },
  {
   "cell_type": "code",
   "execution_count": null,
   "metadata": {
    "collapsed": true
   },
   "outputs": [],
   "source": []
  }
 ],
 "metadata": {
  "kernelspec": {
   "display_name": "virtual py36",
   "language": "python",
   "name": "py36"
  },
  "language_info": {
   "codemirror_mode": {
    "name": "ipython",
    "version": 3
   },
   "file_extension": ".py",
   "mimetype": "text/x-python",
   "name": "python",
   "nbconvert_exporter": "python",
   "pygments_lexer": "ipython3",
   "version": "3.6.1"
  }
 },
 "nbformat": 4,
 "nbformat_minor": 2
}
