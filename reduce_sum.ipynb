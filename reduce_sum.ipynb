{
 "cells": [
  {
   "cell_type": "markdown",
   "metadata": {},
   "source": [
    "tf的reduce sum操作，和numpy相似，改了参数名。\n",
    "下面是一些关系axis的测试。"
   ]
  },
  {
   "cell_type": "code",
   "execution_count": 9,
   "metadata": {
    "collapsed": true
   },
   "outputs": [],
   "source": [
    "import tensorflow as tf\n",
    "import numpy as np"
   ]
  },
  {
   "cell_type": "code",
   "execution_count": 15,
   "metadata": {},
   "outputs": [
    {
     "name": "stdout",
     "output_type": "stream",
     "text": [
      "[[1 1 1]\n",
      " [1 1 1]]\n",
      "default:\n",
      "6\n",
      "[2 2 2]\n",
      "[3 3]\n",
      "6\n"
     ]
    }
   ],
   "source": [
    "sess = tf.Session()\n",
    "x = tf.constant([[1,1,1],[1,1,1,]])\n",
    "print(sess.run(x))\n",
    "print(\"default:\")\n",
    "print(sess.run(tf.reduce_sum(x)))\n",
    "print(sess.run(tf.reduce_sum(x,0)))\n",
    "print(sess.run(tf.reduce_sum(x,1)))\n",
    "print(sess.run(tf.reduce_sum(x,[0,1])))#两轴"
   ]
  },
  {
   "cell_type": "code",
   "execution_count": 27,
   "metadata": {},
   "outputs": [
    {
     "name": "stdout",
     "output_type": "stream",
     "text": [
      "[[3]\n",
      " [3]]\n",
      "[[1 1 1]\n",
      " [1 1 1]]\n",
      "6\n",
      "[[6]]\n"
     ]
    }
   ],
   "source": [
    "print(sess.run(tf.reduce_sum(x,1,keep_dims = True)))#不支持这个参数:keepdims改名了\n",
    "array = np.array([[1,1,1],[1,1,1]])\n",
    "print(array)\n",
    "print(array.sum())\n",
    "print(array.sum(keepdims=True))#对比：numpy支持"
   ]
  },
  {
   "cell_type": "code",
   "execution_count": 28,
   "metadata": {},
   "outputs": [
    {
     "name": "stdout",
     "output_type": "stream",
     "text": [
      "[[[1 1 1]\n",
      "  [1 1 1]]\n",
      "\n",
      " [[1 1 1]\n",
      "  [1 1 1]]\n",
      "\n",
      " [[1 1 1]\n",
      "  [1 1 1]]]\n",
      "default:\n",
      "18\n",
      "[[3 3 3]\n",
      " [3 3 3]]\n",
      "[[2 2 2]\n",
      " [2 2 2]\n",
      " [2 2 2]]\n",
      "[[3 3]\n",
      " [3 3]\n",
      " [3 3]]\n",
      "[[[2 2 2]]\n",
      "\n",
      " [[2 2 2]]\n",
      "\n",
      " [[2 2 2]]]\n",
      "[6 6 6]\n",
      "18\n"
     ]
    }
   ],
   "source": [
    "x2 = tf.constant([[[1,1,1],[1,1,1]],[[1,1,1],[1,1,1]],[[1,1,1],[1,1,1]]])\n",
    "print(sess.run(x2))\n",
    "print(\"default:\")\n",
    "print(sess.run(tf.reduce_sum(x2)))\n",
    "print(sess.run(tf.reduce_sum(x2,0)))\n",
    "print(sess.run(tf.reduce_sum(x2,1)))\n",
    "print(sess.run(tf.reduce_sum(x2,2)))\n",
    "print(sess.run(tf.reduce_sum(x2,1,keep_dims = True)))#参数改名\n",
    "#三维的，所以需要三轴\n",
    "print(sess.run(tf.reduce_sum(x2,[0,1])))\n",
    "print(sess.run(tf.reduce_sum(x2,[0,1,2])))\n"
   ]
  },
  {
   "cell_type": "code",
   "execution_count": 25,
   "metadata": {},
   "outputs": [
    {
     "name": "stdout",
     "output_type": "stream",
     "text": [
      "Help on function reduce_sum in module tensorflow.python.ops.math_ops:\n",
      "\n",
      "reduce_sum(input_tensor, axis=None, keep_dims=False, name=None, reduction_indices=None)\n",
      "    Computes the sum of elements across dimensions of a tensor.\n",
      "    \n",
      "    Reduces `input_tensor` along the dimensions given in `axis`.\n",
      "    Unless `keep_dims` is true, the rank of the tensor is reduced by 1 for each\n",
      "    entry in `axis`. If `keep_dims` is true, the reduced dimensions\n",
      "    are retained with length 1.\n",
      "    \n",
      "    If `axis` has no entries, all dimensions are reduced, and a\n",
      "    tensor with a single element is returned.\n",
      "    \n",
      "    For example:\n",
      "    \n",
      "    ```python\n",
      "    # 'x' is [[1, 1, 1]\n",
      "    #         [1, 1, 1]]\n",
      "    tf.reduce_sum(x) ==> 6\n",
      "    tf.reduce_sum(x, 0) ==> [2, 2, 2]\n",
      "    tf.reduce_sum(x, 1) ==> [3, 3]\n",
      "    tf.reduce_sum(x, 1, keep_dims=True) ==> [[3], [3]]\n",
      "    tf.reduce_sum(x, [0, 1]) ==> 6\n",
      "    ```\n",
      "    \n",
      "    Args:\n",
      "      input_tensor: The tensor to reduce. Should have numeric type.\n",
      "      axis: The dimensions to reduce. If `None` (the default),\n",
      "        reduces all dimensions.\n",
      "      keep_dims: If true, retains reduced dimensions with length 1.\n",
      "      name: A name for the operation (optional).\n",
      "      reduction_indices: The old (deprecated) name for axis.\n",
      "    \n",
      "    Returns:\n",
      "      The reduced tensor.\n",
      "    \n",
      "    @compatibility(numpy)\n",
      "    Equivalent to np.sum\n",
      "    @end_compatibility\n",
      "\n"
     ]
    }
   ],
   "source": []
  },
  {
   "cell_type": "code",
   "execution_count": null,
   "metadata": {
    "collapsed": true
   },
   "outputs": [],
   "source": []
  },
  {
   "cell_type": "code",
   "execution_count": null,
   "metadata": {
    "collapsed": true
   },
   "outputs": [],
   "source": []
  }
 ],
 "metadata": {
  "kernelspec": {
   "display_name": "virtual py36",
   "language": "python",
   "name": "py36"
  },
  "language_info": {
   "codemirror_mode": {
    "name": "ipython",
    "version": 3
   },
   "file_extension": ".py",
   "mimetype": "text/x-python",
   "name": "python",
   "nbconvert_exporter": "python",
   "pygments_lexer": "ipython3",
   "version": "3.6.1"
  }
 },
 "nbformat": 4,
 "nbformat_minor": 2
}
