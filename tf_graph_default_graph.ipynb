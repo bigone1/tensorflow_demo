{
 "cells": [
  {
   "cell_type": "markdown",
   "metadata": {},
   "source": [
    "tf的graph使用\n"
   ]
  },
  {
   "cell_type": "code",
   "execution_count": 1,
   "metadata": {
    "collapsed": true
   },
   "outputs": [],
   "source": [
    "import tensorflow as tf"
   ]
  },
  {
   "cell_type": "markdown",
   "metadata": {},
   "source": [
    "# 关于全局default graph当前default graph和生成新graph"
   ]
  },
  {
   "cell_type": "code",
   "execution_count": 30,
   "metadata": {},
   "outputs": [
    {
     "name": "stdout",
     "output_type": "stream",
     "text": [
      "real default graph: <tensorflow.python.framework.ops.Graph object at 0x7f7734ed9c88>\n",
      "g is : <tensorflow.python.framework.ops.Graph object at 0x7f7733eb87b8>\n",
      "c belongs to current default graph:\t True\n",
      "current default is real default?\t False\n",
      "<tensorflow.python.framework.ops.Graph object at 0x7f7733eb87b8>\n",
      "<tensorflow.python.framework.ops.Graph object at 0x7f7733e96e80>\n"
     ]
    }
   ],
   "source": [
    "#对比graph，这个常量c所属graph是defaut graph\n",
    "#g是默认graph\n",
    "sess = tf.Session()\n",
    "real_default_graph = tf.get_default_graph()#全局\n",
    "print('real default graph:',real_default_graph)\n",
    "g = tf.Graph()#生成一个graph\n",
    "print('g is :',g)\n",
    "with g.as_default():#局部，as_default，局部get的default graph就是用g设定的。不等于real\n",
    "    c = tf.constant(30.0)\n",
    "    assert c.graph is g\n",
    "    assert c.graph is tf.get_default_graph()\n",
    "    print('c belongs to current default graph:\\t',c.graph ==tf.get_default_graph())\n",
    "    print('current default is real default?\\t',tf.get_default_graph() == real_default_graph)\n",
    "    print(g)\n",
    "g=tf.Graph()\n",
    "with g.as_default():\n",
    "    c = tf.constant(5.0)\n",
    "    print(c.graph)\n",
    "    assert c.graph is g"
   ]
  },
  {
   "cell_type": "code",
   "execution_count": 35,
   "metadata": {},
   "outputs": [
    {
     "name": "stdout",
     "output_type": "stream",
     "text": [
      "c belongs to current default_graph?\t True\n",
      "current default is real default?\t True\n",
      "c belongs to g?\t\t\t\t False\n",
      "<tensorflow.python.framework.ops.Graph object at 0x7f7733e96e80>\n",
      "<tensorflow.python.framework.ops.Graph object at 0x7f7733e929e8>\n",
      "<tensorflow.python.framework.ops.Graph object at 0x7f7733e96be0>\n",
      "<tensorflow.python.framework.ops.Graph object at 0x7f7733e929e8>\n"
     ]
    }
   ],
   "source": [
    "#新的c，首先属于current default graph的，但是current default graph变回real了。\n",
    "c = tf.constant(4.0)\n",
    "print('c belongs to current default_graph?\\t',c.graph is tf.get_default_graph())\n",
    "print('current default is real default?\\t',tf.get_default_graph() == real_default_graph)\n",
    "print('c belongs to g?\\t\\t\\t\\t',c.graph is g)\n",
    "print(g)\n",
    "print(tf.Graph())#这算生成一个\n",
    "print(tf.Graph())#这算生成一个\n",
    "print(tf.Graph())#这算生成一个\n",
    "#help(tf.Graph())"
   ]
  },
  {
   "cell_type": "markdown",
   "metadata": {},
   "source": [
    "## 新例子：variable、reuse和graph。\n",
    "get_variable本来就是存在则获取，不存在则创建，所以reuse与否关系很大。"
   ]
  },
  {
   "cell_type": "code",
   "execution_count": 54,
   "metadata": {},
   "outputs": [
    {
     "name": "stdout",
     "output_type": "stream",
     "text": [
      "140149947700896\n",
      "<tensorflow.python.framework.ops.Graph object at 0x7f7733d91d68>\n",
      "140149966017760\n",
      "<tensorflow.python.framework.ops.Graph object at 0x7f7733d91a90>\n",
      "[[ 0.  0.]\n",
      " [ 0.  0.]]\n",
      "[[ 1.  1.]\n",
      " [ 1.  1.]]\n"
     ]
    }
   ],
   "source": [
    "#重名限制，如果不设置reuse就不可以有重名的v，但是换不同的graph的话\n",
    "g1 = tf.Graph()\n",
    "with g1.as_default():\n",
    "    v=tf.get_variable('v',initializer=tf.zeros_initializer()(shape=[2,2]))\n",
    "    #v=tf.get_variable('v')#：ValueError: Variable v already exists, disallowed. Did you mean to set reuse=True in VarScope? Originally defined at:\\\n",
    "    print(id(v))\n",
    "    print(v.graph)\n",
    "g2 = tf.Graph()\n",
    "with g2.as_default():\n",
    "    v=tf.get_variable('v',initializer=tf.ones_initializer()(shape=[2,2]))\n",
    "    print(id(v))\n",
    "    print(v.graph)\n",
    "#分别从不同的graph获取不同的v。\n",
    "#前文g1和g2都定义了v，默认不让获取重名，必须设置reuse=True：error：v already exists。\n",
    "with tf.Session(graph = g1) as sess:\n",
    "    tf.global_variables_initializer().run()\n",
    "    with tf.variable_scope('',reuse=True):\n",
    "        print(sess.run(tf.get_variable('v')))\n",
    "with tf.Session(graph = g2) as sess:\n",
    "    tf.global_variables_initializer().run()\n",
    "    with tf.variable_scope('', reuse = True):\n",
    "        print(sess.run(tf.get_variable('v')))"
   ]
  },
  {
   "cell_type": "markdown",
   "metadata": {},
   "source": [
    "# 例子：用protobuf形式的配置初始化session\n",
    "记得重启内核，清除不必要的东西。"
   ]
  },
  {
   "cell_type": "code",
   "execution_count": 7,
   "metadata": {},
   "outputs": [
    {
     "name": "stdout",
     "output_type": "stream",
     "text": [
      "gpu_options {\n",
      "  allow_growth: true\n",
      "}\n",
      "\n",
      "<bound method Graph.device of <tensorflow.python.framework.ops.Graph object at 0x7f9502797908>>\n",
      "result: [ 2.  4.]\n"
     ]
    }
   ],
   "source": [
    "config = tf.ConfigProto()#\n",
    "config.gpu_options.allow_growth = True#按需增加GPU容量\n",
    "print(config)\n",
    "sess = tf.Session(config=config)\n",
    "tf.ConfigProto(log_device_placement = True, allow_soft_placement=True)#如果指定的设备不存在，允许自动分配设备，这里没有GPU，所以用CPU执行了。\n",
    "a = tf.constant([1.0,2.0],name = 'a')\n",
    "b = tf.constant([1.0,2.0],name = 'b')\n",
    "\n",
    "g = tf.Graph()\n",
    "with g.device('/gpu:3'):\n",
    "    result = a + b\n",
    "    #print(g.device)\n",
    "    print('result:',sess.run(result))"
   ]
  },
  {
   "cell_type": "code",
   "execution_count": null,
   "metadata": {
    "collapsed": true
   },
   "outputs": [],
   "source": [
    "\n"
   ]
  },
  {
   "cell_type": "code",
   "execution_count": null,
   "metadata": {
    "collapsed": true
   },
   "outputs": [],
   "source": []
  },
  {
   "cell_type": "code",
   "execution_count": null,
   "metadata": {
    "collapsed": true
   },
   "outputs": [],
   "source": []
  },
  {
   "cell_type": "code",
   "execution_count": null,
   "metadata": {
    "collapsed": true
   },
   "outputs": [],
   "source": [
    "#之前的一个例子，文件名是graph demo，不知道和graph有什么关系了。\n",
    "def my_func(pred,tensor):\n",
    "\tt = tf.matmul(tensor,tensor)\n",
    "\twith tf.control_dependencies([pred]):\n",
    "\t\treturn t\n"
   ]
  }
 ],
 "metadata": {
  "kernelspec": {
   "display_name": "virtual py36",
   "language": "python",
   "name": "py36"
  },
  "language_info": {
   "codemirror_mode": {
    "name": "ipython",
    "version": 3
   },
   "file_extension": ".py",
   "mimetype": "text/x-python",
   "name": "python",
   "nbconvert_exporter": "python",
   "pygments_lexer": "ipython3",
   "version": "3.6.1"
  }
 },
 "nbformat": 4,
 "nbformat_minor": 2
}
