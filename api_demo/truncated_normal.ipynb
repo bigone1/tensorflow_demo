{
 "cells": [
  {
   "cell_type": "markdown",
   "metadata": {},
   "source": [
    "# 练习：数据初始化，观察数据规律"
   ]
  },
  {
   "cell_type": "code",
   "execution_count": 2,
   "metadata": {},
   "outputs": [
    {
     "name": "stdout",
     "output_type": "stream",
     "text": [
      "Tensor(\"Const:0\", shape=(2, 2), dtype=float32)\n",
      "\n",
      "[[ 0.  0.]\n",
      " [ 0.  0.]]\n",
      "[[ 0.03333126 -0.05642564]\n",
      " [-0.01825167 -0.03523322]]\n",
      "[[  9.90994835   9.91644096]\n",
      " [  9.8974781   10.09656811]]\n"
     ]
    }
   ],
   "source": [
    "import tensorflow as tf\n",
    "a = tf.constant(0.0, dtype=tf.float32, shape=[2,2])\n",
    "print(a)\n",
    "\n",
    "#mean是均值，随机数围绕这个均值做平均，\n",
    "#std是方差，反应和均值的离散情况\n",
    "mean = 10\n",
    "std = 0.04\n",
    "b = tf.truncated_normal(shape=[2,2],stddev=std)\n",
    "std = 0.1\n",
    "b2 = tf.truncated_normal(shape=[2,2],stddev=std,mean=mean)\n",
    "\n",
    "with tf.Session() as sess:\n",
    "    print()\n",
    "    print(sess.run(a))\n",
    "    print(sess.run(b))\n",
    "    print(sess.run(b2))"
   ]
  },
  {
   "cell_type": "markdown",
   "metadata": {},
   "source": [
    "## 对比相同std下truncated_normal和random_normal的差异\n",
    "reduce_mean肯定比不出来的，虽然比的是每一个点像均值的程度，却不能用总的距离平均来计算。\n",
    "均值是一样的，不一样的是样本离均值的距离，离群点的分布。\n",
    "所以最好把点都打印出来\n",
    "或者直接使用公式计算方差，我之前写过这个：\n",
    "求出均值\n",
    "求出每一个和均值的平方差\n",
    "算平方差的平均值，大的就是方差大。\n",
    "\n",
    "结论：\n",
    "\n",
    "根据实际计算的方差值和打印图形可以看到，同条件下，truncated_normal生成的样本分布更集中一些，确切的说，是严格限制了范围；而普通的random_normal更加离散一些。"
   ]
  },
  {
   "cell_type": "code",
   "execution_count": 23,
   "metadata": {},
   "outputs": [
    {
     "name": "stdout",
     "output_type": "stream",
     "text": [
      "a_mean: 9.99844\n",
      "a_sum_op: 19997.1\n",
      "1 2000\n",
      "std dev: 0.0104308050898\n",
      "b_mean: 9.99913\n",
      "b_sum_op: 20000.0\n",
      "1 2000\n",
      "std dev: 0.00771694847932\n"
     ]
    }
   ],
   "source": [
    "import tensorflow as tf\n",
    "TOTAL_NUM = 2000\n",
    "mean = 10\n",
    "std = 0.1\n",
    "a = tf.random_normal(shape=[1,TOTAL_NUM],stddev=std,mean=mean)\n",
    "b = tf.truncated_normal(shape=[1,TOTAL_NUM],stddev=std,mean=mean)#\n",
    "\n",
    "a_mean_op = tf.reduce_mean(a)\n",
    "a_sum_op = tf.reduce_sum(a)\n",
    "b_mean_op = tf.reduce_mean(b)\n",
    "b_sum_op = tf.reduce_sum(b)\n",
    "\n",
    "with tf.Session() as sess:\n",
    "\n",
    "    a_array = sess.run(a)\n",
    "    a_mean = sess.run(a_mean_op)\n",
    "#     print('array is ', a_array)\n",
    "    print('a_mean:',a_mean)\n",
    "    print('a_sum_op:',sess.run(a_sum_op))\n",
    "    \n",
    "    m,n = a_array.shape\n",
    "    print(m,n)\n",
    "    total_sum = 0\n",
    "    for i in range(m):\n",
    "        for j in range(n):\n",
    "            total_sum += (a_array[i][j] - a_mean) ** 2\n",
    "    print('std dev:',total_sum / (m * n))#\n",
    "   \n",
    "    b_array = sess.run(b)\n",
    "    b_mean = sess.run(b_mean_op)\n",
    "#     print('array is ', a_array)\n",
    "    print('b_mean:',b_mean)\n",
    "    print('b_sum_op:',sess.run(b_sum_op))\n",
    "    \n",
    "    m,n = b_array.shape\n",
    "    print(m,n)\n",
    "    total_sum = 0\n",
    "    for i in range(m):\n",
    "        for j in range(n):\n",
    "            total_sum += (b_array[i][j] - b_mean) ** 2\n",
    "    print('std dev:',total_sum / (m * n))#\n",
    "#truncated之后，stddev明显小了。\n",
    "# std dev: 0.00249366443742\n",
    "# std dev: 0.00193549154665      "
   ]
  },
  {
   "cell_type": "code",
   "execution_count": 24,
   "metadata": {},
   "outputs": [
    {
     "name": "stdout",
     "output_type": "stream",
     "text": [
      "<class 'numpy.ndarray'>\n",
      "[[  9.97136021  10.0256691   10.0187254  ...,  10.16883755   9.96155643\n",
      "   10.05189514]]\n",
      "(2000,)\n",
      "<class 'numpy.ndarray'>\n"
     ]
    },
    {
     "data": {
      "image/png": "[encoded data removed]",
      "text/plain": [
       "<matplotlib.figure.Figure at 0x7f3559940470>"
      ]
     },
     "metadata": {},
     "output_type": "display_data"
    }
   ],
   "source": [
    "import matplotlib.pyplot as plt\n",
    "\n",
    "print(type(a_array))\n",
    "print(a_array)\n",
    "\n",
    "#    a_array和b_array\n",
    "x = np.arange(0,TOTAL_NUM)\n",
    "print(x.shape)\n",
    "print(type(a_array))\n",
    "plt.subplot(211)\n",
    "plt.plot(x, a_array[0])\n",
    "plt.subplot(212)\n",
    "plt.plot(x, b_array[0])\n",
    "plt.show()"
   ]
  },
  {
   "cell_type": "markdown",
   "metadata": {},
   "source": [
    "## 方差带二分之一\n",
    "实测都是按二分之一"
   ]
  },
  {
   "cell_type": "code",
   "execution_count": 4,
   "metadata": {},
   "outputs": [
    {
     "name": "stdout",
     "output_type": "stream",
     "text": [
      "a_mean: 10.0001\n",
      "a_sum_op: 3.99992e+06\n",
      "200 2000\n",
      "std dev: 0.00250153158386\n",
      "b_mean: 9.99905\n",
      "b_sum_op: 3.99993e+06\n",
      "200 2000\n",
      "std dev: 0.249596810692\n"
     ]
    }
   ],
   "source": [
    "import tensorflow as tf\n",
    "mean = 10\n",
    "std = 0.05\n",
    "a = tf.random_normal(shape=[200,2000],stddev=std,mean=mean)\n",
    "std = 0.5\n",
    "b = tf.random_normal(shape=[200,2000],stddev=std,mean=mean)\n",
    "\n",
    "a_mean_op = tf.reduce_mean(a)\n",
    "a_sum_op = tf.reduce_sum(a)\n",
    "b_mean_op = tf.reduce_mean(b)\n",
    "b_sum_op = tf.reduce_sum(b)\n",
    "\n",
    "with tf.Session() as sess:\n",
    "\n",
    "    a_array = sess.run(a)\n",
    "    a_mean = sess.run(a_mean_op)\n",
    "#     print('array is ', a_array)\n",
    "    print('a_mean:',a_mean)\n",
    "    print('a_sum_op:',sess.run(a_sum_op))\n",
    "    \n",
    "    m,n = a_array.shape\n",
    "    print(m,n)\n",
    "    total_sum = 0\n",
    "    for i in range(m):\n",
    "        for j in range(n):\n",
    "            total_sum += (a_array[i][j] - a_mean) ** 2\n",
    "    print('std dev:',total_sum / (m * n))#实测都在0.0025左右，和0.05不符。可能他就是按二分之一\n",
    "   \n",
    "    b_array = sess.run(b)\n",
    "    b_mean = sess.run(b_mean_op)\n",
    "#     print('array is ', a_array)\n",
    "    print('b_mean:',b_mean)\n",
    "    print('b_sum_op:',sess.run(b_sum_op))\n",
    "    \n",
    "    m,n = b_array.shape\n",
    "    print(m,n)\n",
    "    total_sum = 0\n",
    "    for i in range(m):\n",
    "        for j in range(n):\n",
    "            total_sum += (b_array[i][j] - b_mean) ** 2\n",
    "    print('std dev:',total_sum / (m * n))#实测都在0.25左右，和0.5不符。可能他就是按二分之一\n",
    "                     "
   ]
  },
  {
   "cell_type": "markdown",
   "metadata": {},
   "source": [
    "## 前边先reduce_mean再sess.run和先sess.run再reduce_mean再sess.run，两种写法得到不一样的值，区别？\n",
    "不是类型的变换问题，应该是tf-np-tf中间过程造成的损失，不过如果用个比较大的均值，可以忽略。"
   ]
  },
  {
   "cell_type": "code",
   "execution_count": 5,
   "metadata": {},
   "outputs": [
    {
     "name": "stdout",
     "output_type": "stream",
     "text": [
      "Tensor(\"Const_10:0\", shape=(2, 2), dtype=float64)\n",
      "1.5\n",
      "3.5\n",
      "array is  [[ 1.  3.]\n",
      " [ 3.  4.]]\n",
      "b1_mean_op: 2\n",
      "b1_sum_op: 11\n",
      "b2_mean_op: 2.75\n",
      "b2_sum_op: 11.0\n",
      "b1_mean1: 2\n",
      "b2_mean1: 2.75\n"
     ]
    }
   ],
   "source": [
    "import tensorflow as tf\n",
    "import numpy as np\n",
    "mean = 10\n",
    "std = 0.1\n",
    "b1 = tf.constant(np.array([[1,3],[3,4]]))#因为默认是int64,reduce_mean也自动向下取整了。\n",
    "b2 = tf.constant(np.array([[1,3],[3,4]]),dtype=tf.float64)\n",
    "b1_mean_op = tf.reduce_mean(b1)\n",
    "b1_sum_op = tf.reduce_sum(b1)\n",
    "b2_mean_op = tf.reduce_mean(b2)\n",
    "b2_sum_op = tf.reduce_sum(b2)\n",
    "print(b2)\n",
    "\n",
    "with tf.Session() as sess:\n",
    "    print((1+2)/2)\n",
    "    print((3+4)/2)\n",
    "    b1_array = sess.run(b1)\n",
    "    b2_array = sess.run(b2)\n",
    "    print('array is ', b2_array)\n",
    "    print('b1_mean_op:',sess.run(b1_mean_op))\n",
    "    print('b1_sum_op:',sess.run(b1_sum_op))\n",
    "    print('b2_mean_op:',sess.run(b2_mean_op))\n",
    "    print('b2_sum_op:',sess.run(b2_sum_op))\n",
    "\n",
    "    b1_mean1 = sess.run(tf.reduce_mean(b1_array))\n",
    "    print('b1_mean1:',b1_mean1)\n",
    "    b2_mean1 = sess.run(tf.reduce_mean(b2_array))#浮点数就维持一致\n",
    "    print('b2_mean1:',b2_mean1)\n",
    "    "
   ]
  },
  {
   "cell_type": "code",
   "execution_count": 6,
   "metadata": {},
   "outputs": [
    {
     "name": "stdout",
     "output_type": "stream",
     "text": [
      "float32\n",
      "a_mean_op: 1000.01\n",
      "a_sum_op: 200000.0\n",
      "a_mean1: 1000.0\n",
      "a_sum1: 200001.0\n",
      "float64\n",
      "a2_mean_op: 999.990225646\n",
      "a2_sum_op: 199998.81495\n",
      "a2_mean1: 1000.00815023\n",
      "a2_sum1: 200001.630046\n"
     ]
    }
   ],
   "source": [
    "#换成随机小数后，仍然是有差距，可能是小数的精度问题？加上有这么一个tf-np-tf迂回的操作\n",
    "import tensorflow as tf\n",
    "mean = 1\n",
    "mean = 1000#换一个大数，这种差距可以忽略,但是总是有差距\n",
    "std = 0.1\n",
    "a = tf.truncated_normal(shape=[20,10],stddev=std,mean=mean)#默认是float32\n",
    "a2 = tf.truncated_normal(shape=[20,10],stddev=std,mean=mean,dtype=tf.float64)\n",
    "a_mean_op = tf.reduce_mean(a)\n",
    "a_sum_op = tf.reduce_sum(a)\n",
    "a2_mean_op = tf.reduce_mean(a2)\n",
    "a2_sum_op = tf.reduce_sum(a2)\n",
    "\n",
    "with tf.Session() as sess:\n",
    "    a_array = sess.run(a)\n",
    "    print(a_array.dtype)\n",
    "#     print('array is ', a_array)\n",
    "    print('a_mean_op:',sess.run(a_mean_op))\n",
    "    print('a_sum_op:',sess.run(a_sum_op))\n",
    "\n",
    "    a_mean1 = sess.run(tf.reduce_mean(a_array))\n",
    "    a_sum1 = sess.run(tf.reduce_sum(a_array))\n",
    "    print('a_mean1:',a_mean1)\n",
    "    print('a_sum1:',a_sum1)\n",
    "    \n",
    "    a2_array = sess.run(a2)\n",
    "    print(a2_array.dtype)\n",
    "#     print('array is ', a2_array)\n",
    "    print('a2_mean_op:',sess.run(a2_mean_op))\n",
    "    print('a2_sum_op:',sess.run(a2_sum_op))\n",
    "\n",
    "    a2_mean1 = sess.run(tf.reduce_mean(a2_array))\n",
    "    a2_sum1 = sess.run(tf.reduce_sum(a2_array))\n",
    "    print('a2_mean1:',a2_mean1)\n",
    "    print('a2_sum1:',a2_sum1)\n"
   ]
  },
  {
   "cell_type": "code",
   "execution_count": null,
   "metadata": {
    "collapsed": true
   },
   "outputs": [],
   "source": []
  },
  {
   "cell_type": "code",
   "execution_count": null,
   "metadata": {
    "collapsed": true
   },
   "outputs": [],
   "source": []
  },
  {
   "cell_type": "code",
   "execution_count": null,
   "metadata": {
    "collapsed": true
   },
   "outputs": [],
   "source": []
  },
  {
   "cell_type": "code",
   "execution_count": null,
   "metadata": {
    "collapsed": true
   },
   "outputs": [],
   "source": []
  },
  {
   "cell_type": "markdown",
   "metadata": {},
   "source": [
    "# 以前的一个例子"
   ]
  },
  {
   "cell_type": "code",
   "execution_count": null,
   "metadata": {
    "collapsed": true
   },
   "outputs": [],
   "source": [
    "import tensorflow as tf\n",
    "c = tf.truncated_normal(shape=[5,6])\n",
    "c2 = tf.truncated_normal(shape=[52,62],mean=0,stddev=2)\n",
    "c3 = tf.truncated_normal(shape=[5,6],mean=1,stddev=1)\n",
    "c4 = tf.truncated_normal(shape=[5,6],mean=100,stddev=1)\n",
    "d = tf.random_normal([5,6])#0,1\n",
    "d2 = tf.random_normal([5,6],0,10)\n",
    "d3 = tf.random_normal([5,6],100,1)\n",
    "d4 = tf.random_normal([5,6],100,2)\n",
    "d5 = tf.random_normal([23,26],0,2)\n",
    "# d5_above4 = 1 if d5 > 4 else 0#TypeError: Using a `tf.Tensor` as a Python `bool` is not allowed. Use `if t is not None:` instead of `if t:` to test if a tensor is defined, and use TensorFlow ops such as tf.cond to execute subgraphs conditioned on the value of a tensor.\n",
    "# d5_above4_sum = tf.reduce_sum(d5_above4)\n",
    "\n",
    "with tf.Session() as sess:\n",
    "    print('default:\\n',sess.run(c))\n",
    "    print('mean=100,stddev=2:\\n',sess.run(c2))\n",
    "    print('mean=1,stddev=1:\\n',sess.run(c3))\n",
    "    print('mean=2,stddev=1:\\n',sess.run(c4))\n",
    "\n",
    "\n",
    "    print('to compare,normal distribution')\n",
    "    print('default:\\n',sess.run(d))\n",
    "    print('mean=0,stddev=10:\\n',sess.run(d2))\n",
    "    print('mean=100,stddev=1:\\n',sess.run(d3))\n",
    "    print('mean=100,stddev=2:\\n',sess.run(d4))\n",
    "    d5_ = sess.run(d5)\n",
    "    d5_above4 = d5_ > 4\n",
    "    counter = 0\n",
    "    for boolean_list in d5_above4:\n",
    "        for boolean in boolean_list:\n",
    "            # print(boolean)\n",
    "            if boolean == True:\n",
    "                counter += 1\n",
    "                # print('true')\n",
    "    print('numbers > 2*stddev in d5:', counter)\n",
    "\n",
    "    c2_ = sess.run(c2)\n",
    "    c2_above4 = c2_ > 4\n",
    "    counter = 0\n",
    "    for boolean_list in c2_above4:\n",
    "        for boolean in boolean_list:\n",
    "            # print(boolean)\n",
    "            if boolean == True:\n",
    "                counter += 1\n",
    "                # print('true')\n",
    "    print('numbers > 2*stddev in c2:', counter)\n",
    "\n",
    "    \n"
   ]
  }
 ],
 "metadata": {
  "kernelspec": {
   "display_name": "virtual py36",
   "language": "python",
   "name": "py36"
  },
  "language_info": {
   "codemirror_mode": {
    "name": "ipython",
    "version": 3
   },
   "file_extension": ".py",
   "mimetype": "text/x-python",
   "name": "python",
   "nbconvert_exporter": "python",
   "pygments_lexer": "ipython3",
   "version": "3.6.1"
  }
 },
 "nbformat": 4,
 "nbformat_minor": 2
}
