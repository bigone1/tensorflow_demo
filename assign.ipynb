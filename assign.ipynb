{
 "cells": [
  {
   "cell_type": "code",
   "execution_count": null,
   "metadata": {
    "collapsed": true
   },
   "outputs": [],
   "source": []
  },
  {
   "cell_type": "code",
   "execution_count": 1,
   "metadata": {
    "collapsed": true
   },
   "outputs": [],
   "source": [
    "import tensorflow as tf"
   ]
  },
  {
   "cell_type": "code",
   "execution_count": null,
   "metadata": {
    "collapsed": true
   },
   "outputs": [],
   "source": []
  },
  {
   "cell_type": "markdown",
   "metadata": {},
   "source": [
    "# assign两种调用：其实都是一种，v对象调用assign，赋值，并返回tensor"
   ]
  },
  {
   "cell_type": "code",
   "execution_count": 16,
   "metadata": {},
   "outputs": [
    {
     "name": "stdout",
     "output_type": "stream",
     "text": [
      "<class 'tensorflow.python.framework.ops.Tensor'>\n"
     ]
    }
   ],
   "source": [
    "v = tf.Variable(3,name='v')\n",
    "v2 = v.assign(5)\n",
    "v3 = tf.assign(v,6)#change v,and return new value to v3!!!!!!!\n",
    "print(type(v3))\n",
    "update = tf.assign(v,10)#v3就如同update，本质是一个op，不是一个variable"
   ]
  },
  {
   "cell_type": "code",
   "execution_count": 11,
   "metadata": {},
   "outputs": [
    {
     "name": "stdout",
     "output_type": "stream",
     "text": [
      "v is : 3\n",
      "5\n",
      "6\n",
      "after run(v3): v is  6\n",
      "10\n",
      "after run(update): v is  10\n"
     ]
    }
   ],
   "source": [
    "sess = tf.InteractiveSession()\n",
    "sess.run(v.initializer)\n",
    "print('v is :',sess.run(v))\n",
    "print(sess.run(v2))\n",
    "print(sess.run(v3))\n",
    "print('after run(v3): v is ',sess.run(v))\n",
    "sess.run(update)\n",
    "print(sess.run(v))\n",
    "print('after run(update): v is ',sess.run(v))"
   ]
  },
  {
   "cell_type": "code",
   "execution_count": 3,
   "metadata": {
    "collapsed": true
   },
   "outputs": [],
   "source": [
    "#demo2\n",
    "v = tf.Variable(3,name='v')\n",
    "v.assign(5)\n",
    "v2 = v.assign(5)"
   ]
  },
  {
   "cell_type": "code",
   "execution_count": 15,
   "metadata": {},
   "outputs": [
    {
     "name": "stdout",
     "output_type": "stream",
     "text": [
      "3\n",
      "5\n",
      "5\n"
     ]
    }
   ],
   "source": [
    "#sess = tf.InteractiveSession()\n",
    "with tf.Session() as sess:\n",
    "    sess.run(v.initializer)\n",
    "    print(sess.run(v))#无变化，sess.run(v)不隐含自赋值操作，不会执行那个v.assign\n",
    "    print(sess.run(v2))\n",
    "    print(sess.run(v))"
   ]
  },
  {
   "cell_type": "markdown",
   "metadata": {},
   "source": [
    "# demo3：两种自加操作"
   ]
  },
  {
   "cell_type": "code",
   "execution_count": 5,
   "metadata": {},
   "outputs": [
    {
     "name": "stdout",
     "output_type": "stream",
     "text": [
      "<class 'tensorflow.python.ops.variables.Variable'>\n",
      "<class 'tensorflow.python.framework.ops.Tensor'>\n"
     ]
    }
   ],
   "source": [
    "v = tf.Variable(3,name='v')\n",
    "# v = v.assign(5)#weird error:Tensor has no attribute 'assign'\n",
    "#v.assign(5)\n",
    "#tf.assign(v,5)\n",
    "print(type(v))\n",
    "v = tf.add(v,1)#这个操作改变了性质，导致assign报错\n",
    "print(type(v))\n",
    "#tf.assign() actually called Tensor obj's assign()??\n",
    "#v2 = v.assign(5)AttributeError: 'Tensor' object has no attribute 'assign'\n",
    "v2 = v"
   ]
  },
  {
   "cell_type": "code",
   "execution_count": 6,
   "metadata": {},
   "outputs": [
    {
     "name": "stdout",
     "output_type": "stream",
     "text": [
      "4\n"
     ]
    }
   ],
   "source": [
    "init = tf.global_variables_initializer()\n",
    "with tf.Session() as sess:\n",
    "    sess.run(init)\n",
    "    print(sess.run(v2))#不用run(v)，那个自加操作也生效了，在计算图中"
   ]
  },
  {
   "cell_type": "code",
   "execution_count": null,
   "metadata": {
    "collapsed": true
   },
   "outputs": [],
   "source": [
    "#demo3：另一种自加操作"
   ]
  },
  {
   "cell_type": "code",
   "execution_count": 20,
   "metadata": {},
   "outputs": [
    {
     "name": "stdout",
     "output_type": "stream",
     "text": [
      "<class 'tensorflow.python.ops.variables.Variable'>\n",
      "<class 'tensorflow.python.ops.variables.Variable'>\n"
     ]
    }
   ],
   "source": [
    "v = tf.Variable(3,name='v')\n",
    "print(type(v))\n",
    "update = tf.assign(v,v+1)#用这个操作保持v性质不变，并且自加\n",
    "print(type(v))\n",
    "v2 = v"
   ]
  },
  {
   "cell_type": "code",
   "execution_count": 24,
   "metadata": {},
   "outputs": [
    {
     "name": "stdout",
     "output_type": "stream",
     "text": [
      "3\n",
      "3\n",
      "update: 4\n",
      "4\n",
      "4\n"
     ]
    }
   ],
   "source": [
    "init = tf.global_variables_initializer()\n",
    "with tf.Session() as sess:\n",
    "    sess.run(init)\n",
    "    print(sess.run(v))\n",
    "    print(sess.run(v2))\n",
    "    print('update:',sess.run(update))\n",
    "    print(sess.run(v))\n",
    "    print(sess.run(v2))"
   ]
  },
  {
   "cell_type": "code",
   "execution_count": null,
   "metadata": {
    "collapsed": true
   },
   "outputs": [],
   "source": []
  },
  {
   "cell_type": "code",
   "execution_count": null,
   "metadata": {
    "collapsed": true
   },
   "outputs": [],
   "source": [
    "#shuffle的版本，换一种写法：img和label两个个batch合并起来一次读出\n",
    "#实测：裸写都没问题\n",
    "import tensorflow as tf\n",
    "import fer_config as config\n",
    "from PIL import Image\n",
    "\n",
    "#生产者通道\n",
    "tfRecord_path = config.tfRecord_train\n",
    "filename_queue = tf.train.string_input_producer([tfRecord_path])#文件名队列\n",
    "reader = tf.TFRecordReader()\n",
    "tmp, serialized_example = reader.read(filename_queue)#从文件队列拿文件名，读取文件，这个时候给返回的k-v对，k到底指什么？v是dict？\n",
    "print(type(serialized_example))\n",
    "features = tf.parse_single_example(serialized_example,#解析\n",
    "                                  features={#和存储对应\n",
    "                                      'label':tf.FixedLenFeature([7],tf.int64),\n",
    "                                      'img_raw':tf.FixedLenFeature([], tf.string)\n",
    "                                  })\n",
    "img_not_decode = features['img_raw']\n",
    "img = tf.decode_raw(features['img_raw'],tf.uint8)#之前Img对象被按像素转成bytes（属于平铺）又转成二进制存储了。不过读出来首先是Tensor，接口也得用tf\n",
    "print(type(img))\n",
    "img.set_shape([config.img_height * config.img_height])\n",
    "img_not_cast = img\n",
    "img_final = tf.cast(img, tf.float32) * (1./255)#数值成了0~1，为了训练收敛快\n",
    "label = tf.cast(features['label'], tf.float32)\n",
    "# return img, label\n",
    "img_batch, label_batch = tf.train.shuffle_batch(\n",
    "    [img, label], batch_size = 2, num_threads = 2,capacity = 10000, min_after_dequeue=5000)#一次取两个\n",
    "\n",
    "print('filename_queue:',filename_queue)\n",
    "with tf.Session() as sess:\n",
    "    tf.global_variables_initializer().run()\n",
    "    \n",
    "\n",
    "    coord=tf.train.Coordinator()\n",
    "    threads=tf.train.start_queue_runners(sess=sess,coord=coord)\n",
    "\n",
    "    print('label:',sess.run(label))\n",
    "    #分解下一个例子的错误代码\n",
    "    xs= sess.run(img_batch)\n",
    "    ys = sess.run(label_batch)\n",
    "    print(type(xs),xs.shape)#2*2304，也对啊\n",
    "    print(xs)\n",
    "    print(xs[0])#这个操作本身也对啊\n",
    "    print('label:',ys[0])#这个操作本身也对啊\n",
    "    xs0 = xs[0].reshape(48,48)\n",
    "    xs0_img = Image.fromarray(xs0)\n",
    "#     xs0_img.show()#打印也没问题\n",
    "    \n",
    "    #错在这个中括号加两个tensor？不该\n",
    "    xs, ys = sess.run([img_batch, label_batch])\n",
    "    print(type(xs),xs.shape)\n",
    "    print(xs[0])#这个操作本身也对啊\n",
    "    print('label:',ys[0])#这个操作本身也对啊\n",
    "    \n",
    "    coord.request_stop()\n",
    "    coord.join(threads)    \n"
   ]
  },
  {
   "cell_type": "code",
   "execution_count": null,
   "metadata": {
    "collapsed": true
   },
   "outputs": [],
   "source": []
  },
  {
   "cell_type": "code",
   "execution_count": null,
   "metadata": {
    "collapsed": true
   },
   "outputs": [],
   "source": []
  }
 ],
 "metadata": {
  "kernelspec": {
   "display_name": "virtual py36",
   "language": "python",
   "name": "py36"
  },
  "language_info": {
   "codemirror_mode": {
    "name": "ipython",
    "version": 3
   },
   "file_extension": ".py",
   "mimetype": "text/x-python",
   "name": "python",
   "nbconvert_exporter": "python",
   "pygments_lexer": "ipython3",
   "version": "3.6.1"
  }
 },
 "nbformat": 4,
 "nbformat_minor": 2
}
