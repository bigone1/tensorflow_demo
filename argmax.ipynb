{
 "cells": [
  {
   "cell_type": "markdown",
   "metadata": {},
   "source": [
    "和numpy的argmax几乎一样"
   ]
  },
  {
   "cell_type": "code",
   "execution_count": 2,
   "metadata": {
    "collapsed": true
   },
   "outputs": [],
   "source": [
    "import tensorflow as tf\n",
    "import numpy as np"
   ]
  },
  {
   "cell_type": "code",
   "execution_count": 3,
   "metadata": {},
   "outputs": [
    {
     "name": "stdout",
     "output_type": "stream",
     "text": [
      "[4]\n",
      "[2 1]\n",
      "[1 1 0]\n",
      "[2 2 2]\n",
      "[2 1 0]\n"
     ]
    }
   ],
   "source": [
    "\n",
    "A=[[1,3,4,5,6]]\n",
    "B = [[1,3,4],[2,4,1]]\n",
    "C = [[1,3,4],[2,4,1],[100,33,44]]\n",
    "with tf.Session() as sess:\n",
    "\tprint(sess.run(tf.argmax(A,1)))\n",
    "\tprint(sess.run(tf.argmax(B,1)))\n",
    "\tprint(sess.run(tf.argmax(B)))\n",
    "\tprint(sess.run(tf.argmax(C,0)))\n",
    "\tprint(sess.run(tf.argmax(C,1)))\n",
    "#\tprint(sess.run(tf.argmax(B,2)))\n",
    "\n",
    "\n"
   ]
  },
  {
   "cell_type": "code",
   "execution_count": 15,
   "metadata": {},
   "outputs": [
    {
     "name": "stdout",
     "output_type": "stream",
     "text": [
      "4\n",
      "2\n",
      "[2 1]\n",
      "6\n",
      "[2 2 2]\n",
      "[2 1 0]\n"
     ]
    }
   ],
   "source": [
    "print(np.argmax(A))\n",
    "print(np.argmax(B))\n",
    "print(np.argmax(B,axis=1))\n",
    "print(np.argmax(C))\n",
    "print(np.argmax(C,0))\n",
    "print(np.argmax(C,1))"
   ]
  },
  {
   "cell_type": "code",
   "execution_count": 6,
   "metadata": {},
   "outputs": [
    {
     "name": "stdout",
     "output_type": "stream",
     "text": [
      "0\n"
     ]
    }
   ],
   "source": [
    "with tf.Session() as sess:\n",
    "# \tprint(sess.run(tf.argmax([1,0,0],1)))#一个错误例子，别人教程里边瞎编的\n",
    "\tprint(sess.run(tf.argmax([1,0,0],0)))\n"
   ]
  },
  {
   "cell_type": "code",
   "execution_count": null,
   "metadata": {
    "collapsed": true
   },
   "outputs": [],
   "source": []
  }
 ],
 "metadata": {
  "kernelspec": {
   "display_name": "virtual py36",
   "language": "python",
   "name": "py36"
  },
  "language_info": {
   "codemirror_mode": {
    "name": "ipython",
    "version": 3
   },
   "file_extension": ".py",
   "mimetype": "text/x-python",
   "name": "python",
   "nbconvert_exporter": "python",
   "pygments_lexer": "ipython3",
   "version": "3.6.1"
  }
 },
 "nbformat": 4,
 "nbformat_minor": 2
}
