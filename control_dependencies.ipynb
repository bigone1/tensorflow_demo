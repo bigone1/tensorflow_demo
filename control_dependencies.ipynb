{
 "cells": [
  {
   "cell_type": "markdown",
   "metadata": {},
   "source": [
    "依赖控制:通过依赖控制强行执行没有“硬”依赖的项。"
   ]
  },
  {
   "cell_type": "code",
   "execution_count": 1,
   "metadata": {
    "collapsed": true
   },
   "outputs": [],
   "source": [
    "import tensorflow as tf"
   ]
  },
  {
   "cell_type": "markdown",
   "metadata": {},
   "source": [
    "## control_dependencies手动指定依赖示例"
   ]
  },
  {
   "cell_type": "code",
   "execution_count": 4,
   "metadata": {},
   "outputs": [
    {
     "name": "stdout",
     "output_type": "stream",
     "text": [
      "hello b\n"
     ]
    }
   ],
   "source": [
    "a = 5\n",
    "b = tf.constant(value = 1)\n",
    "with tf.control_dependencies([b]):\n",
    "    print('hello b')\n",
    "#with tf.control_dependencies([a]):#不能依赖整型：can't convert int to tensor\n",
    "#    print('hello world')"
   ]
  },
  {
   "cell_type": "markdown",
   "metadata": {},
   "source": [
    "## 对比：计算图直接依赖和control_dependencies间接依赖，对x_plus_1。"
   ]
  },
  {
   "cell_type": "code",
   "execution_count": 8,
   "metadata": {},
   "outputs": [
    {
     "name": "stdout",
     "output_type": "stream",
     "text": [
      "y: 1.0\n",
      "y: 2.0\n",
      "y: 3.0\n",
      "y: 4.0\n",
      "y: 5.0\n"
     ]
    }
   ],
   "source": [
    "x = tf.Variable(0.0)\n",
    "x_plus_1 = tf.assign_add(x,1,name='x_plus_1')\n",
    "with tf.control_dependencies([x_plus_1]):\n",
    "    y = x_plus_1\n",
    "\n",
    "init = tf.global_variables_initializer()\n",
    "\n",
    "with tf.Session() as sess:\n",
    "    sess.run(init)\n",
    "    writer = tf.summary.FileWriter('logs/',graph = sess.graph)\n",
    "    for i in range(5):\n",
    "        print('y:',sess.run(y))"
   ]
  },
  {
   "cell_type": "code",
   "execution_count": 15,
   "metadata": {},
   "outputs": [
    {
     "name": "stdout",
     "output_type": "stream",
     "text": [
      "operation_a return:\n",
      "y: 1.0, x: 1.0, y: 2.0, x: 2.0, y: 3.0, x: 3.0, "
     ]
    }
   ],
   "source": [
    "x = tf.Variable(0.0)\n",
    "x_plus_1 = tf.assign_add(x,1,name='x_plus_1')\n",
    "\n",
    "def operation_a():#对比：显式依赖x_plus_1，但是计算图中y2只依赖x\n",
    "    with tf.control_dependencies([x_plus_1]):\n",
    "        y2 = x + 0.0#必要\n",
    "    return y2,x\n",
    "\n",
    "init = tf.global_variables_initializer()\n",
    "\n",
    "with tf.Session() as sess:\n",
    "    sess.run(init)\n",
    "    writer = tf.summary.FileWriter('logs/',graph = sess.graph)\n",
    "    print('operation_a return:')\n",
    "    for i in range(3):\n",
    "        y_out,x_out = sess.run(operation_a())\n",
    "        print('y:',y_out,end=', ')\n",
    "        print('x:',x_out,end=', ')"
   ]
  },
  {
   "cell_type": "markdown",
   "metadata": {},
   "source": [
    "## example3：对比，operation_b，y2=x就不行，y2=x+0.0就可以。"
   ]
  },
  {
   "cell_type": "code",
   "execution_count": 18,
   "metadata": {},
   "outputs": [
    {
     "name": "stdout",
     "output_type": "stream",
     "text": [
      "yout2: 1.0\n",
      "xout2: 1.0\n",
      "yout2: 2.0\n",
      "xout2: 2.0\n",
      "yout2: 3.0\n",
      "xout2: 3.0\n",
      "yout2: 4.0\n",
      "xout2: 4.0\n",
      "yout2: 5.0\n",
      "xout2: 5.0\n"
     ]
    }
   ],
   "source": [
    "\n",
    "x = tf.Variable(0.0)\n",
    "x_plus_1 = tf.assign_add(x,1,name='x_plus_1')\n",
    "\n",
    "def operation_b():\n",
    "    with tf.control_dependencies([x_plus_1]):\n",
    "        y2 = x#+0.0#wrong\n",
    "    return y2,x\n",
    "\n",
    "init = tf.global_variables_initializer()\n",
    "\n",
    "with tf.Session() as sess:\n",
    "    sess.run(init)\n",
    "    writer = tf.summary.FileWriter('logs/',graph = sess.graph)\n",
    "    for i in range(5):\n",
    "       y_out2,x_out2 = sess.run(operation_b())\n",
    "       print('yout2:',y_out2)\n",
    "       print('xout2:',x_out2)"
   ]
  },
  {
   "cell_type": "code",
   "execution_count": null,
   "metadata": {
    "collapsed": true
   },
   "outputs": [],
   "source": []
  },
  {
   "cell_type": "code",
   "execution_count": null,
   "metadata": {
    "collapsed": true
   },
   "outputs": [],
   "source": []
  },
  {
   "cell_type": "code",
   "execution_count": null,
   "metadata": {
    "collapsed": true
   },
   "outputs": [],
   "source": []
  }
 ],
 "metadata": {
  "kernelspec": {
   "display_name": "virtual py36",
   "language": "python",
   "name": "py36"
  },
  "language_info": {
   "codemirror_mode": {
    "name": "ipython",
    "version": 3
   },
   "file_extension": ".py",
   "mimetype": "text/x-python",
   "name": "python",
   "nbconvert_exporter": "python",
   "pygments_lexer": "ipython3",
   "version": "3.6.1"
  }
 },
 "nbformat": 4,
 "nbformat_minor": 2
}
