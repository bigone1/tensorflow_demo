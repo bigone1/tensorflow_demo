{
 "cells": [
  {
   "cell_type": "markdown",
   "metadata": {},
   "source": [
    "接口使用"
   ]
  },
  {
   "cell_type": "code",
   "execution_count": 1,
   "metadata": {
    "collapsed": true
   },
   "outputs": [],
   "source": [
    "import tensorflow as tf"
   ]
  },
  {
   "cell_type": "code",
   "execution_count": 2,
   "metadata": {},
   "outputs": [
    {
     "name": "stdout",
     "output_type": "stream",
     "text": [
      "[1 2 3 4 5 6 7 8]\n"
     ]
    }
   ],
   "source": [
    "t = tf.constant([1,2,3,4,5,6,7,8])\n",
    "sess = tf.Session()\n",
    "print(sess.run(t))"
   ]
  },
  {
   "cell_type": "markdown",
   "metadata": {},
   "source": [
    "# 用strided_slice来切t，设定起点终点下标，左闭右开"
   ]
  },
  {
   "cell_type": "code",
   "execution_count": 3,
   "metadata": {},
   "outputs": [
    {
     "name": "stdout",
     "output_type": "stream",
     "text": [
      "[2 3 4 5 6 7]\n"
     ]
    }
   ],
   "source": [
    "t1 = tf.strided_slice(t,[1],[-1])\n",
    "print(sess.run(t1))"
   ]
  },
  {
   "cell_type": "code",
   "execution_count": 15,
   "metadata": {},
   "outputs": [
    {
     "name": "stdout",
     "output_type": "stream",
     "text": [
      "[4 5 6 7 8]\n",
      "[1 2 3 4 5 6 7]\n"
     ]
    }
   ],
   "source": [
    "#如果不用超大数值，左闭右开拿不到所有元素，t2“越界”写法可以拿到\n",
    "t2 = tf.strided_slice(t,[3],[999])#stands for -0\n",
    "print(sess.run(t2))\n",
    "#负数不等于逆向，负数在下标界永远指倒数第几个\n",
    "t22 = tf.strided_slice(t,[0],[-1])\n",
    "print(sess.run(t22))"
   ]
  },
  {
   "cell_type": "code",
   "execution_count": 16,
   "metadata": {},
   "outputs": [
    {
     "name": "stdout",
     "output_type": "stream",
     "text": [
      "[2 3]\n"
     ]
    }
   ],
   "source": [
    "t3 = tf.strided_slice(t,[1],[3])\n",
    "print(sess.run(t3))"
   ]
  },
  {
   "cell_type": "code",
   "execution_count": 11,
   "metadata": {},
   "outputs": [
    {
     "name": "stdout",
     "output_type": "stream",
     "text": [
      "[1 2 3 4 5 6 7]\n"
     ]
    }
   ],
   "source": []
  },
  {
   "cell_type": "markdown",
   "metadata": {},
   "source": [
    "# 加上stride"
   ]
  },
  {
   "cell_type": "code",
   "execution_count": 12,
   "metadata": {},
   "outputs": [
    {
     "name": "stdout",
     "output_type": "stream",
     "text": [
      "[1 2 3 4 5 6 7]\n",
      "[1 3 5 7]\n",
      "[1 4 7]\n"
     ]
    }
   ],
   "source": [
    "\n",
    "#t41 = tf.strided_slice(t,[0],[-1],[0])#must be non-zero\n",
    "t42 = tf.strided_slice(t,[0],[-1],[1])\n",
    "t43 = tf.strided_slice(t,[0],[-1],[2])\n",
    "t44 = tf.strided_slice(t,[0],[-1],[3])\n",
    "print(sess.run(t42))\n",
    "print(sess.run(t43))\n",
    "print(sess.run(t44))"
   ]
  },
  {
   "cell_type": "code",
   "execution_count": 9,
   "metadata": {},
   "outputs": [
    {
     "name": "stdout",
     "output_type": "stream",
     "text": [
      "[4 5]\n"
     ]
    }
   ],
   "source": [
    "t5 = tf.strided_slice(t,[3],[5])\n",
    "print(sess.run(t5))"
   ]
  },
  {
   "cell_type": "markdown",
   "metadata": {},
   "source": [
    "# 逆向，逆向加负数stride"
   ]
  },
  {
   "cell_type": "code",
   "execution_count": 14,
   "metadata": {},
   "outputs": [
    {
     "name": "stdout",
     "output_type": "stream",
     "text": [
      "[]\n",
      "[6 5]\n",
      "[]\n"
     ]
    }
   ],
   "source": [
    "\n",
    "t52 = tf.strided_slice(t,[5],[3])\n",
    "t53 = tf.strided_slice(t,[5],[3],[-1])\n",
    "t54 = tf.strided_slice(t,[5],[3],[1])\n",
    "#print(sess.run(t41))\n",
    "print(sess.run(t52))\n",
    "print(sess.run(t53))\n",
    "print(sess.run(t54))"
   ]
  },
  {
   "cell_type": "markdown",
   "metadata": {},
   "source": [
    "# 更复杂的例子——三维，基本上每个维度分开控制"
   ]
  },
  {
   "cell_type": "code",
   "execution_count": 19,
   "metadata": {},
   "outputs": [
    {
     "name": "stdout",
     "output_type": "stream",
     "text": [
      "[[[11 12 13]\n",
      "  [21 22 23]]\n",
      "\n",
      " [[31 32 33]\n",
      "  [41 42 43]]\n",
      "\n",
      " [[51 52 53]\n",
      "  [61 62 63]]]\n"
     ]
    }
   ],
   "source": [
    "t = tf.constant([[[11, 12, 13], [21, 22, 23]],\n",
    "                 [[31, 32, 33], [41, 42, 43]],\n",
    "                 [[51, 52, 53], [61, 62, 63]]])\n",
    "print(sess.run(t))"
   ]
  },
  {
   "cell_type": "code",
   "execution_count": 20,
   "metadata": {},
   "outputs": [
    {
     "name": "stdout",
     "output_type": "stream",
     "text": [
      "[[[31 32 33]]]\n"
     ]
    }
   ],
   "source": [
    "#最外层1到2,锁定到31,32,33,41,42,43\n",
    "#第二层0到1,锁定到31,32,33\n",
    "#第三层0到3,锁定到31,32,33\n",
    "t1 = tf.strided_slice(input_ = t,begin = [1,0,0], end = [2,1,3], strides = [1,1,1])\n",
    "print(sess.run(t1))"
   ]
  },
  {
   "cell_type": "code",
   "execution_count": 21,
   "metadata": {},
   "outputs": [
    {
     "name": "stdout",
     "output_type": "stream",
     "text": [
      "[[[41 42 43]\n",
      "  [31 32 33]]]\n"
     ]
    }
   ],
   "source": [
    "#最外层1到2,锁定到31,32,33,41,42,43\n",
    "#第二层-1到-3,stride-1,锁定41,42,43,31,32,33,\n",
    "#第三层0到3,锁定全部\n",
    "#注意最终顺序，因为第二层是逆序，所以4开头的那个list在3开头的list前边。\n",
    "t2 = tf.strided_slice(t, [1, -1, 0], [2, -3, 3], [1, -1, 1])\n",
    "print(sess.run(t2))"
   ]
  },
  {
   "cell_type": "code",
   "execution_count": 22,
   "metadata": {},
   "outputs": [
    {
     "name": "stdout",
     "output_type": "stream",
     "text": [
      "[[[41 42]\n",
      "  [31 32]]]\n"
     ]
    }
   ],
   "source": [
    "#最外层1到2,锁定到31,32,33,41,42,43\n",
    "#第二层-1到-3,stride-1,锁定41,42,43,31,32,33,\n",
    "#第三层0到2,锁定局部，41,42,31,32\n",
    "#注意最终顺序，因为第二层是逆序，所以4开头的那个list在3开头的list前边。\n",
    "t22 = tf.strided_slice(t, [1, -1, 0], [2, -3, 2], [1, -1, 1])\n",
    "print(sess.run(t22))"
   ]
  },
  {
   "cell_type": "code",
   "execution_count": 23,
   "metadata": {},
   "outputs": [
    {
     "name": "stdout",
     "output_type": "stream",
     "text": [
      "[]\n"
     ]
    }
   ],
   "source": [
    "#最外层1到1,无\n",
    "t23 = tf.strided_slice(t, [1, -1, 0], [1, -3, 2], [1, -1, 1])\n",
    "print(sess.run(t23))"
   ]
  },
  {
   "cell_type": "code",
   "execution_count": 24,
   "metadata": {},
   "outputs": [
    {
     "name": "stdout",
     "output_type": "stream",
     "text": [
      "[[[41 43]\n",
      "  [31 33]]]\n"
     ]
    }
   ],
   "source": [
    "#最外层1到2,锁定到31,32,33,41,42,43\n",
    "#第二层-1到-3,stride-1,锁定41,42,43,31,32,33,\n",
    "#第三层0到3,锁定全部，但是stride=2，41,43,31,33\n",
    "#注意最终顺序，因为第二层是逆序，所以4开头的那个list在3开头的list前边。\n",
    "t24 = tf.strided_slice(t, [1, -1, 0], [2, -3, 3], [1, -1, 2])\n",
    "print(sess.run(t24))"
   ]
  },
  {
   "cell_type": "code",
   "execution_count": null,
   "metadata": {
    "collapsed": true
   },
   "outputs": [],
   "source": []
  }
 ],
 "metadata": {
  "kernelspec": {
   "display_name": "virtual py36",
   "language": "python",
   "name": "py36"
  },
  "language_info": {
   "codemirror_mode": {
    "name": "ipython",
    "version": 3
   },
   "file_extension": ".py",
   "mimetype": "text/x-python",
   "name": "python",
   "nbconvert_exporter": "python",
   "pygments_lexer": "ipython3",
   "version": "3.6.1"
  }
 },
 "nbformat": 4,
 "nbformat_minor": 2
}
