{
 "cells": [
  {
   "cell_type": "code",
   "execution_count": 12,
   "metadata": {
    "collapsed": true
   },
   "outputs": [],
   "source": [
    "import tensorflow as tf\n",
    "import numpy as np"
   ]
  },
  {
   "cell_type": "markdown",
   "metadata": {},
   "source": [
    "## 测形状限制：batch的形状定义。\n",
    "想用batch形状，必须是None做axis0,否则形状不匹配报错,定义的时候没有-1这个写法\n",
    "-1是reshape用的，用来自动算形状"
   ]
  },
  {
   "cell_type": "code",
   "execution_count": 7,
   "metadata": {},
   "outputs": [
    {
     "name": "stdout",
     "output_type": "stream",
     "text": [
      "[[ 1.  4.]]\n"
     ]
    }
   ],
   "source": [
    "#\n",
    "x = tf.placeholder(dtype = tf.float32, shape=(1,2))\n",
    "y = x**2\n",
    "with tf.Session() as sess:\n",
    "    print(sess.run(y,{x:[[1,2]]}))\n",
    "    #print(sess.run(y,{x:[[3,4],[1,2]]}))\n",
    "    #ValueError: Cannot feed value of shape (2, 2) for Tensor 'Placeholder_3:0', which has shape '(1, 2)'"
   ]
  },
  {
   "cell_type": "code",
   "execution_count": 8,
   "metadata": {},
   "outputs": [
    {
     "name": "stdout",
     "output_type": "stream",
     "text": [
      "[[ 1.  4.]]\n",
      "[[  9.  16.]\n",
      " [  1.   4.]]\n"
     ]
    }
   ],
   "source": [
    "x = tf.placeholder(dtype = tf.float32, shape=(None,2))\n",
    "y = x**2\n",
    "with tf.Session() as sess:\n",
    "    print(sess.run(y,{x:[[1,2]]}))\n",
    "    print(sess.run(y,{x:[[3,4],[1,2]]}))"
   ]
  },
  {
   "cell_type": "code",
   "execution_count": 11,
   "metadata": {
    "collapsed": true
   },
   "outputs": [],
   "source": [
    "#x = tf.placeholder(dtype = tf.float32, shape=(-1,2))#ValueError: Dimension -1 must be >= 0"
   ]
  },
  {
   "cell_type": "code",
   "execution_count": 14,
   "metadata": {},
   "outputs": [
    {
     "ename": "TypeError",
     "evalue": "Required argument 'object' (pos 1) not found",
     "output_type": "error",
     "traceback": [
      "\u001b[0;31m---------------------------------------------------------------------------\u001b[0m",
      "\u001b[0;31mTypeError\u001b[0m                                 Traceback (most recent call last)",
      "\u001b[0;32m<ipython-input-14-80be9fe2f82e>\u001b[0m in \u001b[0;36m<module>\u001b[0;34m()\u001b[0m\n\u001b[0;32m----> 1\u001b[0;31m \u001b[0ma\u001b[0m \u001b[0;34m=\u001b[0m \u001b[0mnp\u001b[0m\u001b[0;34m.\u001b[0m\u001b[0marray\u001b[0m\u001b[0;34m(\u001b[0m\u001b[0mshape\u001b[0m\u001b[0;34m=\u001b[0m\u001b[0;34m(\u001b[0m\u001b[0;34m-\u001b[0m\u001b[0;36m1\u001b[0m\u001b[0;34m,\u001b[0m\u001b[0;36m2\u001b[0m\u001b[0;34m)\u001b[0m\u001b[0;34m)\u001b[0m\u001b[0;34m\u001b[0m\u001b[0m\n\u001b[0m",
      "\u001b[0;31mTypeError\u001b[0m: Required argument 'object' (pos 1) not found"
     ]
    }
   ],
   "source": [
    "a = np.array(shape=(-1,2))"
   ]
  },
  {
   "cell_type": "code",
   "execution_count": 25,
   "metadata": {},
   "outputs": [
    {
     "name": "stdout",
     "output_type": "stream",
     "text": [
      "Tensor(\"Const_8:0\", shape=(3, 5), dtype=int32)\n",
      "Tensor(\"Reshape_9:0\", shape=(5, 3), dtype=int32)\n",
      "Tensor(\"Reshape_10:0\", shape=(15, 1), dtype=int32)\n"
     ]
    }
   ],
   "source": [
    "#使用-1来reshape\n",
    "a = tf.constant([[1,2,3,3,4],[4,4,4,4,4],[3,3,3,3,3]])#尾部多追加的括号不影响shape计算，还是按5算。\n",
    "print(a)\n",
    "a1 = tf.reshape(a,[-1,3])\n",
    "print(a1)\n",
    "a2 = tf.reshape(a,[-1,1])\n",
    "print(a2)\n",
    "#必须能整除。\n",
    "#a3 = tf.reshape(a,[-1,2])\n",
    "#ValueError: Dimension size must be evenly divisible by 2 but is 15 for 'Reshape_8' \n",
    "#(op: 'Reshape') with input shapes: [3,5], [2] and with input tensors computed as partial shapes: input[1] = [?,2]."
   ]
  },
  {
   "cell_type": "code",
   "execution_count": 46,
   "metadata": {},
   "outputs": [
    {
     "name": "stdout",
     "output_type": "stream",
     "text": [
      "Tensor(\"Reshape_39:0\", shape=(5, 3), dtype=float32)\n",
      "Tensor(\"Reshape_40:0\", shape=(3, 5), dtype=float32)\n",
      "Tensor(\"tf_shape_func_12:0\", shape=(2,), dtype=int32)\n",
      "<class 'tensorflow.python.framework.ops.Tensor'>\n",
      "a1: Tensor(\"Reshape_39:0\", shape=(5, 3), dtype=float32)\n",
      "<class 'tensorflow.python.framework.ops.Tensor'>\n",
      "Tensor(\"strided_slice_21:0\", shape=(), dtype=int32)\n",
      "get_shape: (5, 3)\n",
      "a1's shape[0]: 5\n",
      "a1's shape[1]: 3\n"
     ]
    }
   ],
   "source": [
    "\n",
    "a = tf.constant([[1., 2, 3, 4, 5], [1, 2, 3, 4, 5], [1, 2, 3, 4, 5]])\n",
    "a1 = tf.reshape(a, [-1, 3])  # 形状是5,3\n",
    "a2 = tf.reshape(a, [3, -1])  # 形状是3,5       #\n",
    "print(a1)\n",
    "print(a2)\n",
    "\n",
    "#同时改变shape和type\n",
    "out = tf.shape(a1,name='tf_shape_func', out_type=tf.int32)\n",
    "print(out)\n",
    "print(type(out))\n",
    "print('a1:',a1)#也不改变输入tensor，是个ops，改变的是这个op的输出。\n",
    "print(type(a1))\n",
    "#用来获取输入张量的batch_size\n",
    "shape_a1 = tf.shape(a1)\n",
    "print(shape_a1[0])\n",
    "print('get_shape:',a1.get_shape())#张量自带属性得到shape\n",
    "with tf.Session() as sess:\n",
    "    print('a1\\'s shape[0]:',sess.run(shape_a1[0]))#\n",
    "    print('a1\\'s shape[1]:',sess.run(shape_a1[1]))#"
   ]
  },
  {
   "cell_type": "code",
   "execution_count": 66,
   "metadata": {},
   "outputs": [
    {
     "name": "stdout",
     "output_type": "stream",
     "text": [
      "(2, 5)\n",
      "(2,)\n",
      "(2, 5)\n",
      "(5,)\n",
      "<class 'tensorflow.python.framework.tensor_shape.TensorShape'>\n",
      "<class 'tensorflow.python.framework.tensor_shape.TensorShape'>\n",
      "2\n",
      "[0:-1]： 2\n",
      "[1:-1]： 1\n",
      "[1:5]： 5\n",
      "[1:2]： 5\n",
      "10\n"
     ]
    }
   ],
   "source": [
    "#计算元素总个数。\n",
    "a = tf.constant([[1, 2, 3, 4, 5], [1, 2, 3, 4, 5]])\n",
    "sess = tf.Session()\n",
    "print(a.get_shape())\n",
    "print(a.get_shape()[0:1])  # 这等于只取axis=0\n",
    "print(a.get_shape()[0:2])\n",
    "print(a.get_shape()[1:2])\n",
    "print(type(a.get_shape()))#TensorShape类型。\n",
    "print(type(a.get_shape()[1:2]))#TensorShape类型。\n",
    "print(a.get_shape()[0:1].num_elements())  # 2\n",
    "print('[0:-1]：',a.get_shape()[0:-1].num_elements())  # \n",
    "print('[1:-1]：',a.get_shape()[1:-1].num_elements())  # 老样子，-1不能覆盖最后一个，还不如写个大数\n",
    "print('[1:5]：',a.get_shape()[1:5].num_elements())  # 5\n",
    "print('[1:2]：',a.get_shape()[1:2].num_elements())  # \n",
    "print(a.get_shape()[0:2].num_elements())  # 10，他把2和5乘起来了。。。他是把指定范围的元素算出个数\n",
    "#Returns the total number of elements, or none for incomplete shapes.\n",
    "sess.close()\n",
    "#num_elements是TensorShape的属性，array和list无效。"
   ]
  },
  {
   "cell_type": "markdown",
   "metadata": {},
   "source": [
    "## 类型转换"
   ]
  },
  {
   "cell_type": "code",
   "execution_count": 31,
   "metadata": {},
   "outputs": [
    {
     "name": "stdout",
     "output_type": "stream",
     "text": [
      "Tensor(\"Const_13:0\", shape=(2,), dtype=float32)\n",
      "Tensor(\"ops_to_double_1:0\", shape=(2,), dtype=float64)\n",
      "Tensor(\"ops_to_float32_1:0\", shape=(2,), dtype=float32)\n",
      "Tensor(\"ops_to_int32_1:0\", shape=(2,), dtype=int32)\n",
      "Tensor(\"ops_to_int64:0\", shape=(2,), dtype=int64)\n"
     ]
    }
   ],
   "source": [
    "a = tf.constant([1.,2.],dtype = tf.float32)\n",
    "print(a)\n",
    "a1 = tf.to_double(a, name = 'ops_to_double')#double就是float64\n",
    "print(a1)\n",
    "a11 = tf.to_float(a1, name = 'ops_to_float32')#double就是float64\n",
    "print(a11)\n",
    "a2 = tf.to_int32(a, name = 'ops_to_int32')\n",
    "print(a2)\n",
    "a3 = tf.to_int64(a, name = 'ops_to_int64')\n",
    "print(a3)"
   ]
  },
  {
   "cell_type": "code",
   "execution_count": null,
   "metadata": {
    "collapsed": true
   },
   "outputs": [],
   "source": []
  },
  {
   "cell_type": "code",
   "execution_count": null,
   "metadata": {
    "collapsed": true
   },
   "outputs": [],
   "source": []
  },
  {
   "cell_type": "markdown",
   "metadata": {
    "collapsed": true
   },
   "source": [
    "## reshape复习"
   ]
  },
  {
   "cell_type": "code",
   "execution_count": null,
   "metadata": {
    "collapsed": true
   },
   "outputs": [],
   "source": [
    "#variable tensor都没有reshape功能，tf有,variable应该是不支持变动的吧？\n",
    "#reshape是个ops,不是改的variable和tensor本身，是返回tensor，MOOC北大教程说改变tensor，私以为不正确。\n",
    "# b = tf.Variable(np.arange(12)).reshape(4,3)#'Variable' object has no attribute 'reshape'\n",
    "b = tf.constant(np.arange(12))#'Variable' object has no attribute 'reshape'\n",
    "# b = b.reshape(4,3)#'Tensor' object has no attribute 'reshape'\n",
    "\n",
    "c = tf.reshape(b,(3,4))#不支持同时变dtype。\n",
    "print('tf.reshape\\'s type is ',type(tf.reshape))\n",
    "print('c type is ',type(c))\n",
    "print(b)\n",
    "print(c)"
   ]
  },
  {
   "cell_type": "code",
   "execution_count": null,
   "metadata": {
    "collapsed": true
   },
   "outputs": [],
   "source": [
    "#reshape操作的排序依据？完全flat，然后按顺序填充？应该是没别的办法了\n",
    "a = tf.Variable(np.arange(12).reshape(6,2))\n",
    "b = tf.reshape(a,(2,6))\n",
    "c = tf.reshape(a,(3,4))\n",
    "d = tf.reshape(a,(-1,4))#-1更常见一些，自动调整，lenet5例中flatten那一步的reshape，第一个维度就可以用-1,因为后边已经算好了。\n",
    "\n",
    "print(a)\n",
    "\n",
    "with tf.Session() as sess:\n",
    "    tf.global_variables_initializer().run()\n",
    "    print(sess.run(a))\n",
    "    print(sess.run(b))\n",
    "    print(sess.run(c))\n",
    "    print('d:\\n',sess.run(d))\n",
    "#print(b)"
   ]
  }
 ],
 "metadata": {
  "kernelspec": {
   "display_name": "virtual py36",
   "language": "python",
   "name": "py36"
  },
  "language_info": {
   "codemirror_mode": {
    "name": "ipython",
    "version": 3
   },
   "file_extension": ".py",
   "mimetype": "text/x-python",
   "name": "python",
   "nbconvert_exporter": "python",
   "pygments_lexer": "ipython3",
   "version": "3.6.1"
  }
 },
 "nbformat": 4,
 "nbformat_minor": 2
}
