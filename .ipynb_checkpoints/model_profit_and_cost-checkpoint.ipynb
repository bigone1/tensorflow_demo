{
 "cells": [
  {
   "cell_type": "markdown",
   "metadata": {},
   "source": [
    "\n",
    "# 预测指导产量，最大化总利润：\n",
    "成本损失，利润损失。\n",
    "如果指导多生产，滞销，有成本损失，如果少生产，有利润损失。\n",
    "\n",
    "例子1：成本和利润损失，对y的影响平等。\n",
    "loss = tf.reduce_mean(tf.square(y_ - y))\n",
    "w1: [[ 1.01073086]\n",
    "[ 0.99547988]]\n",
    "#总和：2.005\n",
    "\n",
    "\n",
    "例子2.1：成本和利润损失，对y的影响不平等。有权重。单纯MSE就不能衡量利润了。本例系数：成本损失1,利润损失9.\n",
    "\n",
    "COST = 1\n",
    "PROFIT = 9\n",
    "loss = tf.reduce_sum(tf.where(tf.greater(y,y_), (y-y_)*COST,(y_-y)*PROFIT))\n",
    "w1: [[ 1.12403703]\n",
    " [ 0.9461537 ]]\n",
    "最终得到的w1,总和2.070\n",
    "和前者明显不同，倾向于预测更大的总和。\n",
    "结果：w1总的更大，倾向于高产量。\n",
    "\n",
    "例子2.2：成本和利润损失，对y的影响不平等。有权重。单纯MSE就不能衡量利润了。本例系数：成本损失1,利润损失9.\n",
    "COST = 9\n",
    "PROFIT = 1\n",
    "结果：w1总的更小，不过最后一次可能有点过小了（Momentum造成的，SGD不会）。\n",
    "w1: [[ 0.95781273]\n",
    " [ 0.97853577]]\n",
    "\n",
    "\n",
    "例子2.3：成本和利润损失，对y的影响不平等。有权重。单纯MSE就不能衡量利润了。本例系数：成本损失5,利润损失5.\n",
    "原则上，结果应该和例子1一致\n",
    "w1: [[ 1.0408988 ]\n",
    " [ 1.07546258]]\n",
    " 2.115\n",
    "\n",
    "\n",
    "区别主要是loss，是对y预测多寡的惩罚不同，x1和x2没有具体含义。\n"
   ]
  },
  {
   "cell_type": "code",
   "execution_count": 1,
   "metadata": {
    "collapsed": true
   },
   "outputs": [],
   "source": [
    "import tensorflow as tf\n",
    "import numpy as np"
   ]
  },
  {
   "cell_type": "code",
   "execution_count": 7,
   "metadata": {
    "collapsed": true
   },
   "outputs": [],
   "source": [
    "BATCH_SIZE = 64\n",
    "DATA_SIZE = 256\n",
    "SEED = 23455\n",
    "COST = 5\n",
    "PROFIT = 5"
   ]
  },
  {
   "cell_type": "code",
   "execution_count": 8,
   "metadata": {},
   "outputs": [
    {
     "name": "stdout",
     "output_type": "stream",
     "text": [
      "0.49517288969\n",
      "0.495503961307\n",
      "0.994177\n"
     ]
    }
   ],
   "source": [
    "#X每个特征均值0.5,Y均值1\n",
    "#X不是随机的么，不是每个数值均值1?是0~1均匀分布，均值0.5\n",
    "rdm = np.random.RandomState(SEED)\n",
    "X = rdm.rand(DATA_SIZE,2)#shape，DATA_SIZE个样本，2个属性\n",
    "X2 = rdm.rand(DATA_SIZE,5)#shape，DATA_SIZE个样本，2个属性\n",
    "Y = [[x1 + x2 + rdm.rand()/10.0-0.05] for (x1, x2) in X]#加入噪音,均值0\n",
    "# print(Y)\n",
    "with tf.Session() as sess:\n",
    "    print(sess.run(tf.reduce_mean(X)))#也可以借助tf计算均值\n",
    "    print(sess.run(tf.reduce_mean(X2)))#也可以借助tf计算均值\n",
    "    print(sess.run(tf.reduce_mean(Y)))#也可以借助tf计算均值"
   ]
  },
  {
   "cell_type": "code",
   "execution_count": 9,
   "metadata": {},
   "outputs": [],
   "source": [
    "x = tf.placeholder(tf.float32, shape=(None,2))\n",
    "y_ = tf.placeholder(tf.float32, shape=(None,1))\n",
    "w1 = tf.Variable(tf.random_normal([2,1],stddev=1,seed=1))\n",
    "y = tf.matmul(x,w1)\n",
    "\n",
    "#两种loss，一个是对等MSE，一个是有权重的\n",
    "# loss = tf.reduce_mean(tf.square(y_ - y))\n",
    "\n",
    "#如果y比y_大，预测多了，损失成本，系数COST，预测少了，系数PROFIT\n",
    "loss = tf.reduce_sum(tf.where(tf.greater(y,y_), (y-y_)*COST,(y_-y)*PROFIT))\n",
    "\n",
    "\n",
    "#train_op = tf.train.MomentumOptimizer(0.001,0.9).minimize(loss)#本例尽量不要用momentum，感觉影响有点大\n",
    "train_op = tf.train.GradientDescentOptimizer(0.001).minimize(loss)"
   ]
  },
  {
   "cell_type": "code",
   "execution_count": 10,
   "metadata": {},
   "outputs": [
    {
     "name": "stdout",
     "output_type": "stream",
     "text": [
      "w1: [[-0.81131822]\n",
      " [ 1.48459876]]\n",
      "w1: [[-0.67947483]\n",
      " [ 1.56272602]]\n",
      "w1: [[ 1.03902912]\n",
      " [ 1.0869782 ]]\n",
      "w1: [[ 1.03967905]\n",
      " [ 1.07788849]]\n",
      "w1: [[ 1.03597975]\n",
      " [ 1.07681155]]\n",
      "w1: [[ 1.04148865]\n",
      " [ 1.0766449 ]]\n",
      "w1: [[ 1.03778934]\n",
      " [ 1.07556796]]\n",
      "w1: [[ 1.04329824]\n",
      " [ 1.07540131]]\n",
      "w1: [[ 1.03959894]\n",
      " [ 1.07432437]]\n",
      "w1: [[ 1.04510784]\n",
      " [ 1.07415771]]\n",
      "w1: [[ 1.04383802]\n",
      " [ 1.0775423 ]]\n",
      "w1: [[ 1.04204392]\n",
      " [ 1.07587433]]\n",
      "w1: [[ 1.04077423]\n",
      " [ 1.07925892]]\n",
      "w1: [[ 1.0370748 ]\n",
      " [ 1.07818198]]\n",
      "w1: [[ 1.04258382]\n",
      " [ 1.07801533]]\n",
      "w1: [[ 1.0388844 ]\n",
      " [ 1.07693839]]\n",
      "w1: [[ 1.0443933 ]\n",
      " [ 1.07677174]]\n",
      "w1: [[ 1.040694 ]\n",
      " [ 1.0756948]]\n",
      "w1: [[ 1.0369947 ]\n",
      " [ 1.07461786]]\n",
      "w1: [[ 1.0425036 ]\n",
      " [ 1.07445121]]\n",
      "w1: [[ 1.04123378]\n",
      " [ 1.0778358 ]]\n",
      "w1: [[ 1.03753448]\n",
      " [ 1.07675886]]\n",
      "w1: [[ 1.04304338]\n",
      " [ 1.07659221]]\n",
      "w1: [[ 1.03934407]\n",
      " [ 1.07551527]]\n",
      "w1: [[ 1.04485297]\n",
      " [ 1.07534862]]\n",
      "w1: [[ 1.04358327]\n",
      " [ 1.07873321]]\n",
      "w1: [[ 1.03988385]\n",
      " [ 1.07765627]]\n",
      "w1: [[ 1.03618455]\n",
      " [ 1.07657933]]\n",
      "w1: [[ 1.04359865]\n",
      " [ 1.07582164]]\n",
      "w1: [[ 1.03989935]\n",
      " [ 1.0747447 ]]\n",
      "w1: [[ 1.03862953]\n",
      " [ 1.07812929]]\n",
      "w1: [[ 1.04413843]\n",
      " [ 1.07796264]]\n",
      "w1: [[ 1.04043913]\n",
      " [ 1.0768857 ]]\n",
      "w1: [[ 1.03673983]\n",
      " [ 1.07580876]]\n",
      "w1: [[ 1.04224873]\n",
      " [ 1.07564211]]\n",
      "w1: [[ 1.04097903]\n",
      " [ 1.0790267 ]]\n",
      "w1: [[ 1.03727961]\n",
      " [ 1.07794976]]\n",
      "w1: [[ 1.04278851]\n",
      " [ 1.07778311]]\n",
      "w1: [[ 1.0390892 ]\n",
      " [ 1.07670617]]\n",
      "w1: [[ 1.0445981 ]\n",
      " [ 1.07653952]]\n",
      "w1: [[ 1.0408988 ]\n",
      " [ 1.07546258]]\n"
     ]
    }
   ],
   "source": [
    "with tf.Session() as sess:\n",
    "    init = tf.global_variables_initializer()\n",
    "    sess.run(init)\n",
    "    STEPS = 20000\n",
    "    print('w1:',sess.run(w1))\n",
    "    for i in range(STEPS):\n",
    "        start = (i*BATCH_SIZE)%DATA_SIZE\n",
    "        end = start+BATCH_SIZE\n",
    "        sess.run(train_op,feed_dict={x:X[start:end], y_:Y[start:end]})\n",
    "        if i % 500 == 0:\n",
    "            print('w1:',sess.run(w1))#经过训练，w1的两个变量都接近1，因为X的两个参数都是随机的，Y是两者的和，所以参数都是1"
   ]
  },
  {
   "cell_type": "code",
   "execution_count": null,
   "metadata": {
    "collapsed": true
   },
   "outputs": [],
   "source": []
  },
  {
   "cell_type": "code",
   "execution_count": null,
   "metadata": {
    "collapsed": true
   },
   "outputs": [],
   "source": []
  },
  {
   "cell_type": "code",
   "execution_count": null,
   "metadata": {
    "collapsed": true
   },
   "outputs": [],
   "source": []
  },
  {
   "cell_type": "markdown",
   "metadata": {},
   "source": [
    "这是01均匀分布\n",
    "help(rdm.rand)\n",
    "\n",
    "\n",
    "     Create an array of the given shape and populate it with\n",
    "    random samples from a uniform distribution\n",
    "    over ``[0, 1)``."
   ]
  },
  {
   "cell_type": "code",
   "execution_count": null,
   "metadata": {
    "collapsed": true
   },
   "outputs": [],
   "source": []
  }
 ],
 "metadata": {
  "kernelspec": {
   "display_name": "virtual py36",
   "language": "python",
   "name": "py36"
  },
  "language_info": {
   "codemirror_mode": {
    "name": "ipython",
    "version": 3
   },
   "file_extension": ".py",
   "mimetype": "text/x-python",
   "name": "python",
   "nbconvert_exporter": "python",
   "pygments_lexer": "ipython3",
   "version": "3.6.1"
  }
 },
 "nbformat": 4,
 "nbformat_minor": 2
}
