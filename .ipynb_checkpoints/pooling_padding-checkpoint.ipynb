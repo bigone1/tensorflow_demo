{
 "cells": [
  {
   "cell_type": "code",
   "execution_count": null,
   "metadata": {
    "collapsed": true
   },
   "outputs": [],
   "source": []
  },
  {
   "cell_type": "code",
   "execution_count": 1,
   "metadata": {
    "collapsed": true
   },
   "outputs": [],
   "source": [
    "import tensorflow as tf"
   ]
  },
  {
   "cell_type": "code",
   "execution_count": 2,
   "metadata": {},
   "outputs": [
    {
     "name": "stdout",
     "output_type": "stream",
     "text": [
      "[[[[ 1.]\n",
      "   [ 2.]\n",
      "   [ 3.]]\n",
      "\n",
      "  [[ 4.]\n",
      "   [ 5.]\n",
      "   [ 6.]]]]\n"
     ]
    }
   ],
   "source": [
    "x = tf.constant([[1.,2.,3.],[4.,5.,6.]])\n",
    "x = tf.reshape(x,[1,2,3,1])\n",
    "\n",
    "print(tf.Session().run(x))#变形成batch,行列2*3"
   ]
  },
  {
   "cell_type": "code",
   "execution_count": 3,
   "metadata": {
    "collapsed": true
   },
   "outputs": [],
   "source": [
    "#valid_pad = tf.nn.conv2d(x, [1,2,2,1],[1,1,1,1], padding = 'VALID')\n",
    "valid_pad = tf.nn.max_pool(x,[1,2,2,1],[1,2,2,1],padding = 'VALID')\n",
    "same_pad = tf.nn.max_pool(x,[1,2,2,1],[1,2,2,1],padding='SAME')\n",
    "same_pad2 = tf.nn.max_pool(x,[1,2,2,1],[1,1,2,1],padding='SAME')"
   ]
  },
  {
   "cell_type": "code",
   "execution_count": 10,
   "metadata": {},
   "outputs": [
    {
     "name": "stdout",
     "output_type": "stream",
     "text": [
      "valid: (1, 1, 1, 1)\n",
      "SAME: (1, 1, 2, 1)\n",
      "SAME2: (1, 2, 2, 1)\n",
      "valid: [[[[ 5.]]]]\n",
      "same: [[[[ 5.]\n",
      "   [ 6.]]]]\n",
      "same(stride2): [[[[ 5.]\n",
      "   [ 6.]]\n",
      "\n",
      "  [[ 5.]\n",
      "   [ 6.]]]]\n"
     ]
    }
   ],
   "source": [
    "print('valid:',valid_pad.get_shape())#不填充，行列全是stride2，输出行列1*1,舍一列\n",
    "print('SAME:',same_pad.get_shape())#填充，输入2*3,stride2*2,输出行列1*2\n",
    "print('SAME2:',same_pad2.get_shape())#填充，输入2*3,stride1*2,输出行列2*2\n",
    "print('valid:',tf.Session().run(valid_pad))#舍一列，所以最大值5\n",
    "print('same:',tf.Session().run(same_pad))\n",
    "print('same(stride2):',tf.Session().run(same_pad2))"
   ]
  },
  {
   "cell_type": "code",
   "execution_count": null,
   "metadata": {
    "collapsed": true
   },
   "outputs": [],
   "source": []
  },
  {
   "cell_type": "code",
   "execution_count": null,
   "metadata": {
    "collapsed": true
   },
   "outputs": [],
   "source": []
  }
 ],
 "metadata": {
  "kernelspec": {
   "display_name": "virtual py36",
   "language": "python",
   "name": "py36"
  },
  "language_info": {
   "codemirror_mode": {
    "name": "ipython",
    "version": 3
   },
   "file_extension": ".py",
   "mimetype": "text/x-python",
   "name": "python",
   "nbconvert_exporter": "python",
   "pygments_lexer": "ipython3",
   "version": "3.6.1"
  }
 },
 "nbformat": 4,
 "nbformat_minor": 2
}
