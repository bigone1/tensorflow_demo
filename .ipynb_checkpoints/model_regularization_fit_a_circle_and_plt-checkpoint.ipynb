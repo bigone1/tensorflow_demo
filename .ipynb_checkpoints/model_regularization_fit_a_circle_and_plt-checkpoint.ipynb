{
 "cells": [
  {
   "cell_type": "code",
   "execution_count": null,
   "metadata": {
    "collapsed": true
   },
   "outputs": [],
   "source": [
    "#拟合一个圆，区分圆内外的点，显示。"
   ]
  },
  {
   "cell_type": "code",
   "execution_count": 1,
   "metadata": {
    "collapsed": true
   },
   "outputs": [],
   "source": [
    "\n",
    "import tensorflow as tf\n",
    "import numpy as np\n",
    "import matplotlib.pyplot as plt"
   ]
  },
  {
   "cell_type": "code",
   "execution_count": 2,
   "metadata": {},
   "outputs": [],
   "source": [
    "BATCH_SIZE = 30\n",
    "seed = 2\n",
    "rdm = np.random.RandomState(seed)\n",
    "X = rdm.randn(300,2)#300个数据，每个数据包含横纵坐标。\n",
    "Y = [int(x0**2 + x1**2 < 2) for (x0,x1) in X]#Y：是否距离原点2以内\n",
    "Y_c = [['red' if y else 'blue'] for y in Y]#赋值颜色"
   ]
  },
  {
   "cell_type": "code",
   "execution_count": 3,
   "metadata": {},
   "outputs": [
    {
     "name": "stdout",
     "output_type": "stream",
     "text": [
      "(300, 2)\n",
      "<class 'numpy.ndarray'>\n",
      "300\n",
      "<class 'list'>\n",
      "(300, 2)\n",
      "(300, 1)\n",
      "300\n"
     ]
    }
   ],
   "source": [
    "print(X.shape)\n",
    "print(type(X))\n",
    "print(len(Y))\n",
    "print(type(Y))#类型不一样。\n",
    "X = np.vstack(X).reshape(-1,2)\n",
    "Y = np.vstack(Y).reshape(-1,1)#主要是处理一下Y\n",
    "print(X.shape)\n",
    "print(Y.shape)\n",
    "print(len(Y_c))"
   ]
  },
  {
   "cell_type": "code",
   "execution_count": 4,
   "metadata": {},
   "outputs": [
    {
     "data": {
      "image/png": "[encoded data removed]",
      "text/plain": [
       "<matplotlib.figure.Figure at 0x7f274a4325f8>"
      ]
     },
     "metadata": {},
     "output_type": "display_data"
    }
   ],
   "source": [
    "plt.scatter(X[:,0],X[:,1],c = np.squeeze(Y_c))#从Y_c取颜色参数。\n",
    "\n",
    "plt.show()"
   ]
  },
  {
   "cell_type": "code",
   "execution_count": 9,
   "metadata": {},
   "outputs": [
    {
     "name": "stdout",
     "output_type": "stream",
     "text": [
      "Tensor(\"Relu_3:0\", shape=(?, 11), dtype=float32)\n",
      "<tf.Variable 'Variable_14:0' shape=(11, 1) dtype=float32_ref>\n",
      "[<tf.Tensor 'l2_regularizer:0' shape=() dtype=float32>, <tf.Tensor 'l2_regularizer_1:0' shape=() dtype=float32>, <tf.Tensor 'l2_regularizer_2:0' shape=() dtype=float32>, <tf.Tensor 'l2_regularizer_3:0' shape=() dtype=float32>, <tf.Tensor 'l2_regularizer_4:0' shape=() dtype=float32>, <tf.Tensor 'l2_regularizer_5:0' shape=() dtype=float32>, <tf.Tensor 'l2_regularizer_6:0' shape=() dtype=float32>, <tf.Tensor 'l2_regularizer_7:0' shape=() dtype=float32>]\n"
     ]
    }
   ],
   "source": [
    "def get_weight(shape, scale):\n",
    "    w = tf.Variable(tf.random_normal(shape), dtype = tf.float32)\n",
    "    tf.add_to_collection('losses', tf.contrib.layers.l2_regularizer(scale)(w))\n",
    "    return w\n",
    "def get_bias(shape):\n",
    "    b = tf.Variable(tf.constant(0.01, shape=shape))\n",
    "    return b\n",
    "x = tf.placeholder(tf.float32, shape = (None,2))\n",
    "y = tf.placeholder(tf.float32, shape = (None,1))\n",
    "\n",
    "w1 = get_weight([2,11],0.01)\n",
    "b1 = get_bias([11])\n",
    "l1 = tf.nn.relu(tf.matmul(x,w1,name='matmul1')+b1)\n",
    "\n",
    "w2 = get_weight([11,1], 0.01)\n",
    "b2 = get_bias([1])\n",
    "print(l1)\n",
    "print(w2)\n",
    "y_pred = tf.matmul(l1,w2,name='matmul2') + b2\n",
    "\n",
    "loss_mse = tf.reduce_mean(tf.square(y-y_pred))\n",
    "print(tf.get_collection('losses'))\n",
    "loss_total = loss_mse + tf.add_n(tf.get_collection('losses'))\n",
    "\n"
   ]
  },
  {
   "cell_type": "code",
   "execution_count": 19,
   "metadata": {},
   "outputs": [
    {
     "name": "stdout",
     "output_type": "stream",
     "text": [
      "after 0 steps, mse loss is 4.275043\n",
      "after 2000 steps, mse loss is 0.850262\n",
      "after 4000 steps, mse loss is 0.372194\n",
      "after 6000 steps, mse loss is 0.203557\n",
      "after 8000 steps, mse loss is 0.150079\n",
      "after 10000 steps, mse loss is 0.122145\n",
      "after 12000 steps, mse loss is 0.099617\n",
      "after 14000 steps, mse loss is 0.085322\n",
      "after 16000 steps, mse loss is 0.078442\n",
      "after 18000 steps, mse loss is 0.074793\n",
      "after 20000 steps, mse loss is 0.072115\n",
      "after 22000 steps, mse loss is 0.070250\n",
      "after 24000 steps, mse loss is 0.069109\n",
      "after 26000 steps, mse loss is 0.068249\n",
      "after 28000 steps, mse loss is 0.067528\n",
      "after 30000 steps, mse loss is 0.067107\n",
      "after 32000 steps, mse loss is 0.066846\n",
      "after 34000 steps, mse loss is 0.066646\n",
      "after 36000 steps, mse loss is 0.066511\n",
      "after 38000 steps, mse loss is 0.066410\n",
      "w1: [[ 0.42870259 -1.32321727 -0.50509775 -1.32402921  0.92775673  0.30390763\n",
      "  -0.40421596 -0.60656923  0.14833862 -1.16129613 -0.06999239]\n",
      " [-1.19079292  0.4505724  -0.25327247  0.44175559  0.29444328 -0.94145846\n",
      "  -0.45505837  1.00393891 -0.4029651   1.06382799 -1.26230824]]\n",
      "b1: [-0.02441681 -0.13936408  0.99075985 -0.05448772 -0.58603501  0.17483324\n",
      " -0.32576749  0.38335985 -0.27791277  0.14385037  0.47759503]\n",
      "w2: [[-0.46614173]\n",
      " [-0.87283218]\n",
      " [ 0.65618652]\n",
      " [ 0.68991733]\n",
      " [-0.33321235]\n",
      " [ 0.81809294]\n",
      " [-0.87881809]\n",
      " [ 0.01264887]\n",
      " [-0.58653134]\n",
      " [-0.29628474]\n",
      " [-0.46108994]]\n",
      "b2: [ 0.63497597]\n"
     ]
    },
    {
     "data": {
      "image/png": "[encoded data removed]",
      "text/plain": [
       "<matplotlib.figure.Figure at 0x7f2734b969e8>"
      ]
     },
     "metadata": {},
     "output_type": "display_data"
    }
   ],
   "source": [
    "train_op = tf.train.AdamOptimizer(0.0001).minimize(loss_mse)\n",
    "with tf.Session() as sess:\n",
    "    tf.global_variables_initializer().run()\n",
    "    STEPS = 40000\n",
    "    for i in range(STEPS):\n",
    "        start = (i*BATCH_SIZE) % 300\n",
    "        end = start + BATCH_SIZE\n",
    "#         print('start:',start)\n",
    "#         print('end:',end)\n",
    "#         print(X.shape)\n",
    "#         print(Y.shape)\n",
    "        sess.run(train_op, feed_dict={x:X[start:end],y:Y[start:end]})\n",
    "        if i % 2000 == 0:\n",
    "            loss_mse_v = sess.run(loss_mse, feed_dict = {x:X,y:Y})\n",
    "            print('after %d steps, mse loss is %f'%(i,loss_mse_v))\n",
    "    #从-3到3生成网格\n",
    "    xx,yy = np.mgrid[-3:3:.01, -3:3:.01]\n",
    "    #这是网格坐标点集合\n",
    "    grid = np.c_[xx.ravel(),yy.ravel()]\n",
    "    #给网格做一个输出\n",
    "    probs = sess.run(y_pred, feed_dict = {x:grid})\n",
    "    probs = probs.reshape(xx.shape)#todo:为什么要条这个呢shape\n",
    "    print('w1:',sess.run(w1))\n",
    "    print('b1:',sess.run(b1))\n",
    "    print('w2:',sess.run(w2))\n",
    "    print('b2:',sess.run(b2))\n",
    "    plt.scatter(X[:,0], X[:,1], c=np.squeeze(Y_c))\n",
    "    plt.contour(xx, yy, probs, levels=[.5])#他说把probs是0.5的上色，我看这个应该是画分界线。contour本意是轮廓\n",
    "    #这里不是标签，是预测，所以应该有零有整的，所以有0.5这样的存在（具体取小数点几位？肯定是约等于的吧）\n",
    "    plt.show()\n",
    "    "
   ]
  },
  {
   "cell_type": "code",
   "execution_count": 18,
   "metadata": {},
   "outputs": [
    {
     "name": "stdout",
     "output_type": "stream",
     "text": [
      "after 0 steps,  loss is 28.803352\n",
      "after 2000 steps,  loss is 8.065138\n",
      "after 4000 steps,  loss is 2.869989\n",
      "after 6000 steps,  loss is 1.285548\n",
      "after 8000 steps,  loss is 0.593505\n",
      "after 10000 steps,  loss is 0.412882\n",
      "after 12000 steps,  loss is 0.351573\n",
      "after 14000 steps,  loss is 0.305693\n",
      "after 16000 steps,  loss is 0.269162\n",
      "after 18000 steps,  loss is 0.240661\n",
      "after 20000 steps,  loss is 0.218922\n",
      "after 22000 steps,  loss is 0.202168\n",
      "after 24000 steps,  loss is 0.189633\n",
      "after 26000 steps,  loss is 0.179872\n",
      "after 28000 steps,  loss is 0.172040\n",
      "after 30000 steps,  loss is 0.165439\n",
      "after 32000 steps,  loss is 0.160424\n",
      "after 34000 steps,  loss is 0.156125\n",
      "after 36000 steps,  loss is 0.152180\n",
      "after 38000 steps,  loss is 0.148462\n",
      "w1: [[-0.46815753  0.99910253 -0.04989538 -0.61396164 -0.02884883 -0.43204334\n",
      "  -0.82417029  1.47838724  0.07742262 -0.49687594  0.07155401]\n",
      " [ 0.30541614 -0.62563276  0.59742236  0.23814881  0.73370272  0.69481802\n",
      "   0.42336872 -0.84828019 -0.24014869 -0.65149039  0.34576768]]\n",
      "b1: [-0.24188815  0.28558561 -0.01629289 -0.34673247  0.11107083  0.00145268\n",
      "  0.29524389 -0.41952887  0.43499213 -0.30259463 -0.15022664]\n",
      "w2: [[-0.45615122]\n",
      " [ 0.99216092]\n",
      " [-0.58839065]\n",
      " [-0.91462719]\n",
      " [ 0.42600325]\n",
      " [-0.53980613]\n",
      " [ 0.89700371]\n",
      " [-1.01858437]\n",
      " [ 0.17169167]\n",
      " [-0.78317231]\n",
      " [-0.4093605 ]]\n",
      "b2: [ 0.48794234]\n"
     ]
    },
    {
     "data": {
      "image/png": "[encoded data removed]",
      "text/plain": [
       "<matplotlib.figure.Figure at 0x7f27359f6748>"
      ]
     },
     "metadata": {},
     "output_type": "display_data"
    }
   ],
   "source": [
    "#正则化的结果\n",
    "train_op2 = tf.train.AdamOptimizer(0.0001).minimize(loss_total)\n",
    "with tf.Session() as sess:\n",
    "    tf.global_variables_initializer().run()\n",
    "    STEPS = 40000\n",
    "    for i in range(STEPS):\n",
    "        start = (i*BATCH_SIZE) % 300\n",
    "        end = start + BATCH_SIZE\n",
    "        sess.run(train_op2, feed_dict={x:X[start:end],y:Y[start:end]})\n",
    "        if i % 2000 == 0:\n",
    "            loss_total_v = sess.run(loss_total, feed_dict = {x:X,y:Y})\n",
    "            print('after %d steps,  loss is %f'%(i,loss_total_v))\n",
    "    #从-3到3生成网格\n",
    "    xx,yy = np.mgrid[-3:3:.01, -3:3:.01]\n",
    "    #这是网格坐标点集合\n",
    "    grid = np.c_[xx.ravel(),yy.ravel()]\n",
    "    #给网格做一个输出\n",
    "    probs = sess.run(y_pred, feed_dict = {x:grid})\n",
    "    probs = probs.reshape(xx.shape)#todo:为什么要条这个呢shape\n",
    "    print('w1:',sess.run(w1))\n",
    "    print('b1:',sess.run(b1))\n",
    "    print('w2:',sess.run(w2))\n",
    "    print('b2:',sess.run(b2))\n",
    "    plt.scatter(X[:,0], X[:,1], c=np.squeeze(Y_c))\n",
    "    plt.contour(xx, yy, probs, levels=[.5])\n",
    "    plt.show()"
   ]
  },
  {
   "cell_type": "code",
   "execution_count": null,
   "metadata": {
    "collapsed": true
   },
   "outputs": [],
   "source": []
  },
  {
   "cell_type": "code",
   "execution_count": null,
   "metadata": {
    "collapsed": true
   },
   "outputs": [],
   "source": []
  },
  {
   "cell_type": "code",
   "execution_count": null,
   "metadata": {
    "collapsed": true
   },
   "outputs": [],
   "source": []
  },
  {
   "cell_type": "code",
   "execution_count": null,
   "metadata": {
    "collapsed": true
   },
   "outputs": [],
   "source": []
  },
  {
   "cell_type": "code",
   "execution_count": 6,
   "metadata": {},
   "outputs": [
    {
     "name": "stdout",
     "output_type": "stream",
     "text": [
      "Help on function l2_regularizer in module tensorflow.contrib.layers.python.layers.regularizers:\n",
      "\n",
      "l2_regularizer(scale, scope=None)\n",
      "    Returns a function that can be used to apply L2 regularization to weights.\n",
      "    \n",
      "    Small values of L2 can help prevent overfitting the training data.\n",
      "    \n",
      "    Args:\n",
      "      scale: A scalar multiplier `Tensor`. 0.0 disables the regularizer.\n",
      "      scope: An optional scope name.\n",
      "    \n",
      "    Returns:\n",
      "      A function with signature `l2(weights)` that applies L2 regularization.\n",
      "    \n",
      "    Raises:\n",
      "      ValueError: If scale is negative or if scale is not a float.\n",
      "\n"
     ]
    }
   ],
   "source": [
    "help(tf.contrib.layers.l2_regularizer)"
   ]
  },
  {
   "cell_type": "code",
   "execution_count": 49,
   "metadata": {},
   "outputs": [
    {
     "name": "stdout",
     "output_type": "stream",
     "text": [
      "Help on function contour in module matplotlib.pyplot:\n",
      "\n",
      "contour(*args, **kwargs)\n",
      "    Plot contours.\n",
      "    \n",
      "    :func:`~matplotlib.pyplot.contour` and\n",
      "    :func:`~matplotlib.pyplot.contourf` draw contour lines and\n",
      "    filled contours, respectively.  Except as noted, function\n",
      "    signatures and return values are the same for both versions.\n",
      "    \n",
      "    :func:`~matplotlib.pyplot.contourf` differs from the MATLAB\n",
      "    version in that it does not draw the polygon edges.\n",
      "    To draw edges, add line contours with\n",
      "    calls to :func:`~matplotlib.pyplot.contour`.\n",
      "    \n",
      "    \n",
      "    Call signatures::\n",
      "    \n",
      "      contour(Z)\n",
      "    \n",
      "    make a contour plot of an array *Z*. The level values are chosen\n",
      "    automatically.\n",
      "    \n",
      "    ::\n",
      "    \n",
      "      contour(X,Y,Z)\n",
      "    \n",
      "    *X*, *Y* specify the (x, y) coordinates of the surface\n",
      "    \n",
      "    ::\n",
      "    \n",
      "      contour(Z,N)\n",
      "      contour(X,Y,Z,N)\n",
      "    \n",
      "    contour up to *N* automatically-chosen levels.\n",
      "    \n",
      "    ::\n",
      "    \n",
      "      contour(Z,V)\n",
      "      contour(X,Y,Z,V)\n",
      "    \n",
      "    draw contour lines at the values specified in sequence *V*,\n",
      "    which must be in increasing order.\n",
      "    \n",
      "    ::\n",
      "    \n",
      "      contourf(..., V)\n",
      "    \n",
      "    fill the ``len(V)-1`` regions between the values in *V*,\n",
      "    which must be in increasing order.\n",
      "    \n",
      "    ::\n",
      "    \n",
      "      contour(Z, **kwargs)\n",
      "    \n",
      "    Use keyword args to control colors, linewidth, origin, cmap ... see\n",
      "    below for more details.\n",
      "    \n",
      "    *X* and *Y* must both be 2-D with the same shape as *Z*, or they\n",
      "    must both be 1-D such that ``len(X)`` is the number of columns in\n",
      "    *Z* and ``len(Y)`` is the number of rows in *Z*.\n",
      "    \n",
      "    ``C = contour(...)`` returns a\n",
      "    :class:`~matplotlib.contour.QuadContourSet` object.\n",
      "    \n",
      "    Optional keyword arguments:\n",
      "    \n",
      "      *corner_mask*: [ *True* | *False* | 'legacy' ]\n",
      "        Enable/disable corner masking, which only has an effect if *Z* is\n",
      "        a masked array.  If *False*, any quad touching a masked point is\n",
      "        masked out.  If *True*, only the triangular corners of quads\n",
      "        nearest those points are always masked out, other triangular\n",
      "        corners comprising three unmasked points are contoured as usual.\n",
      "        If 'legacy', the old contouring algorithm is used, which is\n",
      "        equivalent to *False* and is deprecated, only remaining whilst the\n",
      "        new algorithm is tested fully.\n",
      "    \n",
      "        If not specified, the default is taken from\n",
      "        rcParams['contour.corner_mask'], which is True unless it has\n",
      "        been modified.\n",
      "    \n",
      "      *colors*: [ *None* | string | (mpl_colors) ]\n",
      "        If *None*, the colormap specified by cmap will be used.\n",
      "    \n",
      "        If a string, like 'r' or 'red', all levels will be plotted in this\n",
      "        color.\n",
      "    \n",
      "        If a tuple of matplotlib color args (string, float, rgb, etc),\n",
      "        different levels will be plotted in different colors in the order\n",
      "        specified.\n",
      "    \n",
      "      *alpha*: float\n",
      "        The alpha blending value\n",
      "    \n",
      "      *cmap*: [ *None* | Colormap ]\n",
      "        A cm :class:`~matplotlib.colors.Colormap` instance or\n",
      "        *None*. If *cmap* is *None* and *colors* is *None*, a\n",
      "        default Colormap is used.\n",
      "    \n",
      "      *norm*: [ *None* | Normalize ]\n",
      "        A :class:`matplotlib.colors.Normalize` instance for\n",
      "        scaling data values to colors. If *norm* is *None* and\n",
      "        *colors* is *None*, the default linear scaling is used.\n",
      "    \n",
      "      *vmin*, *vmax*: [ *None* | scalar ]\n",
      "        If not *None*, either or both of these values will be\n",
      "        supplied to the :class:`matplotlib.colors.Normalize`\n",
      "        instance, overriding the default color scaling based on\n",
      "        *levels*.\n",
      "    \n",
      "      *levels*: [level0, level1, ..., leveln]\n",
      "        A list of floating point numbers indicating the level\n",
      "        curves to draw, in increasing order; e.g., to draw just\n",
      "        the zero contour pass ``levels=[0]``\n",
      "    \n",
      "      *origin*: [ *None* | 'upper' | 'lower' | 'image' ]\n",
      "        If *None*, the first value of *Z* will correspond to the\n",
      "        lower left corner, location (0,0). If 'image', the rc\n",
      "        value for ``image.origin`` will be used.\n",
      "    \n",
      "        This keyword is not active if *X* and *Y* are specified in\n",
      "        the call to contour.\n",
      "    \n",
      "      *extent*: [ *None* | (x0,x1,y0,y1) ]\n",
      "    \n",
      "        If *origin* is not *None*, then *extent* is interpreted as\n",
      "        in :func:`matplotlib.pyplot.imshow`: it gives the outer\n",
      "        pixel boundaries. In this case, the position of Z[0,0]\n",
      "        is the center of the pixel, not a corner. If *origin* is\n",
      "        *None*, then (*x0*, *y0*) is the position of Z[0,0], and\n",
      "        (*x1*, *y1*) is the position of Z[-1,-1].\n",
      "    \n",
      "        This keyword is not active if *X* and *Y* are specified in\n",
      "        the call to contour.\n",
      "    \n",
      "      *locator*: [ *None* | ticker.Locator subclass ]\n",
      "        If *locator* is *None*, the default\n",
      "        :class:`~matplotlib.ticker.MaxNLocator` is used. The\n",
      "        locator is used to determine the contour levels if they\n",
      "        are not given explicitly via the *V* argument.\n",
      "    \n",
      "      *extend*: [ 'neither' | 'both' | 'min' | 'max' ]\n",
      "        Unless this is 'neither', contour levels are automatically\n",
      "        added to one or both ends of the range so that all data\n",
      "        are included. These added ranges are then mapped to the\n",
      "        special colormap values which default to the ends of the\n",
      "        colormap range, but can be set via\n",
      "        :meth:`matplotlib.colors.Colormap.set_under` and\n",
      "        :meth:`matplotlib.colors.Colormap.set_over` methods.\n",
      "    \n",
      "      *xunits*, *yunits*: [ *None* | registered units ]\n",
      "        Override axis units by specifying an instance of a\n",
      "        :class:`matplotlib.units.ConversionInterface`.\n",
      "    \n",
      "      *antialiased*: [ *True* | *False* ]\n",
      "        enable antialiasing, overriding the defaults.  For\n",
      "        filled contours, the default is *True*.  For line contours,\n",
      "        it is taken from rcParams['lines.antialiased'].\n",
      "    \n",
      "      *nchunk*: [ 0 | integer ]\n",
      "        If 0, no subdivision of the domain.  Specify a positive integer to\n",
      "        divide the domain into subdomains of *nchunk* by *nchunk* quads.\n",
      "        Chunking reduces the maximum length of polygons generated by the\n",
      "        contouring algorithm which reduces the rendering workload passed\n",
      "        on to the backend and also requires slightly less RAM.  It can\n",
      "        however introduce rendering artifacts at chunk boundaries depending\n",
      "        on the backend, the *antialiased* flag and value of *alpha*.\n",
      "    \n",
      "    contour-only keyword arguments:\n",
      "    \n",
      "      *linewidths*: [ *None* | number | tuple of numbers ]\n",
      "        If *linewidths* is *None*, the default width in\n",
      "        ``lines.linewidth`` in ``matplotlibrc`` is used.\n",
      "    \n",
      "        If a number, all levels will be plotted with this linewidth.\n",
      "    \n",
      "        If a tuple, different levels will be plotted with different\n",
      "        linewidths in the order specified.\n",
      "    \n",
      "      *linestyles*: [ *None* | 'solid' | 'dashed' | 'dashdot' | 'dotted' ]\n",
      "        If *linestyles* is *None*, the default is 'solid' unless\n",
      "        the lines are monochrome.  In that case, negative\n",
      "        contours will take their linestyle from the ``matplotlibrc``\n",
      "        ``contour.negative_linestyle`` setting.\n",
      "    \n",
      "        *linestyles* can also be an iterable of the above strings\n",
      "        specifying a set of linestyles to be used. If this\n",
      "        iterable is shorter than the number of contour levels\n",
      "        it will be repeated as necessary.\n",
      "    \n",
      "    contourf-only keyword arguments:\n",
      "    \n",
      "      *hatches*:\n",
      "        A list of cross hatch patterns to use on the filled areas.\n",
      "        If None, no hatching will be added to the contour.\n",
      "        Hatching is supported in the PostScript, PDF, SVG and Agg\n",
      "        backends only.\n",
      "    \n",
      "    \n",
      "    Note: contourf fills intervals that are closed at the top; that\n",
      "    is, for boundaries *z1* and *z2*, the filled region is::\n",
      "    \n",
      "        z1 < z <= z2\n",
      "    \n",
      "    There is one exception: if the lowest boundary coincides with\n",
      "    the minimum value of the *z* array, then that minimum value\n",
      "    will be included in the lowest interval.\n",
      "    \n",
      "    **Examples:**\n",
      "    \n",
      "    .. plot:: mpl_examples/pylab_examples/contour_demo.py\n",
      "    \n",
      "    .. plot:: mpl_examples/pylab_examples/contourf_demo.py\n",
      "    \n",
      "    .. plot:: mpl_examples/pylab_examples/contour_corner_mask.py\n",
      "\n"
     ]
    }
   ],
   "source": [
    "help(plt.contour)"
   ]
  },
  {
   "cell_type": "code",
   "execution_count": null,
   "metadata": {
    "collapsed": true
   },
   "outputs": [],
   "source": []
  },
  {
   "cell_type": "code",
   "execution_count": null,
   "metadata": {
    "collapsed": true
   },
   "outputs": [],
   "source": []
  },
  {
   "cell_type": "code",
   "execution_count": 8,
   "metadata": {},
   "outputs": [
    {
     "name": "stdout",
     "output_type": "stream",
     "text": [
      "[[1 2]\n",
      " [3 4]]\n",
      "(2, 2)\n",
      "[[10 11]\n",
      " [12 13]]\n"
     ]
    },
    {
     "ename": "InvalidArgumentError",
     "evalue": "Shape [-1,2] has negative dimensions\n\t [[Node: input/Placeholder = Placeholder[dtype=DT_FLOAT, shape=[?,2], _device=\"/job:localhost/replica:0/task:0/cpu:0\"]()]]\n\nCaused by op 'input/Placeholder', defined at:\n  File \"/home/qw/anaconda3/envs/py36/lib/python3.6/runpy.py\", line 193, in _run_module_as_main\n    \"__main__\", mod_spec)\n  File \"/home/qw/anaconda3/envs/py36/lib/python3.6/runpy.py\", line 85, in _run_code\n    exec(code, run_globals)\n  File \"/home/qw/anaconda3/envs/py36/lib/python3.6/site-packages/ipykernel_launcher.py\", line 16, in <module>\n    app.launch_new_instance()\n  File \"/home/qw/anaconda3/envs/py36/lib/python3.6/site-packages/traitlets/config/application.py\", line 658, in launch_instance\n    app.start()\n  File \"/home/qw/anaconda3/envs/py36/lib/python3.6/site-packages/ipykernel/kernelapp.py\", line 477, in start\n    ioloop.IOLoop.instance().start()\n  File \"/home/qw/anaconda3/envs/py36/lib/python3.6/site-packages/zmq/eventloop/ioloop.py\", line 177, in start\n    super(ZMQIOLoop, self).start()\n  File \"/home/qw/anaconda3/envs/py36/lib/python3.6/site-packages/tornado/ioloop.py\", line 888, in start\n    handler_func(fd_obj, events)\n  File \"/home/qw/anaconda3/envs/py36/lib/python3.6/site-packages/tornado/stack_context.py\", line 277, in null_wrapper\n    return fn(*args, **kwargs)\n  File \"/home/qw/anaconda3/envs/py36/lib/python3.6/site-packages/zmq/eventloop/zmqstream.py\", line 440, in _handle_events\n    self._handle_recv()\n  File \"/home/qw/anaconda3/envs/py36/lib/python3.6/site-packages/zmq/eventloop/zmqstream.py\", line 472, in _handle_recv\n    self._run_callback(callback, msg)\n  File \"/home/qw/anaconda3/envs/py36/lib/python3.6/site-packages/zmq/eventloop/zmqstream.py\", line 414, in _run_callback\n    callback(*args, **kwargs)\n  File \"/home/qw/anaconda3/envs/py36/lib/python3.6/site-packages/tornado/stack_context.py\", line 277, in null_wrapper\n    return fn(*args, **kwargs)\n  File \"/home/qw/anaconda3/envs/py36/lib/python3.6/site-packages/ipykernel/kernelbase.py\", line 283, in dispatcher\n    return self.dispatch_shell(stream, msg)\n  File \"/home/qw/anaconda3/envs/py36/lib/python3.6/site-packages/ipykernel/kernelbase.py\", line 235, in dispatch_shell\n    handler(stream, idents, msg)\n  File \"/home/qw/anaconda3/envs/py36/lib/python3.6/site-packages/ipykernel/kernelbase.py\", line 399, in execute_request\n    user_expressions, allow_stdin)\n  File \"/home/qw/anaconda3/envs/py36/lib/python3.6/site-packages/ipykernel/ipkernel.py\", line 196, in do_execute\n    res = shell.run_cell(code, store_history=store_history, silent=silent)\n  File \"/home/qw/anaconda3/envs/py36/lib/python3.6/site-packages/ipykernel/zmqshell.py\", line 533, in run_cell\n    return super(ZMQInteractiveShell, self).run_cell(*args, **kwargs)\n  File \"/home/qw/anaconda3/envs/py36/lib/python3.6/site-packages/IPython/core/interactiveshell.py\", line 2717, in run_cell\n    interactivity=interactivity, compiler=compiler, result=result)\n  File \"/home/qw/anaconda3/envs/py36/lib/python3.6/site-packages/IPython/core/interactiveshell.py\", line 2821, in run_ast_nodes\n    if self.run_code(code, result):\n  File \"/home/qw/anaconda3/envs/py36/lib/python3.6/site-packages/IPython/core/interactiveshell.py\", line 2881, in run_code\n    exec(code_obj, self.user_global_ns, self.user_ns)\n  File \"<ipython-input-2-c728a11e9642>\", line 7, in <module>\n    a = tf.placeholder(shape = (None,2), dtype = tf.float32)\n  File \"/home/qw/anaconda3/envs/py36/lib/python3.6/site-packages/tensorflow/python/ops/array_ops.py\", line 1530, in placeholder\n    return gen_array_ops._placeholder(dtype=dtype, shape=shape, name=name)\n  File \"/home/qw/anaconda3/envs/py36/lib/python3.6/site-packages/tensorflow/python/ops/gen_array_ops.py\", line 1954, in _placeholder\n    name=name)\n  File \"/home/qw/anaconda3/envs/py36/lib/python3.6/site-packages/tensorflow/python/framework/op_def_library.py\", line 767, in apply_op\n    op_def=op_def)\n  File \"/home/qw/anaconda3/envs/py36/lib/python3.6/site-packages/tensorflow/python/framework/ops.py\", line 2506, in create_op\n    original_op=self._default_original_op, op_def=op_def)\n  File \"/home/qw/anaconda3/envs/py36/lib/python3.6/site-packages/tensorflow/python/framework/ops.py\", line 1269, in __init__\n    self._traceback = _extract_stack()\n\nInvalidArgumentError (see above for traceback): Shape [-1,2] has negative dimensions\n\t [[Node: input/Placeholder = Placeholder[dtype=DT_FLOAT, shape=[?,2], _device=\"/job:localhost/replica:0/task:0/cpu:0\"]()]]\n",
     "output_type": "error",
     "traceback": [
      "\u001b[0;31m---------------------------------------------------------------------------\u001b[0m",
      "\u001b[0;31mInvalidArgumentError\u001b[0m                      Traceback (most recent call last)",
      "\u001b[0;32m/home/qw/anaconda3/envs/py36/lib/python3.6/site-packages/tensorflow/python/client/session.py\u001b[0m in \u001b[0;36m_do_call\u001b[0;34m(self, fn, *args)\u001b[0m\n\u001b[1;32m   1138\u001b[0m     \u001b[0;32mtry\u001b[0m\u001b[0;34m:\u001b[0m\u001b[0;34m\u001b[0m\u001b[0m\n\u001b[0;32m-> 1139\u001b[0;31m       \u001b[0;32mreturn\u001b[0m \u001b[0mfn\u001b[0m\u001b[0;34m(\u001b[0m\u001b[0;34m*\u001b[0m\u001b[0margs\u001b[0m\u001b[0;34m)\u001b[0m\u001b[0;34m\u001b[0m\u001b[0m\n\u001b[0m\u001b[1;32m   1140\u001b[0m     \u001b[0;32mexcept\u001b[0m \u001b[0merrors\u001b[0m\u001b[0;34m.\u001b[0m\u001b[0mOpError\u001b[0m \u001b[0;32mas\u001b[0m \u001b[0me\u001b[0m\u001b[0;34m:\u001b[0m\u001b[0;34m\u001b[0m\u001b[0m\n",
      "\u001b[0;32m/home/qw/anaconda3/envs/py36/lib/python3.6/site-packages/tensorflow/python/client/session.py\u001b[0m in \u001b[0;36m_run_fn\u001b[0;34m(session, feed_dict, fetch_list, target_list, options, run_metadata)\u001b[0m\n\u001b[1;32m   1120\u001b[0m                                  \u001b[0mfeed_dict\u001b[0m\u001b[0;34m,\u001b[0m \u001b[0mfetch_list\u001b[0m\u001b[0;34m,\u001b[0m \u001b[0mtarget_list\u001b[0m\u001b[0;34m,\u001b[0m\u001b[0;34m\u001b[0m\u001b[0m\n\u001b[0;32m-> 1121\u001b[0;31m                                  status, run_metadata)\n\u001b[0m\u001b[1;32m   1122\u001b[0m \u001b[0;34m\u001b[0m\u001b[0m\n",
      "\u001b[0;32m/home/qw/anaconda3/envs/py36/lib/python3.6/contextlib.py\u001b[0m in \u001b[0;36m__exit__\u001b[0;34m(self, type, value, traceback)\u001b[0m\n\u001b[1;32m     88\u001b[0m             \u001b[0;32mtry\u001b[0m\u001b[0;34m:\u001b[0m\u001b[0;34m\u001b[0m\u001b[0m\n\u001b[0;32m---> 89\u001b[0;31m                 \u001b[0mnext\u001b[0m\u001b[0;34m(\u001b[0m\u001b[0mself\u001b[0m\u001b[0;34m.\u001b[0m\u001b[0mgen\u001b[0m\u001b[0;34m)\u001b[0m\u001b[0;34m\u001b[0m\u001b[0m\n\u001b[0m\u001b[1;32m     90\u001b[0m             \u001b[0;32mexcept\u001b[0m \u001b[0mStopIteration\u001b[0m\u001b[0;34m:\u001b[0m\u001b[0;34m\u001b[0m\u001b[0m\n",
      "\u001b[0;32m/home/qw/anaconda3/envs/py36/lib/python3.6/site-packages/tensorflow/python/framework/errors_impl.py\u001b[0m in \u001b[0;36mraise_exception_on_not_ok_status\u001b[0;34m()\u001b[0m\n\u001b[1;32m    465\u001b[0m           \u001b[0mcompat\u001b[0m\u001b[0;34m.\u001b[0m\u001b[0mas_text\u001b[0m\u001b[0;34m(\u001b[0m\u001b[0mpywrap_tensorflow\u001b[0m\u001b[0;34m.\u001b[0m\u001b[0mTF_Message\u001b[0m\u001b[0;34m(\u001b[0m\u001b[0mstatus\u001b[0m\u001b[0;34m)\u001b[0m\u001b[0;34m)\u001b[0m\u001b[0;34m,\u001b[0m\u001b[0;34m\u001b[0m\u001b[0m\n\u001b[0;32m--> 466\u001b[0;31m           pywrap_tensorflow.TF_GetCode(status))\n\u001b[0m\u001b[1;32m    467\u001b[0m   \u001b[0;32mfinally\u001b[0m\u001b[0;34m:\u001b[0m\u001b[0;34m\u001b[0m\u001b[0m\n",
      "\u001b[0;31mInvalidArgumentError\u001b[0m: Shape [-1,2] has negative dimensions\n\t [[Node: input/Placeholder = Placeholder[dtype=DT_FLOAT, shape=[?,2], _device=\"/job:localhost/replica:0/task:0/cpu:0\"]()]]",
      "\nDuring handling of the above exception, another exception occurred:\n",
      "\u001b[0;31mInvalidArgumentError\u001b[0m                      Traceback (most recent call last)",
      "\u001b[0;32m<ipython-input-8-11cf856053bb>\u001b[0m in \u001b[0;36m<module>\u001b[0;34m()\u001b[0m\n\u001b[1;32m     29\u001b[0m \u001b[0;32mwith\u001b[0m \u001b[0mtf\u001b[0m\u001b[0;34m.\u001b[0m\u001b[0mSession\u001b[0m\u001b[0;34m(\u001b[0m\u001b[0;34m)\u001b[0m \u001b[0;32mas\u001b[0m \u001b[0msess\u001b[0m\u001b[0;34m:\u001b[0m\u001b[0;34m\u001b[0m\u001b[0m\n\u001b[1;32m     30\u001b[0m     \u001b[0mtf\u001b[0m\u001b[0;34m.\u001b[0m\u001b[0mglobal_variables_initializer\u001b[0m\u001b[0;34m(\u001b[0m\u001b[0;34m)\u001b[0m\u001b[0;34m.\u001b[0m\u001b[0mrun\u001b[0m\u001b[0;34m(\u001b[0m\u001b[0;34m)\u001b[0m\u001b[0;34m\u001b[0m\u001b[0m\n\u001b[0;32m---> 31\u001b[0;31m     \u001b[0mprint\u001b[0m\u001b[0;34m(\u001b[0m\u001b[0;34m'total:'\u001b[0m\u001b[0;34m,\u001b[0m\u001b[0msess\u001b[0m\u001b[0;34m.\u001b[0m\u001b[0mrun\u001b[0m\u001b[0;34m(\u001b[0m\u001b[0mtotal\u001b[0m\u001b[0;34m,\u001b[0m \u001b[0mfeed_dict\u001b[0m\u001b[0;34m=\u001b[0m\u001b[0;34m{\u001b[0m\u001b[0ma\u001b[0m\u001b[0;34m:\u001b[0m\u001b[0marr_a\u001b[0m\u001b[0;34m,\u001b[0m \u001b[0mb\u001b[0m\u001b[0;34m:\u001b[0m\u001b[0marr_b\u001b[0m\u001b[0;34m}\u001b[0m\u001b[0;34m)\u001b[0m\u001b[0;34m)\u001b[0m\u001b[0;34m\u001b[0m\u001b[0m\n\u001b[0m\u001b[1;32m     32\u001b[0m     \u001b[0mprint\u001b[0m\u001b[0;34m(\u001b[0m\u001b[0;34m'a:'\u001b[0m\u001b[0;34m,\u001b[0m\u001b[0msess\u001b[0m\u001b[0;34m.\u001b[0m\u001b[0mrun\u001b[0m\u001b[0;34m(\u001b[0m\u001b[0ma\u001b[0m\u001b[0;34m,\u001b[0m \u001b[0mfeed_dict\u001b[0m\u001b[0;34m=\u001b[0m\u001b[0;34m{\u001b[0m\u001b[0ma\u001b[0m\u001b[0;34m:\u001b[0m\u001b[0marr_a\u001b[0m\u001b[0;34m,\u001b[0m \u001b[0mb\u001b[0m\u001b[0;34m:\u001b[0m\u001b[0marr_b\u001b[0m\u001b[0;34m}\u001b[0m\u001b[0;34m)\u001b[0m\u001b[0;34m)\u001b[0m\u001b[0;34m\u001b[0m\u001b[0m\n\u001b[1;32m     33\u001b[0m     \u001b[0mprint\u001b[0m\u001b[0;34m(\u001b[0m\u001b[0msess\u001b[0m\u001b[0;34m.\u001b[0m\u001b[0mrun\u001b[0m\u001b[0;34m(\u001b[0m\u001b[0mb\u001b[0m\u001b[0;34m,\u001b[0m \u001b[0mfeed_dict\u001b[0m\u001b[0;34m=\u001b[0m\u001b[0;34m{\u001b[0m\u001b[0ma\u001b[0m\u001b[0;34m:\u001b[0m\u001b[0marr_a\u001b[0m\u001b[0;34m,\u001b[0m \u001b[0mb\u001b[0m\u001b[0;34m:\u001b[0m\u001b[0marr_b\u001b[0m\u001b[0;34m}\u001b[0m\u001b[0;34m)\u001b[0m\u001b[0;34m)\u001b[0m\u001b[0;34m\u001b[0m\u001b[0m\n",
      "\u001b[0;32m/home/qw/anaconda3/envs/py36/lib/python3.6/site-packages/tensorflow/python/client/session.py\u001b[0m in \u001b[0;36mrun\u001b[0;34m(self, fetches, feed_dict, options, run_metadata)\u001b[0m\n\u001b[1;32m    787\u001b[0m     \u001b[0;32mtry\u001b[0m\u001b[0;34m:\u001b[0m\u001b[0;34m\u001b[0m\u001b[0m\n\u001b[1;32m    788\u001b[0m       result = self._run(None, fetches, feed_dict, options_ptr,\n\u001b[0;32m--> 789\u001b[0;31m                          run_metadata_ptr)\n\u001b[0m\u001b[1;32m    790\u001b[0m       \u001b[0;32mif\u001b[0m \u001b[0mrun_metadata\u001b[0m\u001b[0;34m:\u001b[0m\u001b[0;34m\u001b[0m\u001b[0m\n\u001b[1;32m    791\u001b[0m         \u001b[0mproto_data\u001b[0m \u001b[0;34m=\u001b[0m \u001b[0mtf_session\u001b[0m\u001b[0;34m.\u001b[0m\u001b[0mTF_GetBuffer\u001b[0m\u001b[0;34m(\u001b[0m\u001b[0mrun_metadata_ptr\u001b[0m\u001b[0;34m)\u001b[0m\u001b[0;34m\u001b[0m\u001b[0m\n",
      "\u001b[0;32m/home/qw/anaconda3/envs/py36/lib/python3.6/site-packages/tensorflow/python/client/session.py\u001b[0m in \u001b[0;36m_run\u001b[0;34m(self, handle, fetches, feed_dict, options, run_metadata)\u001b[0m\n\u001b[1;32m    995\u001b[0m     \u001b[0;32mif\u001b[0m \u001b[0mfinal_fetches\u001b[0m \u001b[0;32mor\u001b[0m \u001b[0mfinal_targets\u001b[0m\u001b[0;34m:\u001b[0m\u001b[0;34m\u001b[0m\u001b[0m\n\u001b[1;32m    996\u001b[0m       results = self._do_run(handle, final_targets, final_fetches,\n\u001b[0;32m--> 997\u001b[0;31m                              feed_dict_string, options, run_metadata)\n\u001b[0m\u001b[1;32m    998\u001b[0m     \u001b[0;32melse\u001b[0m\u001b[0;34m:\u001b[0m\u001b[0;34m\u001b[0m\u001b[0m\n\u001b[1;32m    999\u001b[0m       \u001b[0mresults\u001b[0m \u001b[0;34m=\u001b[0m \u001b[0;34m[\u001b[0m\u001b[0;34m]\u001b[0m\u001b[0;34m\u001b[0m\u001b[0m\n",
      "\u001b[0;32m/home/qw/anaconda3/envs/py36/lib/python3.6/site-packages/tensorflow/python/client/session.py\u001b[0m in \u001b[0;36m_do_run\u001b[0;34m(self, handle, target_list, fetch_list, feed_dict, options, run_metadata)\u001b[0m\n\u001b[1;32m   1130\u001b[0m     \u001b[0;32mif\u001b[0m \u001b[0mhandle\u001b[0m \u001b[0;32mis\u001b[0m \u001b[0;32mNone\u001b[0m\u001b[0;34m:\u001b[0m\u001b[0;34m\u001b[0m\u001b[0m\n\u001b[1;32m   1131\u001b[0m       return self._do_call(_run_fn, self._session, feed_dict, fetch_list,\n\u001b[0;32m-> 1132\u001b[0;31m                            target_list, options, run_metadata)\n\u001b[0m\u001b[1;32m   1133\u001b[0m     \u001b[0;32melse\u001b[0m\u001b[0;34m:\u001b[0m\u001b[0;34m\u001b[0m\u001b[0m\n\u001b[1;32m   1134\u001b[0m       return self._do_call(_prun_fn, self._session, handle, feed_dict,\n",
      "\u001b[0;32m/home/qw/anaconda3/envs/py36/lib/python3.6/site-packages/tensorflow/python/client/session.py\u001b[0m in \u001b[0;36m_do_call\u001b[0;34m(self, fn, *args)\u001b[0m\n\u001b[1;32m   1150\u001b[0m         \u001b[0;32mexcept\u001b[0m \u001b[0mKeyError\u001b[0m\u001b[0;34m:\u001b[0m\u001b[0;34m\u001b[0m\u001b[0m\n\u001b[1;32m   1151\u001b[0m           \u001b[0;32mpass\u001b[0m\u001b[0;34m\u001b[0m\u001b[0m\n\u001b[0;32m-> 1152\u001b[0;31m       \u001b[0;32mraise\u001b[0m \u001b[0mtype\u001b[0m\u001b[0;34m(\u001b[0m\u001b[0me\u001b[0m\u001b[0;34m)\u001b[0m\u001b[0;34m(\u001b[0m\u001b[0mnode_def\u001b[0m\u001b[0;34m,\u001b[0m \u001b[0mop\u001b[0m\u001b[0;34m,\u001b[0m \u001b[0mmessage\u001b[0m\u001b[0;34m)\u001b[0m\u001b[0;34m\u001b[0m\u001b[0m\n\u001b[0m\u001b[1;32m   1153\u001b[0m \u001b[0;34m\u001b[0m\u001b[0m\n\u001b[1;32m   1154\u001b[0m   \u001b[0;32mdef\u001b[0m \u001b[0m_extend_graph\u001b[0m\u001b[0;34m(\u001b[0m\u001b[0mself\u001b[0m\u001b[0;34m)\u001b[0m\u001b[0;34m:\u001b[0m\u001b[0;34m\u001b[0m\u001b[0m\n",
      "\u001b[0;31mInvalidArgumentError\u001b[0m: Shape [-1,2] has negative dimensions\n\t [[Node: input/Placeholder = Placeholder[dtype=DT_FLOAT, shape=[?,2], _device=\"/job:localhost/replica:0/task:0/cpu:0\"]()]]\n\nCaused by op 'input/Placeholder', defined at:\n  File \"/home/qw/anaconda3/envs/py36/lib/python3.6/runpy.py\", line 193, in _run_module_as_main\n    \"__main__\", mod_spec)\n  File \"/home/qw/anaconda3/envs/py36/lib/python3.6/runpy.py\", line 85, in _run_code\n    exec(code, run_globals)\n  File \"/home/qw/anaconda3/envs/py36/lib/python3.6/site-packages/ipykernel_launcher.py\", line 16, in <module>\n    app.launch_new_instance()\n  File \"/home/qw/anaconda3/envs/py36/lib/python3.6/site-packages/traitlets/config/application.py\", line 658, in launch_instance\n    app.start()\n  File \"/home/qw/anaconda3/envs/py36/lib/python3.6/site-packages/ipykernel/kernelapp.py\", line 477, in start\n    ioloop.IOLoop.instance().start()\n  File \"/home/qw/anaconda3/envs/py36/lib/python3.6/site-packages/zmq/eventloop/ioloop.py\", line 177, in start\n    super(ZMQIOLoop, self).start()\n  File \"/home/qw/anaconda3/envs/py36/lib/python3.6/site-packages/tornado/ioloop.py\", line 888, in start\n    handler_func(fd_obj, events)\n  File \"/home/qw/anaconda3/envs/py36/lib/python3.6/site-packages/tornado/stack_context.py\", line 277, in null_wrapper\n    return fn(*args, **kwargs)\n  File \"/home/qw/anaconda3/envs/py36/lib/python3.6/site-packages/zmq/eventloop/zmqstream.py\", line 440, in _handle_events\n    self._handle_recv()\n  File \"/home/qw/anaconda3/envs/py36/lib/python3.6/site-packages/zmq/eventloop/zmqstream.py\", line 472, in _handle_recv\n    self._run_callback(callback, msg)\n  File \"/home/qw/anaconda3/envs/py36/lib/python3.6/site-packages/zmq/eventloop/zmqstream.py\", line 414, in _run_callback\n    callback(*args, **kwargs)\n  File \"/home/qw/anaconda3/envs/py36/lib/python3.6/site-packages/tornado/stack_context.py\", line 277, in null_wrapper\n    return fn(*args, **kwargs)\n  File \"/home/qw/anaconda3/envs/py36/lib/python3.6/site-packages/ipykernel/kernelbase.py\", line 283, in dispatcher\n    return self.dispatch_shell(stream, msg)\n  File \"/home/qw/anaconda3/envs/py36/lib/python3.6/site-packages/ipykernel/kernelbase.py\", line 235, in dispatch_shell\n    handler(stream, idents, msg)\n  File \"/home/qw/anaconda3/envs/py36/lib/python3.6/site-packages/ipykernel/kernelbase.py\", line 399, in execute_request\n    user_expressions, allow_stdin)\n  File \"/home/qw/anaconda3/envs/py36/lib/python3.6/site-packages/ipykernel/ipkernel.py\", line 196, in do_execute\n    res = shell.run_cell(code, store_history=store_history, silent=silent)\n  File \"/home/qw/anaconda3/envs/py36/lib/python3.6/site-packages/ipykernel/zmqshell.py\", line 533, in run_cell\n    return super(ZMQInteractiveShell, self).run_cell(*args, **kwargs)\n  File \"/home/qw/anaconda3/envs/py36/lib/python3.6/site-packages/IPython/core/interactiveshell.py\", line 2717, in run_cell\n    interactivity=interactivity, compiler=compiler, result=result)\n  File \"/home/qw/anaconda3/envs/py36/lib/python3.6/site-packages/IPython/core/interactiveshell.py\", line 2821, in run_ast_nodes\n    if self.run_code(code, result):\n  File \"/home/qw/anaconda3/envs/py36/lib/python3.6/site-packages/IPython/core/interactiveshell.py\", line 2881, in run_code\n    exec(code_obj, self.user_global_ns, self.user_ns)\n  File \"<ipython-input-2-c728a11e9642>\", line 7, in <module>\n    a = tf.placeholder(shape = (None,2), dtype = tf.float32)\n  File \"/home/qw/anaconda3/envs/py36/lib/python3.6/site-packages/tensorflow/python/ops/array_ops.py\", line 1530, in placeholder\n    return gen_array_ops._placeholder(dtype=dtype, shape=shape, name=name)\n  File \"/home/qw/anaconda3/envs/py36/lib/python3.6/site-packages/tensorflow/python/ops/gen_array_ops.py\", line 1954, in _placeholder\n    name=name)\n  File \"/home/qw/anaconda3/envs/py36/lib/python3.6/site-packages/tensorflow/python/framework/op_def_library.py\", line 767, in apply_op\n    op_def=op_def)\n  File \"/home/qw/anaconda3/envs/py36/lib/python3.6/site-packages/tensorflow/python/framework/ops.py\", line 2506, in create_op\n    original_op=self._default_original_op, op_def=op_def)\n  File \"/home/qw/anaconda3/envs/py36/lib/python3.6/site-packages/tensorflow/python/framework/ops.py\", line 1269, in __init__\n    self._traceback = _extract_stack()\n\nInvalidArgumentError (see above for traceback): Shape [-1,2] has negative dimensions\n\t [[Node: input/Placeholder = Placeholder[dtype=DT_FLOAT, shape=[?,2], _device=\"/job:localhost/replica:0/task:0/cpu:0\"]()]]\n"
     ]
    }
   ],
   "source": [
    "#tf.add_n测试，总之，就是把多个Tensor聚集起来，等于强行画计算图依赖关系，参与计算。\n",
    "\n",
    "arr_a = np.array([[1,2],[3,4]])\n",
    "arr_b = np.array([[10,11],[12,13]])\n",
    "print(arr_a)\n",
    "print(arr_a.shape)\n",
    "print(arr_b)\n",
    "with tf.name_scope(name = 'input'):\n",
    "    a = tf.placeholder(shape = (None,2), dtype = tf.float32)\n",
    "    b = tf.placeholder(shape = (None,2), dtype = tf.float32)\n",
    "\n",
    "#total = tf.add_n(a,b)#错误写法\n",
    "# total = tf.add_n([a,b])#正确写法1\n",
    "\n",
    "#正确写法2，不过最好重启内核，GLOBAL比较乱。\n",
    "#total = tf.add_n(tf.get_collection(tf.GraphKeys.GLOBAL_VARIABLES))\n",
    "\n",
    "#正确写法3，不过最好重启内核，GLOBAL比较乱。\n",
    "# total = tf.add_n(tf.get_collection(tf.GraphKeys.GLOBAL_VARIABLES))\n",
    "\n",
    "\n",
    "#正确写法4\n",
    "tf.add_to_collection('input_test', [a,b])\n",
    "total = tf.add_n(tf.get_collection('input_test'))\n",
    "\n",
    "#写法5:从scope获取变量。\n",
    "# total = tf.add_n(tf.get_collection(tf.get_variable_scope()))\n",
    "\n",
    "with tf.Session() as sess:\n",
    "    tf.global_variables_initializer().run()\n",
    "    print('total:',sess.run(total, feed_dict={a:arr_a, b:arr_b}))\n",
    "    print('a:',sess.run(a, feed_dict={a:arr_a, b:arr_b}))\n",
    "    print(sess.run(b, feed_dict={a:arr_a, b:arr_b}))\n",
    "    "
   ]
  },
  {
   "cell_type": "code",
   "execution_count": null,
   "metadata": {},
   "outputs": [],
   "source": []
  },
  {
   "cell_type": "code",
   "execution_count": 27,
   "metadata": {},
   "outputs": [
    {
     "name": "stdout",
     "output_type": "stream",
     "text": [
      "Help on function get_collection in module tensorflow.python.framework.ops:\n",
      "\n",
      "get_collection(key, scope=None)\n",
      "    Wrapper for `Graph.get_collection()` using the default graph.\n",
      "    \n",
      "    See @{tf.Graph.get_collection}\n",
      "    for more details.\n",
      "    \n",
      "    Args:\n",
      "      key: The key for the collection. For example, the `GraphKeys` class\n",
      "        contains many standard names for collections.\n",
      "      scope: (Optional.) If supplied, the resulting list is filtered to include\n",
      "        only items whose `name` attribute matches using `re.match`. Items\n",
      "        without a `name` attribute are never returned if a scope is supplied and\n",
      "        the choice or `re.match` means that a `scope` without special tokens\n",
      "        filters by prefix.\n",
      "    \n",
      "    Returns:\n",
      "      The list of values in the collection with the given `name`, or\n",
      "      an empty list if no value has been added to that collection. The\n",
      "      list contains the values in the order under which they were\n",
      "      collected.\n",
      "\n"
     ]
    }
   ],
   "source": [
    "help(tf.get_collection)"
   ]
  },
  {
   "cell_type": "code",
   "execution_count": 39,
   "metadata": {},
   "outputs": [
    {
     "data": {
      "image/png": "[encoded data removed]",
      "text/plain": [
       "<matplotlib.figure.Figure at 0x7fe929b2b748>"
      ]
     },
     "metadata": {},
     "output_type": "display_data"
    }
   ],
   "source": [
    "#squeeze测试\n",
    "c = np.squeeze(Y_c)\n",
    "# print(c)\n",
    "\n",
    "#plt.scatter(X[:,0],X[:,1],c = np.squeeze(Y_c)[0:10])#颜色数量不够匹配数据，也不报错，但是打印出来就不太一样了\n",
    "#plt.scatter(X[:,0],X[:,1],c = np.squeeze(Y_c)[0:1000])#颜色数量不够匹配数据，也不报错，但是打印出来就不太一样了\n",
    "#实测，颜色不足的时候，自动交替脑补\n",
    "X6 = np.array([[1,1],[2,2],[3,3],[4,4],[5,5],[5.5,6],[6.1,6.5]])\n",
    "plt.scatter(X6[:,0],X6[:,1],c = ['red','blue','green','yellow'])\n",
    "# plt.scatter(X6[:,0],X6[:,1],c = ['red','yellow'])\n",
    "plt.show()\n"
   ]
  },
  {
   "cell_type": "code",
   "execution_count": null,
   "metadata": {
    "collapsed": true
   },
   "outputs": [],
   "source": []
  }
 ],
 "metadata": {
  "kernelspec": {
   "display_name": "virtual py36",
   "language": "python",
   "name": "py36"
  },
  "language_info": {
   "codemirror_mode": {
    "name": "ipython",
    "version": 3
   },
   "file_extension": ".py",
   "mimetype": "text/x-python",
   "name": "python",
   "nbconvert_exporter": "python",
   "pygments_lexer": "ipython3",
   "version": "3.6.1"
  }
 },
 "nbformat": 4,
 "nbformat_minor": 2
}
