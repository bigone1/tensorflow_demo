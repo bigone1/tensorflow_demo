{
 "cells": [
  {
   "cell_type": "markdown",
   "metadata": {},
   "source": [
    "广播操作\n",
    "实际的Wx+b操作是广播操作\n",
    "W*x + bias in batch condition"
   ]
  },
  {
   "cell_type": "code",
   "execution_count": 2,
   "metadata": {
    "collapsed": true
   },
   "outputs": [],
   "source": [
    "\n",
    "import tensorflow as tf\n",
    "import numpy as np"
   ]
  },
  {
   "cell_type": "code",
   "execution_count": 1,
   "metadata": {},
   "outputs": [
    {
     "name": "stdout",
     "output_type": "stream",
     "text": [
      "(2, 3)\n",
      "(3,)\n",
      "[[100 200 300]\n",
      " [400 500 600]]\n",
      "[[101 201 301]\n",
      " [401 501 601]]\n"
     ]
    }
   ],
   "source": [
    "#tensorflow add operation demo\n",
    "\n",
    "\n",
    "\n",
    "#batch_size = 2\n",
    "Wx = tf.constant([[100,200,300],[400,500,600]])\n",
    "print(Wx.shape)\n",
    "b = tf.constant([1,1,1])\n",
    "print(b.shape)\n",
    "\n",
    "#every vector in batch plus b\n",
    "Wx_plus_b = Wx + b\n",
    "\n",
    "with tf.Session() as sess:\n",
    "    print(sess.run(Wx))\n",
    "    print(sess.run(Wx_plus_b))"
   ]
  },
  {
   "cell_type": "code",
   "execution_count": 5,
   "metadata": {},
   "outputs": [
    {
     "name": "stdout",
     "output_type": "stream",
     "text": [
      "a:\n",
      " [[ 0  1  2  3]\n",
      " [ 4  5  6  7]\n",
      " [ 8  9 10 11]]\n",
      "bias_add1:\n",
      " [[ 1  3  5  7]\n",
      " [ 5  7  9 11]\n",
      " [ 9 11 13 15]]\n",
      "bias_add2:\n",
      " [[ 1  3  5  7]\n",
      " [ 5  7  9 11]\n",
      " [ 9 11 13 15]]\n"
     ]
    }
   ],
   "source": [
    "#模拟深度网络中的bias广播操作\n",
    "a = tf.Variable(np.arange(12).reshape(3,4))\n",
    "b = tf.constant([1,2,3,4],dtype=tf.int64)\n",
    "#两种写法\n",
    "bias_add1 = tf.nn.bias_add(a,b)\n",
    "bias_add2 = a + b\n",
    "\n",
    "#sess = tf.Session()\n",
    "with tf.Session() as sess:\n",
    "    tf.global_variables_initializer().run()\n",
    "\n",
    "    print('a:\\n',sess.run(a))\n",
    "    print('bias_add1:\\n',sess.run(bias_add1))\n",
    "    print('bias_add2:\\n',sess.run(bias_add2))\n"
   ]
  },
  {
   "cell_type": "code",
   "execution_count": null,
   "metadata": {
    "collapsed": true
   },
   "outputs": [],
   "source": []
  }
 ],
 "metadata": {
  "kernelspec": {
   "display_name": "virtual py36",
   "language": "python",
   "name": "py36"
  },
  "language_info": {
   "codemirror_mode": {
    "name": "ipython",
    "version": 3
   },
   "file_extension": ".py",
   "mimetype": "text/x-python",
   "name": "python",
   "nbconvert_exporter": "python",
   "pygments_lexer": "ipython3",
   "version": "3.6.1"
  }
 },
 "nbformat": 4,
 "nbformat_minor": 2
}
