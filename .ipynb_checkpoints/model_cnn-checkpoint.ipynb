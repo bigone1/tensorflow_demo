{
 "cells": [
  {
   "cell_type": "code",
   "execution_count": null,
   "metadata": {
    "collapsed": true
   },
   "outputs": [],
   "source": [
    "#build_NN_conv.py"
   ]
  },
  {
   "cell_type": "code",
   "execution_count": 1,
   "metadata": {},
   "outputs": [],
   "source": [
    "import tensorflow as tf\n",
    "import numpy as np\n",
    "from tensorflow.examples.tutorials.mnist import input_data"
   ]
  },
  {
   "cell_type": "code",
   "execution_count": 2,
   "metadata": {},
   "outputs": [
    {
     "name": "stdout",
     "output_type": "stream",
     "text": [
      "Extracting MNIST_data/train-images-idx3-ubyte.gz\n",
      "Extracting MNIST_data/train-labels-idx1-ubyte.gz\n",
      "Extracting MNIST_data/t10k-images-idx3-ubyte.gz\n",
      "Extracting MNIST_data/t10k-labels-idx1-ubyte.gz\n"
     ]
    }
   ],
   "source": [
    "mnist = input_data.read_data_sets('MNIST_data', one_hot=True)"
   ]
  },
  {
   "cell_type": "code",
   "execution_count": 3,
   "metadata": {},
   "outputs": [
    {
     "name": "stdout",
     "output_type": "stream",
     "text": [
      "mnist_train_0.jpg label: 7\n",
      "mnist_train_1.jpg label: 3\n",
      "mnist_train_2.jpg label: 4\n",
      "mnist_train_3.jpg label: 6\n",
      "mnist_train_4.jpg label: 1\n",
      "mnist_train_5.jpg label: 8\n",
      "mnist_train_6.jpg label: 1\n",
      "mnist_train_7.jpg label: 0\n",
      "mnist_train_8.jpg label: 9\n",
      "mnist_train_9.jpg label: 8\n",
      "mnist_train_10.jpg label: 0\n",
      "mnist_train_11.jpg label: 3\n",
      "mnist_train_12.jpg label: 1\n",
      "mnist_train_13.jpg label: 2\n",
      "mnist_train_14.jpg label: 7\n",
      "mnist_train_15.jpg label: 0\n",
      "mnist_train_16.jpg label: 2\n",
      "mnist_train_17.jpg label: 9\n",
      "mnist_train_18.jpg label: 6\n",
      "mnist_train_19.jpg label: 0\n"
     ]
    }
   ],
   "source": [
    "for i in range(20):\n",
    "   one_hot_label = mnist.train.labels[i, :]\n",
    "   label = np.argmax(one_hot_label)\n",
    "   print('mnist_train_%d.jpg label: %d' % (i, label))\n"
   ]
  },
  {
   "cell_type": "code",
   "execution_count": null,
   "metadata": {
    "collapsed": true
   },
   "outputs": [],
   "source": [
    "#定义声明变量和网络层的接口\n",
    "def compute_accuracy(v_xs, v_ys):\n",
    "\tglobal prediction#meaning?\n",
    "\ty_pre = sess.run(prediction,{xs:v_xs,keep_prob:1})\n",
    "\tcorrect_prediction = tf.equal(tf.argmax(y_pre,1), tf.argmax(v_ys,1))\n",
    "\taccu = tf.reduce_mean(tf.cast(correct_prediction,tf.float32))\n",
    "\tresult = sess.run(accu,{xs:v_xs,keep_prob:1})#error?no ys\n",
    "\treturn result\n",
    "\n",
    "def weight_variable(shape):\n",
    "\tinitial = tf.truncated_normal(shape, stddev=0.1)\n",
    "\treturn tf.Variable(initial)\n",
    "\n",
    "def bias_variable(shape):\n",
    "\tinitial = tf.constant(0.1, shape=shape)\n",
    "\treturn tf.Variable(initial)\n",
    "\n",
    "def conv2d(x, W):\n",
    "\treturn tf.nn.conv2d(x, W, strides=[1,1,1,1], padding='SAME')\n",
    "\n",
    "def max_pool_2x2(x):\n",
    "\treturn tf.nn.max_pool(x, ksize = [1,2,2,1], strides=[1,2,2,1], padding='SAME')"
   ]
  },
  {
   "cell_type": "code",
   "execution_count": null,
   "metadata": {
    "collapsed": true
   },
   "outputs": [],
   "source": []
  },
  {
   "cell_type": "code",
   "execution_count": null,
   "metadata": {
    "collapsed": true
   },
   "outputs": [],
   "source": [
    "\n",
    "#xs = tf.placeholder(tf.float32, [None, 784])#None equals to -1?\n",
    "xs = tf.placeholder(tf.float32, [None, 784]) /255.#None equals to -1?\n",
    "ys = tf.placeholder(tf.float32, [None, 10])\n",
    "keep_prob = tf.placeholder(tf.float32)\n",
    "x_image = tf.reshape(xs, [-1,28,28,1])\n",
    "#x_image = tf.reshape(xs,[-1,28,28,1])\n",
    "#x_image = xs.reshape([-1,28,28,1])\n",
    "#x_image = tf.reshape(xs, [-1, 28, 28, 1])\n",
    "\n",
    "#conv1 layer\n",
    "W_conv1 = weight_variable([5,5,1,32])\n",
    "b_conv1 = bias_variable([32])\n",
    "h_conv1 = conv2d(x_image,W_conv1) + b_conv1#28*28\n",
    "h_conv1 = tf.nn.relu(h_conv1)\n",
    "h_pool1 = max_pool_2x2(h_conv1)#14*14\n",
    "\n",
    "#conv2 layer\n",
    "W_conv2 = weight_variable([5,5,32,64])\n",
    "b_conv2 = bias_variable([64])\n",
    "h_conv2 = conv2d(h_pool1, W_conv2) + b_conv2\n",
    "h_conv2 = tf.nn.relu(h_conv2)\n",
    "h_pool2 = max_pool_2x2(h_conv2)#7*7\n",
    "\n",
    "#fc1 layer\n",
    "W_fc1 = weight_variable([7*7*64, 1024])\n",
    "b_fc1 = bias_variable([1024])\n",
    "print(type(h_pool2))\n",
    "print(h_pool2)\n",
    "#h_pool2_flat = h_pool2.reshape([-1, 7*7*64])\n",
    "h_pool2_flat = tf.reshape(h_pool2,[-1, 7*7*64])\n",
    "#h_pool2_flat = tf.reshape(h_pool2, [-1, 7*7*64])\n",
    "h_fc1 = tf.matmul(h_pool2_flat, W_fc1) + b_fc1\n",
    "h_fc1 = tf.nn.relu(h_fc1)\n",
    "h_fc1_drop = tf.nn.dropout(h_fc1,keep_prob)\n",
    "\n",
    "#fc2 layer\n",
    "W_fc2 = weight_variable([1024,10])\n",
    "b_fc2 = bias_variable([10])\n",
    "prediction = tf.nn.softmax(tf.matmul(h_fc1_drop,W_fc2) + b_fc2)\n",
    "\n",
    "#loss\n",
    "cross_entropy = tf.reduce_mean(-tf.reduce_sum(ys*tf.log(prediction),reduction_indices=[1]))\n",
    "\n",
    "#train\n",
    "\n",
    "train_step = tf.train.AdamOptimizer(1e-4).minimize(cross_entropy)\n",
    "\n",
    "sess = tf.Session()\n",
    "init = tf.global_variables_initializer()\n",
    "sess.run(init)\n",
    "writer = tf.summary.FileWriter(\"cnn_graph/\",sess.graph)\n",
    "for i in range(1000):\n",
    "\tbatch_xs, batch_ys = mnist.train.next_batch(100)\n",
    "\tsess.run(train_step,{xs:batch_xs, ys:batch_ys, keep_prob:0.5})\n",
    "\tif i%50 == 0:\n",
    "\t\tprint(compute_accuracy(mnist.test.images[:1000], mnist.test.labels[:1000]))\n",
    "\n",
    "\n",
    "\n",
    "\n",
    "\n",
    "\n",
    "\n",
    "\n",
    "\n",
    "\n",
    "\n",
    "\n",
    "\n",
    "\n",
    "\n"
   ]
  }
 ],
 "metadata": {
  "kernelspec": {
   "display_name": "virtual py36",
   "language": "python",
   "name": "py36"
  },
  "language_info": {
   "codemirror_mode": {
    "name": "ipython",
    "version": 3
   },
   "file_extension": ".py",
   "mimetype": "text/x-python",
   "name": "python",
   "nbconvert_exporter": "python",
   "pygments_lexer": "ipython3",
   "version": "3.6.1"
  }
 },
 "nbformat": 4,
 "nbformat_minor": 2
}
