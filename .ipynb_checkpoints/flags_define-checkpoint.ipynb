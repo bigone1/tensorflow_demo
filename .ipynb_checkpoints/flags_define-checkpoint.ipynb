{
 "cells": [
  {
   "cell_type": "markdown",
   "metadata": {},
   "source": [
    "需要在运行时用--name赋值，或者--help查看说明\n",
    "#python flags_input.py --help\n",
    "#python flags_input.py --name ha\n"
   ]
  },
  {
   "cell_type": "code",
   "execution_count": 2,
   "metadata": {
    "collapsed": true
   },
   "outputs": [],
   "source": [
    "#tf.app.flags  demo (equals to argv)\n",
    "import tensorflow as tf"
   ]
  },
  {
   "cell_type": "code",
   "execution_count": 3,
   "metadata": {},
   "outputs": [],
   "source": [
    "tf.app.flags.DEFINE_string('name', 'foo', 'this is a arg')\n",
    "tf.app.flags.DEFINE_integer('age', 18, 'this is your age')\n",
    "tf.app.flags.DEFINE_boolean('marry', False, 'did you marrys')\n",
    "\n",
    "FLAGS = tf.app.flags.FLAGS\n"
   ]
  },
  {
   "cell_type": "code",
   "execution_count": 4,
   "metadata": {},
   "outputs": [
    {
     "name": "stdout",
     "output_type": "stream",
     "text": [
      "foo\n",
      "18\n",
      "False\n"
     ]
    },
    {
     "ename": "SystemExit",
     "evalue": "",
     "output_type": "error",
     "traceback": [
      "An exception has occurred, use %tb to see the full traceback.\n",
      "\u001b[0;31mSystemExit\u001b[0m\n"
     ]
    },
    {
     "name": "stderr",
     "output_type": "stream",
     "text": [
      "/home/qw/anaconda3/envs/py36/lib/python3.6/site-packages/IPython/core/interactiveshell.py:2889: UserWarning: To exit: use 'exit', 'quit', or Ctrl-D.\n",
      "  warn(\"To exit: use 'exit', 'quit', or Ctrl-D.\", stacklevel=1)\n"
     ]
    }
   ],
   "source": [
    "#def main():#TypeError:takes 0 but 1 was given\n",
    "def main(_):\n",
    "\n",
    "    print(FLAGS.name)\n",
    "    print(FLAGS.age)\n",
    "    #print(FLAGS.asssge)#AttributeError\n",
    "    print(FLAGS.marry)\n",
    "if __name__ == '__main__':\n",
    "    tf.app.run()\n"
   ]
  },
  {
   "cell_type": "code",
   "execution_count": 4,
   "metadata": {},
   "outputs": [
    {
     "name": "stdout",
     "output_type": "stream",
     "text": [
      "Help on function DEFINE_boolean in module tensorflow.python.platform.flags:\n",
      "\n",
      "DEFINE_boolean(flag_name, default_value, docstring)\n",
      "    Defines a flag of type 'boolean'.\n",
      "    \n",
      "    Args:\n",
      "      flag_name: The name of the flag as a string.\n",
      "      default_value: The default value the flag should take as a boolean.\n",
      "      docstring: A helpful message explaining the use of the flag.\n",
      "\n"
     ]
    }
   ],
   "source": [
    "help(tf.app.flags.DEFINE_boolean)"
   ]
  },
  {
   "cell_type": "code",
   "execution_count": null,
   "metadata": {
    "collapsed": true
   },
   "outputs": [],
   "source": []
  }
 ],
 "metadata": {
  "kernelspec": {
   "display_name": "virtual py36",
   "language": "python",
   "name": "py36"
  },
  "language_info": {
   "codemirror_mode": {
    "name": "ipython",
    "version": 3
   },
   "file_extension": ".py",
   "mimetype": "text/x-python",
   "name": "python",
   "nbconvert_exporter": "python",
   "pygments_lexer": "ipython3",
   "version": "3.6.1"
  }
 },
 "nbformat": 4,
 "nbformat_minor": 2
}
