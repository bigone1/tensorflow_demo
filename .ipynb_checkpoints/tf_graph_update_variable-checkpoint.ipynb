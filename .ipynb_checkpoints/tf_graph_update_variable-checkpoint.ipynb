{
 "cells": [
  {
   "cell_type": "markdown",
   "metadata": {},
   "source": [
    "# graph中的变量更新问题，一个图，一条计算路径，“途径点”是不会因为出口变量计算而更新的"
   ]
  },
  {
   "cell_type": "code",
   "execution_count": 1,
   "metadata": {
    "collapsed": true
   },
   "outputs": [],
   "source": [
    "import tensorflow as tf\n",
    "import numpy as np"
   ]
  },
  {
   "cell_type": "code",
   "execution_count": 3,
   "metadata": {},
   "outputs": [],
   "source": [
    "with tf.name_scope(name='init'):\n",
    "    a = tf.Variable(3,dtype = tf.float32,name='init_a')\n",
    "    b = tf.constant(3,dtype = tf.float32,name='init_b')\n",
    "    c = tf.Variable(0,dtype=tf.float32)\n",
    "a = a + 1\n",
    "c = a + b\n",
    "#update = tf.assign(c,a+b,name = 'update_c')"
   ]
  },
  {
   "cell_type": "markdown",
   "metadata": {},
   "source": [
    "## 不能运行a来观察a是否变化，因为a的运行结果本来就应该是a+1,多运行几次c，如果a有变化，c就应该变化。实际结果：c多次运行不变，所以不会更新a。"
   ]
  },
  {
   "cell_type": "code",
   "execution_count": 9,
   "metadata": {},
   "outputs": [
    {
     "name": "stdout",
     "output_type": "stream",
     "text": [
      "7.0\n",
      "7.0\n",
      "7.0\n",
      "7.0\n",
      "7.0\n",
      "3.0\n"
     ]
    }
   ],
   "source": [
    "init = tf.global_variables_initializer()\n",
    "with tf.Session() as sess:\n",
    "    sess.run(init)\n",
    "    for i in range(5):\n",
    "        #sess.run(update)\n",
    "        print(sess.run(c))\n",
    "    #print(sess.run(a))\n",
    "    print(sess.run(b))\n",
    "    writer = tf.summary.FileWriter(logdir='graph_dir/',graph = sess.graph)"
   ]
  },
  {
   "cell_type": "markdown",
   "metadata": {},
   "source": [
    "## 话说回来，反向传播run(cost)是如何改变weight的？\n",
    "反向传播被optimizer().minimize()封装了操作，\n",
    "学习过程本来本来就是修改weight。\n",
    "w = w-alpha*delta"
   ]
  },
  {
   "cell_type": "markdown",
   "metadata": {},
   "source": [
    "# group操作的顺序问题"
   ]
  },
  {
   "cell_type": "markdown",
   "metadata": {},
   "source": [
    "### 例1:同时\n",
    "如下，update1是a自加1,update2是把a赋值给b，现将update1和update2打包。看b变化的顺序是否恒定。实测，不分传参时的左右，都是先赋值给b，再让a自加，算是同时操作，就是要赋值给b的那个旧的a，已经缓存了，a和b同时赋值改变。"
   ]
  },
  {
   "cell_type": "code",
   "execution_count": 16,
   "metadata": {},
   "outputs": [
    {
     "name": "stdout",
     "output_type": "stream",
     "text": [
      "0.0, 1.0, 2.0, 3.0, 4.0, 5.0, 6.0, 7.0, 8.0, 9.0, 10.0, 11.0, 12.0, 13.0, 14.0, 15.0, 16.0, 17.0, 18.0, 19.0, 20.0, 21.0, 22.0, 23.0, 24.0, 25.0, 26.0, 27.0, 28.0, 29.0, 30.0, 31.0, 32.0, 33.0, 34.0, 35.0, 36.0, 37.0, 38.0, 39.0, 40.0, 41.0, 42.0, 43.0, 44.0, 45.0, 46.0, 47.0, 48.0, 49.0, "
     ]
    }
   ],
   "source": [
    "#when range(500)two results randomly occur:499 and 500\n",
    "#when range(3000)two results randomly occur:2999 and 3000\n",
    "\n",
    "with tf.name_scope('initial'):\n",
    "    a = tf.Variable(0,dtype=tf.float32)\n",
    "    b = tf.Variable(0,dtype=tf.float32)\n",
    "\n",
    "#update\n",
    "update1 = tf.assign_add(a,1)\n",
    "update2 = tf.assign(b, a)\n",
    "#update = tf.group(update1,update2)\n",
    "update = tf.group(update2,update1)\n",
    "\n",
    "init = tf.global_variables_initializer()\n",
    "\n",
    "with tf.Session() as sess:\n",
    "    sess.run(init)\n",
    "\n",
    "    for _ in range(50):\n",
    "        _ = sess.run(update)\n",
    "        print(sess.run(b), end = ', ')"
   ]
  },
  {
   "cell_type": "markdown",
   "metadata": {},
   "source": [
    "## demo2,之前现象无法复现了，现在也是同步更新\n",
    "#for _ in range(30000): output is randomly in 0,-1,-2,-3,-4   and the final output is -4\n",
    "#for _ in range(30000): output is randomly in 0,1,2,3,4,5   and the final output is 4"
   ]
  },
  {
   "cell_type": "code",
   "execution_count": 34,
   "metadata": {},
   "outputs": [
    {
     "name": "stdout",
     "output_type": "stream",
     "text": [
      "[0.0, 0.0, 0.0]\n",
      "0.0\n"
     ]
    }
   ],
   "source": [
    "\n",
    "\n",
    "with tf.name_scope('initial'):\n",
    "    a = tf.Variable(0,dtype=tf.float32)\n",
    "    b = tf.Variable(0,dtype=tf.float32)\n",
    "\n",
    "#update\n",
    "update1 = tf.assign_add(a,1)\n",
    "update2 = tf.assign_sub(a,1)\n",
    "update3 = tf.assign(b, a)\n",
    "get_a = a\n",
    "get_b = b\n",
    "\n",
    "#update = tf.group(update1,update2,update3)#default sequence\n",
    "#update = tf.group(update1,update3,update2)#speculate wrong sequence:\n",
    "update = tf.group(update2,update3,update1)#speculate wrong sequence:\n",
    "\n",
    "init = tf.global_variables_initializer()\n",
    "\n",
    "with tf.Session() as sess:\n",
    "    sess.run(init)\n",
    "    a_ = []\n",
    "    result = []\n",
    "    for _ in range(3):\n",
    "        _ = sess.run(update)\n",
    "        result.append(sess.run(b))\n",
    "#         print(sess.run(get_a))\n",
    "#         print(sess.run(a))\n",
    "#         print(sess.run(update1))\n",
    "    print(result)\n",
    "    print(np.sum(result))\n"
   ]
  },
  {
   "cell_type": "code",
   "execution_count": null,
   "metadata": {
    "collapsed": true
   },
   "outputs": [],
   "source": []
  },
  {
   "cell_type": "code",
   "execution_count": null,
   "metadata": {},
   "outputs": [],
   "source": []
  },
  {
   "cell_type": "code",
   "execution_count": null,
   "metadata": {
    "collapsed": true
   },
   "outputs": [],
   "source": []
  }
 ],
 "metadata": {
  "kernelspec": {
   "display_name": "virtual py36",
   "language": "python",
   "name": "py36"
  },
  "language_info": {
   "codemirror_mode": {
    "name": "ipython",
    "version": 3
   },
   "file_extension": ".py",
   "mimetype": "text/x-python",
   "name": "python",
   "nbconvert_exporter": "python",
   "pygments_lexer": "ipython3",
   "version": "3.6.1"
  }
 },
 "nbformat": 4,
 "nbformat_minor": 2
}
