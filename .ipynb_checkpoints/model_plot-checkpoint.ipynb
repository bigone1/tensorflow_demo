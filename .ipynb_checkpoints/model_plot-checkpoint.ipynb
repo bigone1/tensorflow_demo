{
 "cells": [
  {
   "cell_type": "markdown",
   "metadata": {},
   "source": [
    "build_NN_plot.py\n",
    "预测结果也用plot打印"
   ]
  },
  {
   "cell_type": "code",
   "execution_count": 1,
   "metadata": {
    "collapsed": true
   },
   "outputs": [],
   "source": [
    "import tensorflow as tf\n",
    "import numpy as np\n",
    "import matplotlib.pyplot as plt"
   ]
  },
  {
   "cell_type": "code",
   "execution_count": 2,
   "metadata": {
    "collapsed": true
   },
   "outputs": [],
   "source": [
    "def add_layer(inputs, in_size, out_size, activation_function=None):\n",
    "\twith tf.name_scope('layer'):\n",
    "\t\twith tf.name_scope('weightss'):\n",
    "\t\t\tWeights = tf.Variable(tf.random_normal([in_size,out_size]),name='W')\n",
    "\t\twith tf.name_scope('biases'):\n",
    "\t\t\tbiases = tf.Variable(tf.zeros([1,out_size]) + 0.1,name='b')\n",
    "\t\twith tf.name_scope('Wx_plus_b'):\n",
    "\t\t\tWx_plus_b = tf.add(tf.matmul(inputs,Weights), biases)\n",
    "\t\tif activation_function is None:\n",
    "\t\t\toutputs = Wx_plus_b\n",
    "\t\telse:\n",
    "\t\t\toutputs = activation_function(Wx_plus_b)\n",
    "\t\treturn outputs"
   ]
  },
  {
   "cell_type": "code",
   "execution_count": 3,
   "metadata": {
    "collapsed": true
   },
   "outputs": [],
   "source": [
    "x_data = np.linspace(-1,1,300)[:,np.newaxis]\n",
    "noise = np.random.normal(0,0.05,x_data.shape)\n",
    "y_data = np.square(x_data) - 0.5 + noise"
   ]
  },
  {
   "cell_type": "code",
   "execution_count": 4,
   "metadata": {},
   "outputs": [
    {
     "data": {
      "image/png": "[encoded data removed]",
      "text/plain": [
       "<matplotlib.figure.Figure at 0x7f2b594595c0>"
      ]
     },
     "metadata": {},
     "output_type": "display_data"
    }
   ],
   "source": [
    "fig = plt.figure()\n",
    "ax = fig.add_subplot(1,1,1)\n",
    "ax.scatter(x_data,y_data)\n",
    "plt.ion()\n",
    "plt.show()"
   ]
  },
  {
   "cell_type": "code",
   "execution_count": 5,
   "metadata": {},
   "outputs": [],
   "source": [
    "with tf.name_scope('inputs'):\n",
    "\txs = tf.placeholder(tf.float32,[None,1],name='x_input')\n",
    "\tys = tf.placeholder(tf.float32,[None,1],name='y_input')\n",
    "#l1 = add_layer(x_data, 1, 10, activation_function = tf.nn.relu)#without phdr\n",
    "l1 = add_layer(xs, 1, 10, activation_function = tf.nn.relu)\n",
    "prediction = add_layer(l1,10,1,activation_function = None)\n",
    "with tf.name_scope('loss'):\n",
    "\tloss = tf.reduce_mean(tf.reduce_sum(\n",
    "\t\t\ttf.square(ys - prediction),reduction_indices=[1]))\n",
    "\t#tf.square(y_data - prediction),reduction_indices=[1]))#without phdr\n",
    "#optimizer = GradientDescent\n",
    "#train = optimizer.minimize()\n",
    "with tf.name_scope('train'):\n",
    "\ttrain_step = tf.train.GradientDescentOptimizer(0.5).minimize(loss)\n",
    "init = tf.global_variables_initializer()"
   ]
  },
  {
   "cell_type": "code",
   "execution_count": 7,
   "metadata": {},
   "outputs": [
    {
     "name": "stdout",
     "output_type": "stream",
     "text": [
      "1.20771\n",
      "0.0585721\n",
      "0.0581159\n",
      "0.0579808\n",
      "0.0579238\n",
      "0.0579015\n",
      "0.0578946\n",
      "0.0578921\n",
      "0.0578912\n",
      "0.0578909\n",
      "0.0578908\n",
      "0.0578907\n",
      "0.0578907\n",
      "0.0578907\n",
      "0.0578907\n",
      "0.0578907\n",
      "0.0578907\n",
      "0.0578907\n",
      "0.0578907\n",
      "0.0578907\n"
     ]
    }
   ],
   "source": [
    "\n",
    "plt.show()\n",
    "\n",
    "with tf.Session() as sess:\n",
    "#\twriter = tf.train.SummaryWriter(\"logs/\",sess.graph)\n",
    "\twriter = tf.summary.FileWriter(\"logs/\",sess.graph)\n",
    "\twriter2 = tf.summary.FileWriter(\"logs2/\",sess.graph)\n",
    "\ttf.summary.FileWriter(\"logs3/\",sess.graph)\n",
    "\tsess.run(init)\n",
    "\tfor i in range(1000):\n",
    "\t\tsess.run(train_step,{xs:x_data, ys:y_data})\n",
    "#placeholder is for sake of mini batch\n",
    "\t\tif i % 50 == 0:\n",
    "\t\t\ttry:\n",
    "\t\t\t\tax.lines.remove(lines[0])\n",
    "\t\t\texcept Exception:\n",
    "\t\t\t\tpass\n",
    "\t\t\tprint(sess.run(loss,{xs:x_data,ys:y_data}))\n",
    "\t\t\tprediction_value = sess.run(prediction,{xs:x_data})\n",
    "\t\t\tlines = ax.plot(x_data,prediction_value,'r-',lw=5)\n",
    "\t\t\t#ax.lines.remove(lines[0])\n",
    "\t\t\tplt.pause(0.1)\n",
    "\n",
    "\t\t\t#plt.show()\n",
    "\n",
    "plt.ioff()\n",
    "plt.show()\n"
   ]
  },
  {
   "cell_type": "code",
   "execution_count": null,
   "metadata": {
    "collapsed": true
   },
   "outputs": [],
   "source": []
  }
 ],
 "metadata": {
  "kernelspec": {
   "display_name": "virtual py36",
   "language": "python",
   "name": "py36"
  },
  "language_info": {
   "codemirror_mode": {
    "name": "ipython",
    "version": 3
   },
   "file_extension": ".py",
   "mimetype": "text/x-python",
   "name": "python",
   "nbconvert_exporter": "python",
   "pygments_lexer": "ipython3",
   "version": "3.6.1"
  }
 },
 "nbformat": 4,
 "nbformat_minor": 2
}
