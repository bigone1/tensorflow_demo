{
 "cells": [
  {
   "cell_type": "code",
   "execution_count": null,
   "metadata": {
    "collapsed": true
   },
   "outputs": [],
   "source": []
  },
  {
   "cell_type": "code",
   "execution_count": 1,
   "metadata": {
    "collapsed": true
   },
   "outputs": [],
   "source": [
    "import tensorflow as tf"
   ]
  },
  {
   "cell_type": "code",
   "execution_count": null,
   "metadata": {},
   "outputs": [],
   "source": []
  },
  {
   "cell_type": "markdown",
   "metadata": {},
   "source": [
    "# assign两种调用：其实都是一种，v对象调用assign，赋值，并返回tensor"
   ]
  },
  {
   "cell_type": "code",
   "execution_count": 16,
   "metadata": {},
   "outputs": [
    {
     "name": "stdout",
     "output_type": "stream",
     "text": [
      "<class 'tensorflow.python.framework.ops.Tensor'>\n"
     ]
    }
   ],
   "source": [
    "v = tf.Variable(3,name='v')\n",
    "v2 = v.assign(5)\n",
    "v3 = tf.assign(v,6)#change v,and return new value to v3!!!!!!!\n",
    "print(type(v3))\n",
    "update = tf.assign(v,10)#v3就如同update，本质是一个op，不是一个variable"
   ]
  },
  {
   "cell_type": "code",
   "execution_count": 11,
   "metadata": {},
   "outputs": [
    {
     "name": "stdout",
     "output_type": "stream",
     "text": [
      "v is : 3\n",
      "5\n",
      "6\n",
      "after run(v3): v is  6\n",
      "10\n",
      "after run(update): v is  10\n"
     ]
    }
   ],
   "source": [
    "sess = tf.InteractiveSession()\n",
    "sess.run(v.initializer)\n",
    "print('v is :',sess.run(v))\n",
    "print(sess.run(v2))\n",
    "print(sess.run(v3))\n",
    "print('after run(v3): v is ',sess.run(v))\n",
    "sess.run(update)\n",
    "print(sess.run(v))\n",
    "print('after run(update): v is ',sess.run(v))"
   ]
  },
  {
   "cell_type": "code",
   "execution_count": 3,
   "metadata": {
    "collapsed": true
   },
   "outputs": [],
   "source": [
    "#demo2\n",
    "v = tf.Variable(3,name='v')\n",
    "v.assign(5)\n",
    "v2 = v.assign(5)"
   ]
  },
  {
   "cell_type": "code",
   "execution_count": 15,
   "metadata": {},
   "outputs": [
    {
     "name": "stdout",
     "output_type": "stream",
     "text": [
      "3\n",
      "5\n",
      "5\n"
     ]
    }
   ],
   "source": [
    "#sess = tf.InteractiveSession()\n",
    "with tf.Session() as sess:\n",
    "    sess.run(v.initializer)\n",
    "    print(sess.run(v))#无变化，sess.run(v)不隐含自赋值操作，不会执行那个v.assign\n",
    "    print(sess.run(v2))\n",
    "    print(sess.run(v))"
   ]
  },
  {
   "cell_type": "markdown",
   "metadata": {},
   "source": [
    "# demo3：两种自加操作"
   ]
  },
  {
   "cell_type": "code",
   "execution_count": 5,
   "metadata": {},
   "outputs": [
    {
     "name": "stdout",
     "output_type": "stream",
     "text": [
      "<class 'tensorflow.python.ops.variables.Variable'>\n",
      "<class 'tensorflow.python.framework.ops.Tensor'>\n"
     ]
    }
   ],
   "source": [
    "v = tf.Variable(3,name='v')\n",
    "# v = v.assign(5)#weird error:Tensor has no attribute 'assign'\n",
    "#v.assign(5)\n",
    "#tf.assign(v,5)\n",
    "print(type(v))\n",
    "v = tf.add(v,1)#这个操作改变了性质，导致assign报错\n",
    "print(type(v))\n",
    "#tf.assign() actually called Tensor obj's assign()??\n",
    "#v2 = v.assign(5)AttributeError: 'Tensor' object has no attribute 'assign'\n",
    "v2 = v"
   ]
  },
  {
   "cell_type": "code",
   "execution_count": 6,
   "metadata": {},
   "outputs": [
    {
     "name": "stdout",
     "output_type": "stream",
     "text": [
      "4\n"
     ]
    }
   ],
   "source": [
    "init = tf.global_variables_initializer()\n",
    "with tf.Session() as sess:\n",
    "    sess.run(init)\n",
    "    print(sess.run(v2))#不用run(v)，那个自加操作也生效了，在计算图中"
   ]
  },
  {
   "cell_type": "code",
   "execution_count": null,
   "metadata": {
    "collapsed": true
   },
   "outputs": [],
   "source": [
    "#demo3：另一种自加操作"
   ]
  },
  {
   "cell_type": "code",
   "execution_count": 20,
   "metadata": {},
   "outputs": [
    {
     "name": "stdout",
     "output_type": "stream",
     "text": [
      "<class 'tensorflow.python.ops.variables.Variable'>\n",
      "<class 'tensorflow.python.ops.variables.Variable'>\n"
     ]
    }
   ],
   "source": [
    "v = tf.Variable(3,name='v')\n",
    "print(type(v))\n",
    "update = tf.assign(v,v+1)#用这个操作保持v性质不变，并且自加\n",
    "print(type(v))\n",
    "v2 = v"
   ]
  },
  {
   "cell_type": "code",
   "execution_count": 24,
   "metadata": {},
   "outputs": [
    {
     "name": "stdout",
     "output_type": "stream",
     "text": [
      "3\n",
      "3\n",
      "update: 4\n",
      "4\n",
      "4\n"
     ]
    }
   ],
   "source": [
    "init = tf.global_variables_initializer()\n",
    "with tf.Session() as sess:\n",
    "    sess.run(init)\n",
    "    print(sess.run(v))\n",
    "    print(sess.run(v2))\n",
    "    print('update:',sess.run(update))\n",
    "    print(sess.run(v))\n",
    "    print(sess.run(v2))"
   ]
  },
  {
   "cell_type": "code",
   "execution_count": null,
   "metadata": {
    "collapsed": true
   },
   "outputs": [],
   "source": []
  }
 ],
 "metadata": {
  "kernelspec": {
   "display_name": "virtual py36",
   "language": "python",
   "name": "py36"
  },
  "language_info": {
   "codemirror_mode": {
    "name": "ipython",
    "version": 3
   },
   "file_extension": ".py",
   "mimetype": "text/x-python",
   "name": "python",
   "nbconvert_exporter": "python",
   "pygments_lexer": "ipython3",
   "version": "3.6.1"
  }
 },
 "nbformat": 4,
 "nbformat_minor": 2
}
