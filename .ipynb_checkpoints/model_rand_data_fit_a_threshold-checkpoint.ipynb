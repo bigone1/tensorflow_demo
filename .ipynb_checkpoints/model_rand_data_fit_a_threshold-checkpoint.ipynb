{
 "cells": [
  {
   "cell_type": "markdown",
   "metadata": {},
   "source": [
    "# 一个简单例子\n",
    "用到random seed和for循环和boolean表达式\n",
    "生成随机X，Y是两特征的和，小于1看作True，1,"
   ]
  },
  {
   "cell_type": "code",
   "execution_count": 1,
   "metadata": {
    "collapsed": true
   },
   "outputs": [],
   "source": [
    "import tensorflow as tf\n",
    "import numpy as np"
   ]
  },
  {
   "cell_type": "code",
   "execution_count": 2,
   "metadata": {
    "collapsed": true
   },
   "outputs": [],
   "source": [
    "BATCH_SIZE = 8\n",
    "DATA_SIZE = 32\n",
    "seed = 23455"
   ]
  },
  {
   "cell_type": "code",
   "execution_count": 3,
   "metadata": {},
   "outputs": [
    {
     "name": "stdout",
     "output_type": "stream",
     "text": [
      "<mtrand.RandomState object at 0x7f09748be558>\n",
      "<class 'mtrand.RandomState'>\n",
      "[[ 0.06727785  0.57784761]\n",
      " [ 0.38492705  0.48384792]\n",
      " [ 0.69234428  0.19687348]\n",
      " [ 0.42783492  0.73416985]\n",
      " [ 0.09696069  0.04883936]]\n"
     ]
    }
   ],
   "source": [
    "rng = np.random.RandomState(seed)\n",
    "print(rng)\n",
    "print(type(rng))\n",
    "X = rng.rand(DATA_SIZE,2)\n",
    "print(X[-5:])"
   ]
  },
  {
   "cell_type": "code",
   "execution_count": 4,
   "metadata": {},
   "outputs": [
    {
     "name": "stdout",
     "output_type": "stream",
     "text": [
      "[[1], [1], [1], [0], [1]]\n"
     ]
    }
   ],
   "source": [
    "#用表达式求Y的写法，不过这种写法也不算很好，毕竟很慢。但是这种判别式加赋值，能向量化吗？\n",
    "Y = [[int(x0 + x1 < 1)] for (x0, x1) in X]\n",
    "print(Y[-5:])"
   ]
  },
  {
   "cell_type": "code",
   "execution_count": 5,
   "metadata": {},
   "outputs": [],
   "source": [
    "#定义模型\n",
    "x = tf.placeholder(tf.float32, shape = (None, 2))\n",
    "y_ = tf.placeholder(tf.float32, shape = (None, 1))\n",
    "w1 = tf.Variable(tf.random_normal([2,3], stddev = 1, seed = 1))\n",
    "w2 = tf.Variable(tf.random_normal([3,1], stddev = 1, seed = 1))\n",
    "a = tf.matmul(x,w1)\n",
    "y = tf.matmul(a,w2)\n",
    "\n",
    "loss = tf.reduce_mean(tf.square(y-y_))\n",
    "train_step = tf.train.GradientDescentOptimizer(0.001).minimize(loss)"
   ]
  },
  {
   "cell_type": "code",
   "execution_count": 15,
   "metadata": {},
   "outputs": [
    {
     "name": "stdout",
     "output_type": "stream",
     "text": [
      "before train:\n",
      "w1: [[-0.81131822  1.48459876  0.06532937]\n",
      " [-2.44270396  0.0992484   0.59122431]]\n",
      "w2: [[-0.81131822]\n",
      " [ 1.48459876]\n",
      " [ 0.06532937]]\n",
      "loss is : 5.13118\n",
      "loss is : 0.429111\n",
      "loss is : 0.409789\n",
      "loss is : 0.399923\n",
      "loss is : 0.394146\n",
      "loss is : 0.390597\n",
      "after train:\n",
      "w1: [[-0.70006633  0.9136318   0.08953569]\n",
      " [-2.34024906 -0.1464127   0.58823055]]\n",
      "w2: [[-0.06024269]\n",
      " [ 0.91956186]\n",
      " [-0.06820712]]\n"
     ]
    }
   ],
   "source": [
    "with tf.Session() as sess:\n",
    "    init_op = tf.global_variables_initializer()\n",
    "    sess.run(init_op)\n",
    "    print('before train:\\nw1:',sess.run(w1))\n",
    "    print('w2:',sess.run(w2))\n",
    "    STEPS = 3000\n",
    "    for i in range(STEPS):\n",
    "        start = (i * BATCH_SIZE) % (DATA_SIZE)#数据集分成四batch。\n",
    "        end = start + BATCH_SIZE\n",
    "#         print('start:',start)\n",
    "#         print(len(Y))\n",
    "#         print(len(Y[0]))\n",
    "        sess.run(train_step,{x:X[start:end], y_:Y[start:end]})\n",
    "#         sess.run(train_step,{x:X[start:end], y:Y[start:end]})\n",
    "        if i % 500 == 0:\n",
    "            print('loss is :',sess.run(loss,{x:X,y_:Y}))\n",
    "        \n",
    "\n",
    "    print('after train:\\nw1:',sess.run(w1))\n",
    "    print('w2:',sess.run(w2))"
   ]
  },
  {
   "cell_type": "markdown",
   "metadata": {},
   "source": [
    "## 关于placeholder报错\n",
    "\n",
    "并没有定义过placeholder 'y'，但是如果直接使用y,不是提示没有y之类的，是说有负dimensions\n",
    "所以感觉还是有些默认规则\n",
    "原则上，这个字典应该是你自己随便传入的\n",
    "\n",
    "        sess.run(train_step,{x:X[start:end], y:Y[start:end]})\n",
    "        \n",
    "    InvalidArgumentError (see above for traceback): Shape [-1,1] has negative dimensions\n",
    "         [[Node: Placeholder_1 = Placeholder[dtype=DT_FLOAT, shape=[?,1], _device=\"/job:localhost/replica:0/task:0/cpu:0\"]()]]\n",
    "     \n",
    "     \n",
    "但是：\n",
    "\n",
    "sess.run(train_step,{x:X[start:end], y_:Y[start:end],y2:Y[start:end]})\n",
    "y我也没定义，为什么y的错误就和y2不一样？\n",
    "        \n",
    "     NameError: name 'y2' is not defined\n",
    "     \n",
    "原因：y是有定义的，不是placeholder\n",
    "\n",
    "    y = tf.matmul(a,w2)\n",
    "\n",
    "不报错：\n",
    "\n",
    "        sess.run(train_step,{x:X[start:end], y_:Y[start:end],y:Y[start:end]})\n",
    "报错：\n",
    "\n",
    "        sess.run(train_step,{x:X[start:end], y:Y[start:end]})\n",
    "所以这个错误的本质是，你没把y_这个placeholder填充起来，和负不负的没关系。        "
   ]
  },
  {
   "cell_type": "code",
   "execution_count": 62,
   "metadata": {},
   "outputs": [
    {
     "name": "stdout",
     "output_type": "stream",
     "text": [
      "[[ 0.83494319  0.11482951]\n",
      " [ 0.66899751  0.46594987]\n",
      " [ 0.60181666  0.58838408]\n",
      " [ 0.31836656  0.20502072]\n",
      " [ 0.87043944  0.02679395]\n",
      " [ 0.41539811  0.43938369]\n",
      " [ 0.68635684  0.24833404]\n",
      " [ 0.97315228  0.68541849]]\n",
      "8\n",
      "[[ 0.83494319  0.11482951]\n",
      " [ 0.66899751  0.46594987]\n",
      " [ 0.60181666  0.58838408]\n",
      " [ 0.31836656  0.20502072]\n",
      " [ 0.87043944  0.02679395]\n",
      " [ 0.41539811  0.43938369]\n",
      " [ 0.68635684  0.24833404]\n",
      " [ 0.97315228  0.68541849]]\n",
      "[[1], [0], [0], [1], [1], [1], [1], [0]]\n"
     ]
    }
   ],
   "source": [
    "print(X[start:end,:])\n",
    "print(len(X[start:end,:]))\n",
    "print((X[start:end]))\n",
    "print(Y[start:end])"
   ]
  },
  {
   "cell_type": "code",
   "execution_count": null,
   "metadata": {
    "collapsed": true
   },
   "outputs": [],
   "source": []
  },
  {
   "cell_type": "code",
   "execution_count": null,
   "metadata": {
    "collapsed": true
   },
   "outputs": [],
   "source": []
  },
  {
   "cell_type": "code",
   "execution_count": null,
   "metadata": {
    "collapsed": true
   },
   "outputs": [],
   "source": []
  },
  {
   "cell_type": "code",
   "execution_count": null,
   "metadata": {
    "collapsed": true
   },
   "outputs": [],
   "source": []
  },
  {
   "cell_type": "code",
   "execution_count": null,
   "metadata": {
    "collapsed": true
   },
   "outputs": [],
   "source": []
  },
  {
   "cell_type": "code",
   "execution_count": null,
   "metadata": {
    "collapsed": true
   },
   "outputs": [],
   "source": [
    "#好像除了写for循环，没其他办法把这个表达式得到的boolean类型转成int了\n",
    "#Y2 = int(X[:,0] + X[:,1] < 1)#不能直接给list转成int\n",
    "Y2 = X[:,0] + X[:,1] < 1\n",
    "#Y3 = list(Y2,dtype=int)\n",
    "Y3 = [int(i) for i in Y2]\n",
    "print(Y2)\n",
    "print(Y3)"
   ]
  },
  {
   "cell_type": "code",
   "execution_count": 30,
   "metadata": {},
   "outputs": [
    {
     "name": "stdout",
     "output_type": "stream",
     "text": [
      "Tensor(\"random_normal_3:0\", shape=(2, 3), dtype=float32)\n",
      "[[-0.81131822  1.48459876  0.06532937]\n",
      " [-2.44270396  0.0992484   0.59122431]]\n"
     ]
    }
   ],
   "source": [
    "#随机数测试\n",
    "ww = tf.random_normal([2,3],stddev=1,seed=1)\n",
    "print(ww)\n",
    "with tf.Session() as sess:\n",
    "    print(sess.run(ww))"
   ]
  },
  {
   "cell_type": "code",
   "execution_count": null,
   "metadata": {
    "collapsed": true
   },
   "outputs": [],
   "source": []
  }
 ],
 "metadata": {
  "kernelspec": {
   "display_name": "virtual py36",
   "language": "python",
   "name": "py36"
  },
  "language_info": {
   "codemirror_mode": {
    "name": "ipython",
    "version": 3
   },
   "file_extension": ".py",
   "mimetype": "text/x-python",
   "name": "python",
   "nbconvert_exporter": "python",
   "pygments_lexer": "ipython3",
   "version": "3.6.1"
  }
 },
 "nbformat": 4,
 "nbformat_minor": 2
}
