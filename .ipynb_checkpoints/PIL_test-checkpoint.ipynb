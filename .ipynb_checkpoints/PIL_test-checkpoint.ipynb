{
 "cells": [
  {
   "cell_type": "markdown",
   "metadata": {},
   "source": [
    "测PIL基本操作。"
   ]
  },
  {
   "cell_type": "code",
   "execution_count": null,
   "metadata": {
    "collapsed": true
   },
   "outputs": [],
   "source": [
    "from PIL import Image"
   ]
  },
  {
   "cell_type": "code",
   "execution_count": 41,
   "metadata": {},
   "outputs": [
    {
     "name": "stdout",
     "output_type": "stream",
     "text": [
      "RGB\n",
      "(610, 610)\n",
      "JPEG\n"
     ]
    }
   ],
   "source": [
    "img = Image.open('PIL_pic/8.jpg')#如果\n",
    "print(img.mode)\n",
    "print(img.size)\n",
    "print(img.format)\n",
    "img.show()\n",
    "img.save('PIL_pic/my_save1.png','png')#顺便还把格式给改了"
   ]
  },
  {
   "cell_type": "code",
   "execution_count": 16,
   "metadata": {
    "collapsed": true
   },
   "outputs": [],
   "source": [
    "img2 = Image.open('PIL_pic/my_save1.png')\n",
    "img2.show()"
   ]
  },
  {
   "cell_type": "code",
   "execution_count": 24,
   "metadata": {
    "collapsed": true
   },
   "outputs": [],
   "source": [
    "#新建一个图片\n",
    "createdImg = Image.new(\"RGBA\",(640,480), (0,255,0))\n",
    "createdImg.save(\"PIL_pic/my_created1.png\",'png')\n",
    "img3 = Image.open('PIL_pic/my_created1.png')\n",
    "img3.show()"
   ]
  },
  {
   "cell_type": "code",
   "execution_count": 12,
   "metadata": {
    "collapsed": true
   },
   "outputs": [],
   "source": [
    "#去锯齿\n",
    "#为什么去锯齿？不是放大才自然糙，缩小也有问题，违反常识？\n",
    "#估计就是原地缩放，没有隐藏的自动平滑处理，可能因为常识认为的理所应当的平滑其实是隐含操作。\n",
    "#原理分析，因为图形的轮廓不是规则的，比如一条曲线，这条曲线缩放之后肯定不能保持原来的曲度，会出现”错位“\n",
    "#所以这个抗锯齿很明显也是针对图形轮廓的优化操作，而不可能是像素之类的其他东西。。\n",
    "# resizedImg = img.resize((128,128), Image.ANTIALIAS)\n",
    "resizedImg = img.resize((128,128))#明显这个要糙很多。\n",
    "resizedImg.show()"
   ]
  },
  {
   "cell_type": "code",
   "execution_count": 15,
   "metadata": {},
   "outputs": [
    {
     "name": "stdout",
     "output_type": "stream",
     "text": [
      "RGB\n",
      "RGB\n",
      "RGBA\n"
     ]
    }
   ],
   "source": [
    "createdImg = Image.new(\"RGB\",(640,480), (0,255,0))\n",
    "print(createdImg.mode)\n",
    "convertedImg = createdImg.convert(\"RGBA\")#A是alpha\n",
    "print(createdImg.mode)#不改变自身，只return\n",
    "print(convertedImg.mode)"
   ]
  },
  {
   "cell_type": "code",
   "execution_count": 25,
   "metadata": {},
   "outputs": [
    {
     "name": "stdout",
     "output_type": "stream",
     "text": [
      "RGBA\n"
     ]
    }
   ],
   "source": [
    "#split:分割通道，不是分割像素!!\n",
    "img = Image.open('PIL_pic/my_save1.png')\n",
    "converted = img.convert('RGBA')#先转换类型，才能分成4个。\n",
    "print(converted.mode)\n",
    "img.show()\n",
    "bands = converted.split()\n",
    "rIm = bands[0]\n",
    "gIm = bands[1]\n",
    "bIm = bands[2]\n",
    "aIm = bands[3]\n",
    "#每一个都可以单独算一个图像，如果单通道的图层作为一整个图像，那么无论过去是什么颜色，现在像素值都代表灰度。\n",
    "rIm.show()\n",
    "gIm.show()\n",
    "bIm.show()\n",
    "aIm.show()"
   ]
  },
  {
   "cell_type": "code",
   "execution_count": 27,
   "metadata": {
    "collapsed": true
   },
   "outputs": [],
   "source": [
    "#合成原图\n",
    "mergedImg = Image.merge('RGBA', (rIm, gIm, bIm, aIm))\n",
    "mergedImg.save('PIL_pic/mergedImage.png','png')\n",
    "mergedImg.show()"
   ]
  },
  {
   "cell_type": "code",
   "execution_count": 34,
   "metadata": {},
   "outputs": [],
   "source": [
    "#粘贴合成：\n",
    "#背景图片调用，粘贴一个其他图片到背景的指定坐标下\n",
    "img = Image.open('PIL_pic/mergedImage.png')\n",
    "img = img.resize((200,200))#缩放一下，因为原图太大，比背景还大\n",
    "bg = Image.open('PIL_pic/my_created1.png')\n",
    "bg.paste(img,(30,10))\n",
    "bg.show()\n",
    "bg.save(\"PIL_pic/my_created1_paste_8.png\",'png')"
   ]
  },
  {
   "cell_type": "code",
   "execution_count": 35,
   "metadata": {
    "collapsed": true
   },
   "outputs": [],
   "source": [
    "img = Image.open(\"PIL_pic/my_created1_paste_8.png\")\n",
    "img.show()"
   ]
  },
  {
   "cell_type": "code",
   "execution_count": 40,
   "metadata": {},
   "outputs": [
    {
     "name": "stdout",
     "output_type": "stream",
     "text": [
      "(610, 610)\n"
     ]
    }
   ],
   "source": [
    "#拷贝图片\n",
    "#前边那是把图片a粘到b的指定区域，这个是把a的指定区域切出来，类似画图工具的选中\n",
    "img = Image.open('PIL_pic/mergedImage.png')\n",
    "print(img.size)\n",
    "bounds = (100,100,400,300)\n",
    "cuttedImg = img.crop(bounds)\n",
    "cuttedImg.show()\n",
    "cuttedImg.save(\"PIL_pic/cuttedImage.png\",'png')"
   ]
  },
  {
   "cell_type": "code",
   "execution_count": 46,
   "metadata": {
    "collapsed": true
   },
   "outputs": [],
   "source": [
    "#旋转图片\n",
    "img = Image.open('PIL_pic/mergedImage.png')\n",
    "rotatedImg = img.rotate(90)\n",
    "rotatedImg.show()\n",
    "rotatedImg.save('PIL_pic/rotatedImage.png','png')\n",
    "rotatedImg = img.rotate(270)#总共360,这是另一个方向的旋转\n",
    "rotatedImg.show()\n",
    "rotatedImg = img.rotate(135.4)#有零有整，都行\n",
    "rotatedImg.show()"
   ]
  },
  {
   "cell_type": "code",
   "execution_count": 68,
   "metadata": {},
   "outputs": [
    {
     "name": "stdout",
     "output_type": "stream",
     "text": [
      "(60, 60, 30)\n"
     ]
    }
   ],
   "source": [
    "#像素操作：\n",
    "#点操作，不明显,多做一些\n",
    "img = Image.new(\"RGB\",(640,480), (60,60,30))\n",
    "print(img.getpixel((10,10)))\n",
    "#画一条红色渐变线玩\n",
    "for i in range(200):\n",
    "    img.putpixel((i,i),(255 - i,0,0))\n",
    "for i in range(200):\n",
    "    img.putpixel((200,i),(255 - i,0,255 - i))#第一个是横坐标，这是竖线\n",
    "for i in range(200):\n",
    "    img.putpixel((200,200 + i),(0,0,255 - i))#\n",
    "for i in range(200):\n",
    "    img.putpixel((200 + i,200 + i),(0,255 - i,255 - i))#第\n",
    "for i in range(200):\n",
    "    img.putpixel((400,200 + i),(0,200 - i,233 - i))#\n",
    "for i in range(200):\n",
    "    img.putpixel((400, i),(0,0,50 + i))#\n",
    "for i in range(200):\n",
    "    img.putpixel((600, i),(140 + i,140 + i, 0))#红绿组成黄色\n",
    "    \n",
    "img.show()\n",
    "img.save('PIL_pic/putpixel1.png','png')"
   ]
  },
  {
   "cell_type": "code",
   "execution_count": 93,
   "metadata": {},
   "outputs": [
    {
     "name": "stdout",
     "output_type": "stream",
     "text": [
      "(60, 60, 30)\n",
      "<class 'PIL.ImageDraw.ImageDraw'>\n"
     ]
    }
   ],
   "source": [
    "from PIL import ImageDraw\n",
    "from PIL import ImageFont\n",
    "#刚才是用for循环划线，现在直接使用接口\n",
    "\n",
    "img = Image.new(\"RGB\",(640,480), (60,60,30))\n",
    "print(img.getpixel((10,10)))\n",
    "\n",
    "#直接在img原图上画\n",
    "draw = ImageDraw.Draw(img)\n",
    "print(type(draw))\n",
    "draw.line(((0,0),(300,400)),fill=(233,133,33))\n",
    "draw.line(((300,400),(100,200)),fill=(133,55,133))\n",
    "draw.arc((10,10,100,100), 0 , 360, fill = 255)#如果不写tuple，就是R的像素值\n",
    "draw.arc((20,20,120,120), 0 , 180, fill = (33,133,133))#如果写tuple，就是RGB。\n",
    "draw.text((200,200),'hello ImageDrage!!!!', fill = (233,233,133))\n",
    "#没有详细说明，也不知道哪个改大小，应该是font包含\n",
    "#font = ImageFont.truetype(\"Arial.ttf\",16)\n",
    "#OSError: cannot open resource\n",
    "draw.text((300,300),'hello ImageDrage!!!!', fill = (233,233,133),font = None)\n",
    "img.show()\n",
    "# draw.save('PIL_pic/draw1.png','png')"
   ]
  },
  {
   "cell_type": "code",
   "execution_count": 90,
   "metadata": {},
   "outputs": [
    {
     "name": "stdout",
     "output_type": "stream",
     "text": [
      "Help on method text in module PIL.ImageDraw:\n",
      "\n",
      "text(xy, text, fill=None, font=None, anchor=None, *args, **kwargs) method of PIL.ImageDraw.ImageDraw instance\n",
      "\n"
     ]
    }
   ],
   "source": []
  },
  {
   "cell_type": "code",
   "execution_count": null,
   "metadata": {
    "collapsed": true
   },
   "outputs": [],
   "source": []
  },
  {
   "cell_type": "code",
   "execution_count": null,
   "metadata": {
    "collapsed": true
   },
   "outputs": [],
   "source": []
  }
 ],
 "metadata": {
  "kernelspec": {
   "display_name": "virtual py36",
   "language": "python",
   "name": "py36"
  },
  "language_info": {
   "codemirror_mode": {
    "name": "ipython",
    "version": 3
   },
   "file_extension": ".py",
   "mimetype": "text/x-python",
   "name": "python",
   "nbconvert_exporter": "python",
   "pygments_lexer": "ipython3",
   "version": "3.6.1"
  }
 },
 "nbformat": 4,
 "nbformat_minor": 2
}
